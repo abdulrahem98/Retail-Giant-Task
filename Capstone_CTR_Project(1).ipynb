{
  "nbformat": 4,
  "nbformat_minor": 0,
  "metadata": {
    "colab": {
      "provenance": []
    },
    "kernelspec": {
      "name": "python3",
      "display_name": "Python 3"
    },
    "language_info": {
      "name": "python"
    }
  },
  "cells": [
    {
      "cell_type": "code",
      "execution_count": 1,
      "metadata": {
        "id": "R_24hDd_568i"
      },
      "outputs": [],
      "source": [
        "\n",
        "#Importing Fundimental libraries \n",
        "\n",
        "import numpy as np\n",
        "import pandas as pd\n",
        "\n",
        "import matplotlib.pyplot as plt\n",
        "%matplotlib inline\n",
        "import seaborn as sns \n",
        "\n",
        "#import warnings\n",
        "import warnings \n",
        "warnings.filterwarnings('ignore')"
      ]
    },
    {
      "cell_type": "code",
      "source": [
        "#read the data \n",
        "\n",
        "data = pd.read_csv('data(1).csv')"
      ],
      "metadata": {
        "id": "Q5m7jFEr6j2r"
      },
      "execution_count": 2,
      "outputs": []
    },
    {
      "cell_type": "code",
      "source": [
        "data.head(12)"
      ],
      "metadata": {
        "colab": {
          "base_uri": "https://localhost:8080/",
          "height": 519
        },
        "id": "E2aKuFrh6sTv",
        "outputId": "02939c76-d579-4de9-b353-75b3d0eec09d"
      },
      "execution_count": 3,
      "outputs": [
        {
          "output_type": "execute_result",
          "data": {
            "text/plain": [
              "    click    C1  banner_pos   site_id site_domain site_category    app_id  \\\n",
              "0   False  1005           1  856e6d3f    58a89a43      f028772b  ecad2386   \n",
              "1    True  1005           1  e151e245    7e091613      f028772b  ecad2386   \n",
              "2   False  1005           0  e3c09f3a    d262cf1e      28905ebd  ecad2386   \n",
              "3   False  1002           0  0da94452    248e439f      50e219e0  ecad2386   \n",
              "4    True  1005           0  1fbe01fe    f3845767      28905ebd  ecad2386   \n",
              "5   False  1005           1  d9750ee7    98572c79      f028772b  ecad2386   \n",
              "6   False  1005           0  83a0ad1a    5c9ae867      f028772b  ecad2386   \n",
              "7   False  1005           0  85f751fd    c4e18dd6      50e219e0  98fed791   \n",
              "8   False  1005           0  85f751fd    c4e18dd6      50e219e0  fc6dc16f   \n",
              "9   False  1005           0  1fbe01fe    f3845767      28905ebd  ecad2386   \n",
              "10  False  1005           0  1fbe01fe    f3845767      28905ebd  ecad2386   \n",
              "11  False  1005           1  57fe1b20    5b626596      f028772b  ecad2386   \n",
              "\n",
              "   app_domain app_category device_id  ...   C17 C18   C19     C20  C21  month  \\\n",
              "0    7801e8d9     07d7df22  a99f214a  ...  2528   0    39  100075  221     10   \n",
              "1    7801e8d9     07d7df22  a99f214a  ...  1934   2    39      -1   16     10   \n",
              "2    7801e8d9     07d7df22  a99f214a  ...  2552   3   167  100202   23     10   \n",
              "3    7801e8d9     07d7df22  0fa578fd  ...  2478   3   167  100074   23     10   \n",
              "4    7801e8d9     07d7df22  a99f214a  ...  1722   0    35      -1   79     10   \n",
              "5    7801e8d9     07d7df22  a99f214a  ...  1993   2  1063  100084   33     10   \n",
              "6    7801e8d9     07d7df22  a99f214a  ...  2680   3   815  100156   42     10   \n",
              "7    d9b5648e     0f2161f8  a99f214a  ...  2371   0   559  100217   46     10   \n",
              "8    5c5a694b     0f2161f8  848ff98a  ...  2340   3    41  100111  159     10   \n",
              "9    7801e8d9     07d7df22  a99f214a  ...  1722   0    35      -1   79     10   \n",
              "10   7801e8d9     07d7df22  a99f214a  ...  2524   0    35  100084  221     10   \n",
              "11   7801e8d9     07d7df22  a99f214a  ...  1780   0  1711  100077   48     10   \n",
              "\n",
              "    dayofweek  day  hour  y  \n",
              "0           1   28    14  0  \n",
              "1           2   22    19  1  \n",
              "2           3   23    18  0  \n",
              "3           2   22    19  0  \n",
              "4           1   21     8  1  \n",
              "5           3   30    17  0  \n",
              "6           3   30     7  0  \n",
              "7           3   30    10  0  \n",
              "8           5   25    15  0  \n",
              "9           4   24    16  0  \n",
              "10          2   22    13  0  \n",
              "11          6   26     4  0  \n",
              "\n",
              "[12 rows x 27 columns]"
            ],
            "text/html": [
              "\n",
              "  <div id=\"df-71ee7c5e-295b-4a15-a07b-8eb5ea0de873\">\n",
              "    <div class=\"colab-df-container\">\n",
              "      <div>\n",
              "<style scoped>\n",
              "    .dataframe tbody tr th:only-of-type {\n",
              "        vertical-align: middle;\n",
              "    }\n",
              "\n",
              "    .dataframe tbody tr th {\n",
              "        vertical-align: top;\n",
              "    }\n",
              "\n",
              "    .dataframe thead th {\n",
              "        text-align: right;\n",
              "    }\n",
              "</style>\n",
              "<table border=\"1\" class=\"dataframe\">\n",
              "  <thead>\n",
              "    <tr style=\"text-align: right;\">\n",
              "      <th></th>\n",
              "      <th>click</th>\n",
              "      <th>C1</th>\n",
              "      <th>banner_pos</th>\n",
              "      <th>site_id</th>\n",
              "      <th>site_domain</th>\n",
              "      <th>site_category</th>\n",
              "      <th>app_id</th>\n",
              "      <th>app_domain</th>\n",
              "      <th>app_category</th>\n",
              "      <th>device_id</th>\n",
              "      <th>...</th>\n",
              "      <th>C17</th>\n",
              "      <th>C18</th>\n",
              "      <th>C19</th>\n",
              "      <th>C20</th>\n",
              "      <th>C21</th>\n",
              "      <th>month</th>\n",
              "      <th>dayofweek</th>\n",
              "      <th>day</th>\n",
              "      <th>hour</th>\n",
              "      <th>y</th>\n",
              "    </tr>\n",
              "  </thead>\n",
              "  <tbody>\n",
              "    <tr>\n",
              "      <th>0</th>\n",
              "      <td>False</td>\n",
              "      <td>1005</td>\n",
              "      <td>1</td>\n",
              "      <td>856e6d3f</td>\n",
              "      <td>58a89a43</td>\n",
              "      <td>f028772b</td>\n",
              "      <td>ecad2386</td>\n",
              "      <td>7801e8d9</td>\n",
              "      <td>07d7df22</td>\n",
              "      <td>a99f214a</td>\n",
              "      <td>...</td>\n",
              "      <td>2528</td>\n",
              "      <td>0</td>\n",
              "      <td>39</td>\n",
              "      <td>100075</td>\n",
              "      <td>221</td>\n",
              "      <td>10</td>\n",
              "      <td>1</td>\n",
              "      <td>28</td>\n",
              "      <td>14</td>\n",
              "      <td>0</td>\n",
              "    </tr>\n",
              "    <tr>\n",
              "      <th>1</th>\n",
              "      <td>True</td>\n",
              "      <td>1005</td>\n",
              "      <td>1</td>\n",
              "      <td>e151e245</td>\n",
              "      <td>7e091613</td>\n",
              "      <td>f028772b</td>\n",
              "      <td>ecad2386</td>\n",
              "      <td>7801e8d9</td>\n",
              "      <td>07d7df22</td>\n",
              "      <td>a99f214a</td>\n",
              "      <td>...</td>\n",
              "      <td>1934</td>\n",
              "      <td>2</td>\n",
              "      <td>39</td>\n",
              "      <td>-1</td>\n",
              "      <td>16</td>\n",
              "      <td>10</td>\n",
              "      <td>2</td>\n",
              "      <td>22</td>\n",
              "      <td>19</td>\n",
              "      <td>1</td>\n",
              "    </tr>\n",
              "    <tr>\n",
              "      <th>2</th>\n",
              "      <td>False</td>\n",
              "      <td>1005</td>\n",
              "      <td>0</td>\n",
              "      <td>e3c09f3a</td>\n",
              "      <td>d262cf1e</td>\n",
              "      <td>28905ebd</td>\n",
              "      <td>ecad2386</td>\n",
              "      <td>7801e8d9</td>\n",
              "      <td>07d7df22</td>\n",
              "      <td>a99f214a</td>\n",
              "      <td>...</td>\n",
              "      <td>2552</td>\n",
              "      <td>3</td>\n",
              "      <td>167</td>\n",
              "      <td>100202</td>\n",
              "      <td>23</td>\n",
              "      <td>10</td>\n",
              "      <td>3</td>\n",
              "      <td>23</td>\n",
              "      <td>18</td>\n",
              "      <td>0</td>\n",
              "    </tr>\n",
              "    <tr>\n",
              "      <th>3</th>\n",
              "      <td>False</td>\n",
              "      <td>1002</td>\n",
              "      <td>0</td>\n",
              "      <td>0da94452</td>\n",
              "      <td>248e439f</td>\n",
              "      <td>50e219e0</td>\n",
              "      <td>ecad2386</td>\n",
              "      <td>7801e8d9</td>\n",
              "      <td>07d7df22</td>\n",
              "      <td>0fa578fd</td>\n",
              "      <td>...</td>\n",
              "      <td>2478</td>\n",
              "      <td>3</td>\n",
              "      <td>167</td>\n",
              "      <td>100074</td>\n",
              "      <td>23</td>\n",
              "      <td>10</td>\n",
              "      <td>2</td>\n",
              "      <td>22</td>\n",
              "      <td>19</td>\n",
              "      <td>0</td>\n",
              "    </tr>\n",
              "    <tr>\n",
              "      <th>4</th>\n",
              "      <td>True</td>\n",
              "      <td>1005</td>\n",
              "      <td>0</td>\n",
              "      <td>1fbe01fe</td>\n",
              "      <td>f3845767</td>\n",
              "      <td>28905ebd</td>\n",
              "      <td>ecad2386</td>\n",
              "      <td>7801e8d9</td>\n",
              "      <td>07d7df22</td>\n",
              "      <td>a99f214a</td>\n",
              "      <td>...</td>\n",
              "      <td>1722</td>\n",
              "      <td>0</td>\n",
              "      <td>35</td>\n",
              "      <td>-1</td>\n",
              "      <td>79</td>\n",
              "      <td>10</td>\n",
              "      <td>1</td>\n",
              "      <td>21</td>\n",
              "      <td>8</td>\n",
              "      <td>1</td>\n",
              "    </tr>\n",
              "    <tr>\n",
              "      <th>5</th>\n",
              "      <td>False</td>\n",
              "      <td>1005</td>\n",
              "      <td>1</td>\n",
              "      <td>d9750ee7</td>\n",
              "      <td>98572c79</td>\n",
              "      <td>f028772b</td>\n",
              "      <td>ecad2386</td>\n",
              "      <td>7801e8d9</td>\n",
              "      <td>07d7df22</td>\n",
              "      <td>a99f214a</td>\n",
              "      <td>...</td>\n",
              "      <td>1993</td>\n",
              "      <td>2</td>\n",
              "      <td>1063</td>\n",
              "      <td>100084</td>\n",
              "      <td>33</td>\n",
              "      <td>10</td>\n",
              "      <td>3</td>\n",
              "      <td>30</td>\n",
              "      <td>17</td>\n",
              "      <td>0</td>\n",
              "    </tr>\n",
              "    <tr>\n",
              "      <th>6</th>\n",
              "      <td>False</td>\n",
              "      <td>1005</td>\n",
              "      <td>0</td>\n",
              "      <td>83a0ad1a</td>\n",
              "      <td>5c9ae867</td>\n",
              "      <td>f028772b</td>\n",
              "      <td>ecad2386</td>\n",
              "      <td>7801e8d9</td>\n",
              "      <td>07d7df22</td>\n",
              "      <td>a99f214a</td>\n",
              "      <td>...</td>\n",
              "      <td>2680</td>\n",
              "      <td>3</td>\n",
              "      <td>815</td>\n",
              "      <td>100156</td>\n",
              "      <td>42</td>\n",
              "      <td>10</td>\n",
              "      <td>3</td>\n",
              "      <td>30</td>\n",
              "      <td>7</td>\n",
              "      <td>0</td>\n",
              "    </tr>\n",
              "    <tr>\n",
              "      <th>7</th>\n",
              "      <td>False</td>\n",
              "      <td>1005</td>\n",
              "      <td>0</td>\n",
              "      <td>85f751fd</td>\n",
              "      <td>c4e18dd6</td>\n",
              "      <td>50e219e0</td>\n",
              "      <td>98fed791</td>\n",
              "      <td>d9b5648e</td>\n",
              "      <td>0f2161f8</td>\n",
              "      <td>a99f214a</td>\n",
              "      <td>...</td>\n",
              "      <td>2371</td>\n",
              "      <td>0</td>\n",
              "      <td>559</td>\n",
              "      <td>100217</td>\n",
              "      <td>46</td>\n",
              "      <td>10</td>\n",
              "      <td>3</td>\n",
              "      <td>30</td>\n",
              "      <td>10</td>\n",
              "      <td>0</td>\n",
              "    </tr>\n",
              "    <tr>\n",
              "      <th>8</th>\n",
              "      <td>False</td>\n",
              "      <td>1005</td>\n",
              "      <td>0</td>\n",
              "      <td>85f751fd</td>\n",
              "      <td>c4e18dd6</td>\n",
              "      <td>50e219e0</td>\n",
              "      <td>fc6dc16f</td>\n",
              "      <td>5c5a694b</td>\n",
              "      <td>0f2161f8</td>\n",
              "      <td>848ff98a</td>\n",
              "      <td>...</td>\n",
              "      <td>2340</td>\n",
              "      <td>3</td>\n",
              "      <td>41</td>\n",
              "      <td>100111</td>\n",
              "      <td>159</td>\n",
              "      <td>10</td>\n",
              "      <td>5</td>\n",
              "      <td>25</td>\n",
              "      <td>15</td>\n",
              "      <td>0</td>\n",
              "    </tr>\n",
              "    <tr>\n",
              "      <th>9</th>\n",
              "      <td>False</td>\n",
              "      <td>1005</td>\n",
              "      <td>0</td>\n",
              "      <td>1fbe01fe</td>\n",
              "      <td>f3845767</td>\n",
              "      <td>28905ebd</td>\n",
              "      <td>ecad2386</td>\n",
              "      <td>7801e8d9</td>\n",
              "      <td>07d7df22</td>\n",
              "      <td>a99f214a</td>\n",
              "      <td>...</td>\n",
              "      <td>1722</td>\n",
              "      <td>0</td>\n",
              "      <td>35</td>\n",
              "      <td>-1</td>\n",
              "      <td>79</td>\n",
              "      <td>10</td>\n",
              "      <td>4</td>\n",
              "      <td>24</td>\n",
              "      <td>16</td>\n",
              "      <td>0</td>\n",
              "    </tr>\n",
              "    <tr>\n",
              "      <th>10</th>\n",
              "      <td>False</td>\n",
              "      <td>1005</td>\n",
              "      <td>0</td>\n",
              "      <td>1fbe01fe</td>\n",
              "      <td>f3845767</td>\n",
              "      <td>28905ebd</td>\n",
              "      <td>ecad2386</td>\n",
              "      <td>7801e8d9</td>\n",
              "      <td>07d7df22</td>\n",
              "      <td>a99f214a</td>\n",
              "      <td>...</td>\n",
              "      <td>2524</td>\n",
              "      <td>0</td>\n",
              "      <td>35</td>\n",
              "      <td>100084</td>\n",
              "      <td>221</td>\n",
              "      <td>10</td>\n",
              "      <td>2</td>\n",
              "      <td>22</td>\n",
              "      <td>13</td>\n",
              "      <td>0</td>\n",
              "    </tr>\n",
              "    <tr>\n",
              "      <th>11</th>\n",
              "      <td>False</td>\n",
              "      <td>1005</td>\n",
              "      <td>1</td>\n",
              "      <td>57fe1b20</td>\n",
              "      <td>5b626596</td>\n",
              "      <td>f028772b</td>\n",
              "      <td>ecad2386</td>\n",
              "      <td>7801e8d9</td>\n",
              "      <td>07d7df22</td>\n",
              "      <td>a99f214a</td>\n",
              "      <td>...</td>\n",
              "      <td>1780</td>\n",
              "      <td>0</td>\n",
              "      <td>1711</td>\n",
              "      <td>100077</td>\n",
              "      <td>48</td>\n",
              "      <td>10</td>\n",
              "      <td>6</td>\n",
              "      <td>26</td>\n",
              "      <td>4</td>\n",
              "      <td>0</td>\n",
              "    </tr>\n",
              "  </tbody>\n",
              "</table>\n",
              "<p>12 rows × 27 columns</p>\n",
              "</div>\n",
              "      <button class=\"colab-df-convert\" onclick=\"convertToInteractive('df-71ee7c5e-295b-4a15-a07b-8eb5ea0de873')\"\n",
              "              title=\"Convert this dataframe to an interactive table.\"\n",
              "              style=\"display:none;\">\n",
              "        \n",
              "  <svg xmlns=\"http://www.w3.org/2000/svg\" height=\"24px\"viewBox=\"0 0 24 24\"\n",
              "       width=\"24px\">\n",
              "    <path d=\"M0 0h24v24H0V0z\" fill=\"none\"/>\n",
              "    <path d=\"M18.56 5.44l.94 2.06.94-2.06 2.06-.94-2.06-.94-.94-2.06-.94 2.06-2.06.94zm-11 1L8.5 8.5l.94-2.06 2.06-.94-2.06-.94L8.5 2.5l-.94 2.06-2.06.94zm10 10l.94 2.06.94-2.06 2.06-.94-2.06-.94-.94-2.06-.94 2.06-2.06.94z\"/><path d=\"M17.41 7.96l-1.37-1.37c-.4-.4-.92-.59-1.43-.59-.52 0-1.04.2-1.43.59L10.3 9.45l-7.72 7.72c-.78.78-.78 2.05 0 2.83L4 21.41c.39.39.9.59 1.41.59.51 0 1.02-.2 1.41-.59l7.78-7.78 2.81-2.81c.8-.78.8-2.07 0-2.86zM5.41 20L4 18.59l7.72-7.72 1.47 1.35L5.41 20z\"/>\n",
              "  </svg>\n",
              "      </button>\n",
              "      \n",
              "  <style>\n",
              "    .colab-df-container {\n",
              "      display:flex;\n",
              "      flex-wrap:wrap;\n",
              "      gap: 12px;\n",
              "    }\n",
              "\n",
              "    .colab-df-convert {\n",
              "      background-color: #E8F0FE;\n",
              "      border: none;\n",
              "      border-radius: 50%;\n",
              "      cursor: pointer;\n",
              "      display: none;\n",
              "      fill: #1967D2;\n",
              "      height: 32px;\n",
              "      padding: 0 0 0 0;\n",
              "      width: 32px;\n",
              "    }\n",
              "\n",
              "    .colab-df-convert:hover {\n",
              "      background-color: #E2EBFA;\n",
              "      box-shadow: 0px 1px 2px rgba(60, 64, 67, 0.3), 0px 1px 3px 1px rgba(60, 64, 67, 0.15);\n",
              "      fill: #174EA6;\n",
              "    }\n",
              "\n",
              "    [theme=dark] .colab-df-convert {\n",
              "      background-color: #3B4455;\n",
              "      fill: #D2E3FC;\n",
              "    }\n",
              "\n",
              "    [theme=dark] .colab-df-convert:hover {\n",
              "      background-color: #434B5C;\n",
              "      box-shadow: 0px 1px 3px 1px rgba(0, 0, 0, 0.15);\n",
              "      filter: drop-shadow(0px 1px 2px rgba(0, 0, 0, 0.3));\n",
              "      fill: #FFFFFF;\n",
              "    }\n",
              "  </style>\n",
              "\n",
              "      <script>\n",
              "        const buttonEl =\n",
              "          document.querySelector('#df-71ee7c5e-295b-4a15-a07b-8eb5ea0de873 button.colab-df-convert');\n",
              "        buttonEl.style.display =\n",
              "          google.colab.kernel.accessAllowed ? 'block' : 'none';\n",
              "\n",
              "        async function convertToInteractive(key) {\n",
              "          const element = document.querySelector('#df-71ee7c5e-295b-4a15-a07b-8eb5ea0de873');\n",
              "          const dataTable =\n",
              "            await google.colab.kernel.invokeFunction('convertToInteractive',\n",
              "                                                     [key], {});\n",
              "          if (!dataTable) return;\n",
              "\n",
              "          const docLinkHtml = 'Like what you see? Visit the ' +\n",
              "            '<a target=\"_blank\" href=https://colab.research.google.com/notebooks/data_table.ipynb>data table notebook</a>'\n",
              "            + ' to learn more about interactive tables.';\n",
              "          element.innerHTML = '';\n",
              "          dataTable['output_type'] = 'display_data';\n",
              "          await google.colab.output.renderOutput(dataTable, element);\n",
              "          const docLink = document.createElement('div');\n",
              "          docLink.innerHTML = docLinkHtml;\n",
              "          element.appendChild(docLink);\n",
              "        }\n",
              "      </script>\n",
              "    </div>\n",
              "  </div>\n",
              "  "
            ]
          },
          "metadata": {},
          "execution_count": 3
        }
      ]
    },
    {
      "cell_type": "code",
      "source": [
        "data.info()"
      ],
      "metadata": {
        "colab": {
          "base_uri": "https://localhost:8080/"
        },
        "id": "4wAArCEp6t6K",
        "outputId": "f886cc18-cbe8-4c75-8abe-1c028176c046"
      },
      "execution_count": 4,
      "outputs": [
        {
          "output_type": "stream",
          "name": "stdout",
          "text": [
            "<class 'pandas.core.frame.DataFrame'>\n",
            "RangeIndex: 99999 entries, 0 to 99998\n",
            "Data columns (total 27 columns):\n",
            " #   Column            Non-Null Count  Dtype \n",
            "---  ------            --------------  ----- \n",
            " 0   click             99999 non-null  bool  \n",
            " 1   C1                99999 non-null  int64 \n",
            " 2   banner_pos        99999 non-null  int64 \n",
            " 3   site_id           99999 non-null  object\n",
            " 4   site_domain       99999 non-null  object\n",
            " 5   site_category     99999 non-null  object\n",
            " 6   app_id            99999 non-null  object\n",
            " 7   app_domain        99999 non-null  object\n",
            " 8   app_category      99999 non-null  object\n",
            " 9   device_id         99999 non-null  object\n",
            " 10  device_ip         99999 non-null  object\n",
            " 11  device_model      99999 non-null  object\n",
            " 12  device_type       99999 non-null  int64 \n",
            " 13  device_conn_type  99999 non-null  int64 \n",
            " 14  C14               99999 non-null  int64 \n",
            " 15  C15               99999 non-null  int64 \n",
            " 16  C16               99999 non-null  int64 \n",
            " 17  C17               99999 non-null  int64 \n",
            " 18  C18               99999 non-null  int64 \n",
            " 19  C19               99999 non-null  int64 \n",
            " 20  C20               99999 non-null  int64 \n",
            " 21  C21               99999 non-null  int64 \n",
            " 22  month             99999 non-null  int64 \n",
            " 23  dayofweek         99999 non-null  int64 \n",
            " 24  day               99999 non-null  int64 \n",
            " 25  hour              99999 non-null  int64 \n",
            " 26  y                 99999 non-null  int64 \n",
            "dtypes: bool(1), int64(17), object(9)\n",
            "memory usage: 19.9+ MB\n"
          ]
        }
      ]
    },
    {
      "cell_type": "code",
      "source": [
        "#Data type of each column \n",
        "data.dtypes"
      ],
      "metadata": {
        "colab": {
          "base_uri": "https://localhost:8080/"
        },
        "id": "_YOlvVTL6vLE",
        "outputId": "397eb2a7-deb0-472a-d6fa-1ed1809bd4a0"
      },
      "execution_count": 5,
      "outputs": [
        {
          "output_type": "execute_result",
          "data": {
            "text/plain": [
              "click                 bool\n",
              "C1                   int64\n",
              "banner_pos           int64\n",
              "site_id             object\n",
              "site_domain         object\n",
              "site_category       object\n",
              "app_id              object\n",
              "app_domain          object\n",
              "app_category        object\n",
              "device_id           object\n",
              "device_ip           object\n",
              "device_model        object\n",
              "device_type          int64\n",
              "device_conn_type     int64\n",
              "C14                  int64\n",
              "C15                  int64\n",
              "C16                  int64\n",
              "C17                  int64\n",
              "C18                  int64\n",
              "C19                  int64\n",
              "C20                  int64\n",
              "C21                  int64\n",
              "month                int64\n",
              "dayofweek            int64\n",
              "day                  int64\n",
              "hour                 int64\n",
              "y                    int64\n",
              "dtype: object"
            ]
          },
          "metadata": {},
          "execution_count": 5
        }
      ]
    },
    {
      "cell_type": "code",
      "source": [
        "# Number of rows and columns \n",
        "\n",
        "data.shape"
      ],
      "metadata": {
        "colab": {
          "base_uri": "https://localhost:8080/"
        },
        "id": "8eLy7ozC6yt1",
        "outputId": "123b766e-59c3-4486-9bf1-48b199cd7103"
      },
      "execution_count": 6,
      "outputs": [
        {
          "output_type": "execute_result",
          "data": {
            "text/plain": [
              "(99999, 27)"
            ]
          },
          "metadata": {},
          "execution_count": 6
        }
      ]
    },
    {
      "cell_type": "code",
      "source": [
        "#missing values Count\n",
        "data.isnull().sum()"
      ],
      "metadata": {
        "colab": {
          "base_uri": "https://localhost:8080/"
        },
        "id": "5uBGouXp7Iix",
        "outputId": "cee3da78-3ff6-47a4-c2f0-0fed972e8120"
      },
      "execution_count": 7,
      "outputs": [
        {
          "output_type": "execute_result",
          "data": {
            "text/plain": [
              "click               0\n",
              "C1                  0\n",
              "banner_pos          0\n",
              "site_id             0\n",
              "site_domain         0\n",
              "site_category       0\n",
              "app_id              0\n",
              "app_domain          0\n",
              "app_category        0\n",
              "device_id           0\n",
              "device_ip           0\n",
              "device_model        0\n",
              "device_type         0\n",
              "device_conn_type    0\n",
              "C14                 0\n",
              "C15                 0\n",
              "C16                 0\n",
              "C17                 0\n",
              "C18                 0\n",
              "C19                 0\n",
              "C20                 0\n",
              "C21                 0\n",
              "month               0\n",
              "dayofweek           0\n",
              "day                 0\n",
              "hour                0\n",
              "y                   0\n",
              "dtype: int64"
            ]
          },
          "metadata": {},
          "execution_count": 7
        }
      ]
    },
    {
      "cell_type": "markdown",
      "source": [
        "No null values is found"
      ],
      "metadata": {
        "id": "ww3yUU_y8Eto"
      }
    },
    {
      "cell_type": "code",
      "source": [
        "#Number of Clicks \n",
        "\n",
        "data.click.value_counts()"
      ],
      "metadata": {
        "colab": {
          "base_uri": "https://localhost:8080/"
        },
        "id": "KeS-2-NE7-Jm",
        "outputId": "8e1c9042-1d66-4dc9-b3ad-4ebc5533f832"
      },
      "execution_count": 8,
      "outputs": [
        {
          "output_type": "execute_result",
          "data": {
            "text/plain": [
              "False    83019\n",
              "True     16980\n",
              "Name: click, dtype: int64"
            ]
          },
          "metadata": {},
          "execution_count": 8
        }
      ]
    },
    {
      "cell_type": "code",
      "source": [
        "#Number of True and false in Y\n",
        "\n",
        "data.y.value_counts()"
      ],
      "metadata": {
        "colab": {
          "base_uri": "https://localhost:8080/"
        },
        "id": "5nzHfqiF9KFp",
        "outputId": "d73789a8-63c1-48ac-ea14-9d2003494e6c"
      },
      "execution_count": 9,
      "outputs": [
        {
          "output_type": "execute_result",
          "data": {
            "text/plain": [
              "0    83019\n",
              "1    16980\n",
              "Name: y, dtype: int64"
            ]
          },
          "metadata": {},
          "execution_count": 9
        }
      ]
    },
    {
      "cell_type": "code",
      "source": [
        "#percentage value of both clicks and y's\n",
        "data.click.value_counts()/len(data)*100"
      ],
      "metadata": {
        "colab": {
          "base_uri": "https://localhost:8080/"
        },
        "id": "f6_ZbEFZ9u6P",
        "outputId": "cd87f4dc-5574-4bc5-d237-9ddbdc87b358"
      },
      "execution_count": 10,
      "outputs": [
        {
          "output_type": "execute_result",
          "data": {
            "text/plain": [
              "False    83.01983\n",
              "True     16.98017\n",
              "Name: click, dtype: float64"
            ]
          },
          "metadata": {},
          "execution_count": 10
        }
      ]
    },
    {
      "cell_type": "code",
      "source": [
        "data.y.value_counts()/len(data)*100"
      ],
      "metadata": {
        "colab": {
          "base_uri": "https://localhost:8080/"
        },
        "id": "cOFHGFc598sx",
        "outputId": "b39ae90c-2705-4f0b-be68-a61d37538747"
      },
      "execution_count": 11,
      "outputs": [
        {
          "output_type": "execute_result",
          "data": {
            "text/plain": [
              "0    83.01983\n",
              "1    16.98017\n",
              "Name: y, dtype: float64"
            ]
          },
          "metadata": {},
          "execution_count": 11
        }
      ]
    },
    {
      "cell_type": "code",
      "source": [
        "#dropping click month device_ip\n",
        "\n",
        "data = data.drop(['click','month','device_ip'],axis = 1)"
      ],
      "metadata": {
        "id": "hVwPtrBE-Bv3"
      },
      "execution_count": 12,
      "outputs": []
    },
    {
      "cell_type": "code",
      "source": [
        "data.head()"
      ],
      "metadata": {
        "colab": {
          "base_uri": "https://localhost:8080/",
          "height": 299
        },
        "id": "-76PK7oZ-kY6",
        "outputId": "4afd8e67-c8ac-440f-e149-a2bc8642e83c"
      },
      "execution_count": 13,
      "outputs": [
        {
          "output_type": "execute_result",
          "data": {
            "text/plain": [
              "     C1  banner_pos   site_id site_domain site_category    app_id app_domain  \\\n",
              "0  1005           1  856e6d3f    58a89a43      f028772b  ecad2386   7801e8d9   \n",
              "1  1005           1  e151e245    7e091613      f028772b  ecad2386   7801e8d9   \n",
              "2  1005           0  e3c09f3a    d262cf1e      28905ebd  ecad2386   7801e8d9   \n",
              "3  1002           0  0da94452    248e439f      50e219e0  ecad2386   7801e8d9   \n",
              "4  1005           0  1fbe01fe    f3845767      28905ebd  ecad2386   7801e8d9   \n",
              "\n",
              "  app_category device_id device_model  ...  C16   C17  C18  C19     C20  C21  \\\n",
              "0     07d7df22  a99f214a     be6db1d7  ...   50  2528    0   39  100075  221   \n",
              "1     07d7df22  a99f214a     1b13b020  ...   50  1934    2   39      -1   16   \n",
              "2     07d7df22  a99f214a     9a45a8e8  ...   50  2552    3  167  100202   23   \n",
              "3     07d7df22  0fa578fd     ea6abc60  ...   50  2478    3  167  100074   23   \n",
              "4     07d7df22  a99f214a     36d749e5  ...   50  1722    0   35      -1   79   \n",
              "\n",
              "   dayofweek  day  hour  y  \n",
              "0          1   28    14  0  \n",
              "1          2   22    19  1  \n",
              "2          3   23    18  0  \n",
              "3          2   22    19  0  \n",
              "4          1   21     8  1  \n",
              "\n",
              "[5 rows x 24 columns]"
            ],
            "text/html": [
              "\n",
              "  <div id=\"df-b2b9dfc3-4d69-4150-9fb0-31d04d67a956\">\n",
              "    <div class=\"colab-df-container\">\n",
              "      <div>\n",
              "<style scoped>\n",
              "    .dataframe tbody tr th:only-of-type {\n",
              "        vertical-align: middle;\n",
              "    }\n",
              "\n",
              "    .dataframe tbody tr th {\n",
              "        vertical-align: top;\n",
              "    }\n",
              "\n",
              "    .dataframe thead th {\n",
              "        text-align: right;\n",
              "    }\n",
              "</style>\n",
              "<table border=\"1\" class=\"dataframe\">\n",
              "  <thead>\n",
              "    <tr style=\"text-align: right;\">\n",
              "      <th></th>\n",
              "      <th>C1</th>\n",
              "      <th>banner_pos</th>\n",
              "      <th>site_id</th>\n",
              "      <th>site_domain</th>\n",
              "      <th>site_category</th>\n",
              "      <th>app_id</th>\n",
              "      <th>app_domain</th>\n",
              "      <th>app_category</th>\n",
              "      <th>device_id</th>\n",
              "      <th>device_model</th>\n",
              "      <th>...</th>\n",
              "      <th>C16</th>\n",
              "      <th>C17</th>\n",
              "      <th>C18</th>\n",
              "      <th>C19</th>\n",
              "      <th>C20</th>\n",
              "      <th>C21</th>\n",
              "      <th>dayofweek</th>\n",
              "      <th>day</th>\n",
              "      <th>hour</th>\n",
              "      <th>y</th>\n",
              "    </tr>\n",
              "  </thead>\n",
              "  <tbody>\n",
              "    <tr>\n",
              "      <th>0</th>\n",
              "      <td>1005</td>\n",
              "      <td>1</td>\n",
              "      <td>856e6d3f</td>\n",
              "      <td>58a89a43</td>\n",
              "      <td>f028772b</td>\n",
              "      <td>ecad2386</td>\n",
              "      <td>7801e8d9</td>\n",
              "      <td>07d7df22</td>\n",
              "      <td>a99f214a</td>\n",
              "      <td>be6db1d7</td>\n",
              "      <td>...</td>\n",
              "      <td>50</td>\n",
              "      <td>2528</td>\n",
              "      <td>0</td>\n",
              "      <td>39</td>\n",
              "      <td>100075</td>\n",
              "      <td>221</td>\n",
              "      <td>1</td>\n",
              "      <td>28</td>\n",
              "      <td>14</td>\n",
              "      <td>0</td>\n",
              "    </tr>\n",
              "    <tr>\n",
              "      <th>1</th>\n",
              "      <td>1005</td>\n",
              "      <td>1</td>\n",
              "      <td>e151e245</td>\n",
              "      <td>7e091613</td>\n",
              "      <td>f028772b</td>\n",
              "      <td>ecad2386</td>\n",
              "      <td>7801e8d9</td>\n",
              "      <td>07d7df22</td>\n",
              "      <td>a99f214a</td>\n",
              "      <td>1b13b020</td>\n",
              "      <td>...</td>\n",
              "      <td>50</td>\n",
              "      <td>1934</td>\n",
              "      <td>2</td>\n",
              "      <td>39</td>\n",
              "      <td>-1</td>\n",
              "      <td>16</td>\n",
              "      <td>2</td>\n",
              "      <td>22</td>\n",
              "      <td>19</td>\n",
              "      <td>1</td>\n",
              "    </tr>\n",
              "    <tr>\n",
              "      <th>2</th>\n",
              "      <td>1005</td>\n",
              "      <td>0</td>\n",
              "      <td>e3c09f3a</td>\n",
              "      <td>d262cf1e</td>\n",
              "      <td>28905ebd</td>\n",
              "      <td>ecad2386</td>\n",
              "      <td>7801e8d9</td>\n",
              "      <td>07d7df22</td>\n",
              "      <td>a99f214a</td>\n",
              "      <td>9a45a8e8</td>\n",
              "      <td>...</td>\n",
              "      <td>50</td>\n",
              "      <td>2552</td>\n",
              "      <td>3</td>\n",
              "      <td>167</td>\n",
              "      <td>100202</td>\n",
              "      <td>23</td>\n",
              "      <td>3</td>\n",
              "      <td>23</td>\n",
              "      <td>18</td>\n",
              "      <td>0</td>\n",
              "    </tr>\n",
              "    <tr>\n",
              "      <th>3</th>\n",
              "      <td>1002</td>\n",
              "      <td>0</td>\n",
              "      <td>0da94452</td>\n",
              "      <td>248e439f</td>\n",
              "      <td>50e219e0</td>\n",
              "      <td>ecad2386</td>\n",
              "      <td>7801e8d9</td>\n",
              "      <td>07d7df22</td>\n",
              "      <td>0fa578fd</td>\n",
              "      <td>ea6abc60</td>\n",
              "      <td>...</td>\n",
              "      <td>50</td>\n",
              "      <td>2478</td>\n",
              "      <td>3</td>\n",
              "      <td>167</td>\n",
              "      <td>100074</td>\n",
              "      <td>23</td>\n",
              "      <td>2</td>\n",
              "      <td>22</td>\n",
              "      <td>19</td>\n",
              "      <td>0</td>\n",
              "    </tr>\n",
              "    <tr>\n",
              "      <th>4</th>\n",
              "      <td>1005</td>\n",
              "      <td>0</td>\n",
              "      <td>1fbe01fe</td>\n",
              "      <td>f3845767</td>\n",
              "      <td>28905ebd</td>\n",
              "      <td>ecad2386</td>\n",
              "      <td>7801e8d9</td>\n",
              "      <td>07d7df22</td>\n",
              "      <td>a99f214a</td>\n",
              "      <td>36d749e5</td>\n",
              "      <td>...</td>\n",
              "      <td>50</td>\n",
              "      <td>1722</td>\n",
              "      <td>0</td>\n",
              "      <td>35</td>\n",
              "      <td>-1</td>\n",
              "      <td>79</td>\n",
              "      <td>1</td>\n",
              "      <td>21</td>\n",
              "      <td>8</td>\n",
              "      <td>1</td>\n",
              "    </tr>\n",
              "  </tbody>\n",
              "</table>\n",
              "<p>5 rows × 24 columns</p>\n",
              "</div>\n",
              "      <button class=\"colab-df-convert\" onclick=\"convertToInteractive('df-b2b9dfc3-4d69-4150-9fb0-31d04d67a956')\"\n",
              "              title=\"Convert this dataframe to an interactive table.\"\n",
              "              style=\"display:none;\">\n",
              "        \n",
              "  <svg xmlns=\"http://www.w3.org/2000/svg\" height=\"24px\"viewBox=\"0 0 24 24\"\n",
              "       width=\"24px\">\n",
              "    <path d=\"M0 0h24v24H0V0z\" fill=\"none\"/>\n",
              "    <path d=\"M18.56 5.44l.94 2.06.94-2.06 2.06-.94-2.06-.94-.94-2.06-.94 2.06-2.06.94zm-11 1L8.5 8.5l.94-2.06 2.06-.94-2.06-.94L8.5 2.5l-.94 2.06-2.06.94zm10 10l.94 2.06.94-2.06 2.06-.94-2.06-.94-.94-2.06-.94 2.06-2.06.94z\"/><path d=\"M17.41 7.96l-1.37-1.37c-.4-.4-.92-.59-1.43-.59-.52 0-1.04.2-1.43.59L10.3 9.45l-7.72 7.72c-.78.78-.78 2.05 0 2.83L4 21.41c.39.39.9.59 1.41.59.51 0 1.02-.2 1.41-.59l7.78-7.78 2.81-2.81c.8-.78.8-2.07 0-2.86zM5.41 20L4 18.59l7.72-7.72 1.47 1.35L5.41 20z\"/>\n",
              "  </svg>\n",
              "      </button>\n",
              "      \n",
              "  <style>\n",
              "    .colab-df-container {\n",
              "      display:flex;\n",
              "      flex-wrap:wrap;\n",
              "      gap: 12px;\n",
              "    }\n",
              "\n",
              "    .colab-df-convert {\n",
              "      background-color: #E8F0FE;\n",
              "      border: none;\n",
              "      border-radius: 50%;\n",
              "      cursor: pointer;\n",
              "      display: none;\n",
              "      fill: #1967D2;\n",
              "      height: 32px;\n",
              "      padding: 0 0 0 0;\n",
              "      width: 32px;\n",
              "    }\n",
              "\n",
              "    .colab-df-convert:hover {\n",
              "      background-color: #E2EBFA;\n",
              "      box-shadow: 0px 1px 2px rgba(60, 64, 67, 0.3), 0px 1px 3px 1px rgba(60, 64, 67, 0.15);\n",
              "      fill: #174EA6;\n",
              "    }\n",
              "\n",
              "    [theme=dark] .colab-df-convert {\n",
              "      background-color: #3B4455;\n",
              "      fill: #D2E3FC;\n",
              "    }\n",
              "\n",
              "    [theme=dark] .colab-df-convert:hover {\n",
              "      background-color: #434B5C;\n",
              "      box-shadow: 0px 1px 3px 1px rgba(0, 0, 0, 0.15);\n",
              "      filter: drop-shadow(0px 1px 2px rgba(0, 0, 0, 0.3));\n",
              "      fill: #FFFFFF;\n",
              "    }\n",
              "  </style>\n",
              "\n",
              "      <script>\n",
              "        const buttonEl =\n",
              "          document.querySelector('#df-b2b9dfc3-4d69-4150-9fb0-31d04d67a956 button.colab-df-convert');\n",
              "        buttonEl.style.display =\n",
              "          google.colab.kernel.accessAllowed ? 'block' : 'none';\n",
              "\n",
              "        async function convertToInteractive(key) {\n",
              "          const element = document.querySelector('#df-b2b9dfc3-4d69-4150-9fb0-31d04d67a956');\n",
              "          const dataTable =\n",
              "            await google.colab.kernel.invokeFunction('convertToInteractive',\n",
              "                                                     [key], {});\n",
              "          if (!dataTable) return;\n",
              "\n",
              "          const docLinkHtml = 'Like what you see? Visit the ' +\n",
              "            '<a target=\"_blank\" href=https://colab.research.google.com/notebooks/data_table.ipynb>data table notebook</a>'\n",
              "            + ' to learn more about interactive tables.';\n",
              "          element.innerHTML = '';\n",
              "          dataTable['output_type'] = 'display_data';\n",
              "          await google.colab.output.renderOutput(dataTable, element);\n",
              "          const docLink = document.createElement('div');\n",
              "          docLink.innerHTML = docLinkHtml;\n",
              "          element.appendChild(docLink);\n",
              "        }\n",
              "      </script>\n",
              "    </div>\n",
              "  </div>\n",
              "  "
            ]
          },
          "metadata": {},
          "execution_count": 13
        }
      ]
    },
    {
      "cell_type": "code",
      "source": [
        "#using n unique to determine unique value \n",
        "\n",
        "data.nunique()"
      ],
      "metadata": {
        "colab": {
          "base_uri": "https://localhost:8080/"
        },
        "id": "BdvCLHhz-nO5",
        "outputId": "4a533960-b401-4628-80d5-4a8d480489b5"
      },
      "execution_count": 14,
      "outputs": [
        {
          "output_type": "execute_result",
          "data": {
            "text/plain": [
              "C1                      7\n",
              "banner_pos              7\n",
              "site_id              1485\n",
              "site_domain          1331\n",
              "site_category          19\n",
              "app_id               1354\n",
              "app_domain             96\n",
              "app_category           21\n",
              "device_id           16801\n",
              "device_model         3145\n",
              "device_type             4\n",
              "device_conn_type        4\n",
              "C14                  1722\n",
              "C15                     8\n",
              "C16                     9\n",
              "C17                   399\n",
              "C18                     4\n",
              "C19                    64\n",
              "C20                   154\n",
              "C21                    60\n",
              "dayofweek               7\n",
              "day                    10\n",
              "hour                   24\n",
              "y                       2\n",
              "dtype: int64"
            ]
          },
          "metadata": {},
          "execution_count": 14
        }
      ]
    },
    {
      "cell_type": "code",
      "source": [
        "data.describe()"
      ],
      "metadata": {
        "colab": {
          "base_uri": "https://localhost:8080/",
          "height": 364
        },
        "id": "pdLMOoHL-vn-",
        "outputId": "e211f1fd-813d-4811-c490-1461b3e4640d"
      },
      "execution_count": 15,
      "outputs": [
        {
          "output_type": "execute_result",
          "data": {
            "text/plain": [
              "                 C1    banner_pos  device_type  device_conn_type  \\\n",
              "count  99999.000000  99999.000000  99999.00000      99999.000000   \n",
              "mean    1004.967550      0.289943      1.01639          0.329453   \n",
              "std        1.091916      0.505707      0.53110          0.854673   \n",
              "min     1001.000000      0.000000      0.00000          0.000000   \n",
              "25%     1005.000000      0.000000      1.00000          0.000000   \n",
              "50%     1005.000000      0.000000      1.00000          0.000000   \n",
              "75%     1005.000000      1.000000      1.00000          0.000000   \n",
              "max     1012.000000      7.000000      5.00000          5.000000   \n",
              "\n",
              "                C14           C15           C16           C17           C18  \\\n",
              "count  99999.000000  99999.000000  99999.000000  99999.000000  99999.000000   \n",
              "mean   18857.231732    318.834548     60.278743   2114.613036      1.439904   \n",
              "std     4944.919482     21.510752     47.713436    607.469442      1.326824   \n",
              "min      375.000000    120.000000     20.000000    112.000000      0.000000   \n",
              "25%    16920.000000    320.000000     50.000000   1863.000000      0.000000   \n",
              "50%    20346.000000    320.000000     50.000000   2323.000000      2.000000   \n",
              "75%    21893.000000    320.000000     50.000000   2526.000000      3.000000   \n",
              "max    24043.000000   1024.000000   1024.000000   2757.000000      3.000000   \n",
              "\n",
              "                C19            C20           C21     dayofweek           day  \\\n",
              "count  99999.000000   99999.000000  99999.000000  99999.000000  99999.000000   \n",
              "mean     227.234932   53292.001950     83.163542      2.592836     25.485755   \n",
              "std      351.472366   49952.340367     70.161076      1.723003      2.968520   \n",
              "min       33.000000      -1.000000      1.000000      0.000000     21.000000   \n",
              "25%       35.000000      -1.000000     23.000000      1.000000     23.000000   \n",
              "50%       39.000000  100050.000000     61.000000      2.000000     26.000000   \n",
              "75%      171.000000  100093.000000    101.000000      4.000000     28.000000   \n",
              "max     1839.000000  100248.000000    255.000000      6.000000     30.000000   \n",
              "\n",
              "               hour             y  \n",
              "count  99999.000000  99999.000000  \n",
              "mean      11.300673      0.169802  \n",
              "std        5.938725      0.375460  \n",
              "min        0.000000      0.000000  \n",
              "25%        7.000000      0.000000  \n",
              "50%       11.000000      0.000000  \n",
              "75%       16.000000      0.000000  \n",
              "max       23.000000      1.000000  "
            ],
            "text/html": [
              "\n",
              "  <div id=\"df-a027b160-461e-469f-ac07-86887a80af2c\">\n",
              "    <div class=\"colab-df-container\">\n",
              "      <div>\n",
              "<style scoped>\n",
              "    .dataframe tbody tr th:only-of-type {\n",
              "        vertical-align: middle;\n",
              "    }\n",
              "\n",
              "    .dataframe tbody tr th {\n",
              "        vertical-align: top;\n",
              "    }\n",
              "\n",
              "    .dataframe thead th {\n",
              "        text-align: right;\n",
              "    }\n",
              "</style>\n",
              "<table border=\"1\" class=\"dataframe\">\n",
              "  <thead>\n",
              "    <tr style=\"text-align: right;\">\n",
              "      <th></th>\n",
              "      <th>C1</th>\n",
              "      <th>banner_pos</th>\n",
              "      <th>device_type</th>\n",
              "      <th>device_conn_type</th>\n",
              "      <th>C14</th>\n",
              "      <th>C15</th>\n",
              "      <th>C16</th>\n",
              "      <th>C17</th>\n",
              "      <th>C18</th>\n",
              "      <th>C19</th>\n",
              "      <th>C20</th>\n",
              "      <th>C21</th>\n",
              "      <th>dayofweek</th>\n",
              "      <th>day</th>\n",
              "      <th>hour</th>\n",
              "      <th>y</th>\n",
              "    </tr>\n",
              "  </thead>\n",
              "  <tbody>\n",
              "    <tr>\n",
              "      <th>count</th>\n",
              "      <td>99999.000000</td>\n",
              "      <td>99999.000000</td>\n",
              "      <td>99999.00000</td>\n",
              "      <td>99999.000000</td>\n",
              "      <td>99999.000000</td>\n",
              "      <td>99999.000000</td>\n",
              "      <td>99999.000000</td>\n",
              "      <td>99999.000000</td>\n",
              "      <td>99999.000000</td>\n",
              "      <td>99999.000000</td>\n",
              "      <td>99999.000000</td>\n",
              "      <td>99999.000000</td>\n",
              "      <td>99999.000000</td>\n",
              "      <td>99999.000000</td>\n",
              "      <td>99999.000000</td>\n",
              "      <td>99999.000000</td>\n",
              "    </tr>\n",
              "    <tr>\n",
              "      <th>mean</th>\n",
              "      <td>1004.967550</td>\n",
              "      <td>0.289943</td>\n",
              "      <td>1.01639</td>\n",
              "      <td>0.329453</td>\n",
              "      <td>18857.231732</td>\n",
              "      <td>318.834548</td>\n",
              "      <td>60.278743</td>\n",
              "      <td>2114.613036</td>\n",
              "      <td>1.439904</td>\n",
              "      <td>227.234932</td>\n",
              "      <td>53292.001950</td>\n",
              "      <td>83.163542</td>\n",
              "      <td>2.592836</td>\n",
              "      <td>25.485755</td>\n",
              "      <td>11.300673</td>\n",
              "      <td>0.169802</td>\n",
              "    </tr>\n",
              "    <tr>\n",
              "      <th>std</th>\n",
              "      <td>1.091916</td>\n",
              "      <td>0.505707</td>\n",
              "      <td>0.53110</td>\n",
              "      <td>0.854673</td>\n",
              "      <td>4944.919482</td>\n",
              "      <td>21.510752</td>\n",
              "      <td>47.713436</td>\n",
              "      <td>607.469442</td>\n",
              "      <td>1.326824</td>\n",
              "      <td>351.472366</td>\n",
              "      <td>49952.340367</td>\n",
              "      <td>70.161076</td>\n",
              "      <td>1.723003</td>\n",
              "      <td>2.968520</td>\n",
              "      <td>5.938725</td>\n",
              "      <td>0.375460</td>\n",
              "    </tr>\n",
              "    <tr>\n",
              "      <th>min</th>\n",
              "      <td>1001.000000</td>\n",
              "      <td>0.000000</td>\n",
              "      <td>0.00000</td>\n",
              "      <td>0.000000</td>\n",
              "      <td>375.000000</td>\n",
              "      <td>120.000000</td>\n",
              "      <td>20.000000</td>\n",
              "      <td>112.000000</td>\n",
              "      <td>0.000000</td>\n",
              "      <td>33.000000</td>\n",
              "      <td>-1.000000</td>\n",
              "      <td>1.000000</td>\n",
              "      <td>0.000000</td>\n",
              "      <td>21.000000</td>\n",
              "      <td>0.000000</td>\n",
              "      <td>0.000000</td>\n",
              "    </tr>\n",
              "    <tr>\n",
              "      <th>25%</th>\n",
              "      <td>1005.000000</td>\n",
              "      <td>0.000000</td>\n",
              "      <td>1.00000</td>\n",
              "      <td>0.000000</td>\n",
              "      <td>16920.000000</td>\n",
              "      <td>320.000000</td>\n",
              "      <td>50.000000</td>\n",
              "      <td>1863.000000</td>\n",
              "      <td>0.000000</td>\n",
              "      <td>35.000000</td>\n",
              "      <td>-1.000000</td>\n",
              "      <td>23.000000</td>\n",
              "      <td>1.000000</td>\n",
              "      <td>23.000000</td>\n",
              "      <td>7.000000</td>\n",
              "      <td>0.000000</td>\n",
              "    </tr>\n",
              "    <tr>\n",
              "      <th>50%</th>\n",
              "      <td>1005.000000</td>\n",
              "      <td>0.000000</td>\n",
              "      <td>1.00000</td>\n",
              "      <td>0.000000</td>\n",
              "      <td>20346.000000</td>\n",
              "      <td>320.000000</td>\n",
              "      <td>50.000000</td>\n",
              "      <td>2323.000000</td>\n",
              "      <td>2.000000</td>\n",
              "      <td>39.000000</td>\n",
              "      <td>100050.000000</td>\n",
              "      <td>61.000000</td>\n",
              "      <td>2.000000</td>\n",
              "      <td>26.000000</td>\n",
              "      <td>11.000000</td>\n",
              "      <td>0.000000</td>\n",
              "    </tr>\n",
              "    <tr>\n",
              "      <th>75%</th>\n",
              "      <td>1005.000000</td>\n",
              "      <td>1.000000</td>\n",
              "      <td>1.00000</td>\n",
              "      <td>0.000000</td>\n",
              "      <td>21893.000000</td>\n",
              "      <td>320.000000</td>\n",
              "      <td>50.000000</td>\n",
              "      <td>2526.000000</td>\n",
              "      <td>3.000000</td>\n",
              "      <td>171.000000</td>\n",
              "      <td>100093.000000</td>\n",
              "      <td>101.000000</td>\n",
              "      <td>4.000000</td>\n",
              "      <td>28.000000</td>\n",
              "      <td>16.000000</td>\n",
              "      <td>0.000000</td>\n",
              "    </tr>\n",
              "    <tr>\n",
              "      <th>max</th>\n",
              "      <td>1012.000000</td>\n",
              "      <td>7.000000</td>\n",
              "      <td>5.00000</td>\n",
              "      <td>5.000000</td>\n",
              "      <td>24043.000000</td>\n",
              "      <td>1024.000000</td>\n",
              "      <td>1024.000000</td>\n",
              "      <td>2757.000000</td>\n",
              "      <td>3.000000</td>\n",
              "      <td>1839.000000</td>\n",
              "      <td>100248.000000</td>\n",
              "      <td>255.000000</td>\n",
              "      <td>6.000000</td>\n",
              "      <td>30.000000</td>\n",
              "      <td>23.000000</td>\n",
              "      <td>1.000000</td>\n",
              "    </tr>\n",
              "  </tbody>\n",
              "</table>\n",
              "</div>\n",
              "      <button class=\"colab-df-convert\" onclick=\"convertToInteractive('df-a027b160-461e-469f-ac07-86887a80af2c')\"\n",
              "              title=\"Convert this dataframe to an interactive table.\"\n",
              "              style=\"display:none;\">\n",
              "        \n",
              "  <svg xmlns=\"http://www.w3.org/2000/svg\" height=\"24px\"viewBox=\"0 0 24 24\"\n",
              "       width=\"24px\">\n",
              "    <path d=\"M0 0h24v24H0V0z\" fill=\"none\"/>\n",
              "    <path d=\"M18.56 5.44l.94 2.06.94-2.06 2.06-.94-2.06-.94-.94-2.06-.94 2.06-2.06.94zm-11 1L8.5 8.5l.94-2.06 2.06-.94-2.06-.94L8.5 2.5l-.94 2.06-2.06.94zm10 10l.94 2.06.94-2.06 2.06-.94-2.06-.94-.94-2.06-.94 2.06-2.06.94z\"/><path d=\"M17.41 7.96l-1.37-1.37c-.4-.4-.92-.59-1.43-.59-.52 0-1.04.2-1.43.59L10.3 9.45l-7.72 7.72c-.78.78-.78 2.05 0 2.83L4 21.41c.39.39.9.59 1.41.59.51 0 1.02-.2 1.41-.59l7.78-7.78 2.81-2.81c.8-.78.8-2.07 0-2.86zM5.41 20L4 18.59l7.72-7.72 1.47 1.35L5.41 20z\"/>\n",
              "  </svg>\n",
              "      </button>\n",
              "      \n",
              "  <style>\n",
              "    .colab-df-container {\n",
              "      display:flex;\n",
              "      flex-wrap:wrap;\n",
              "      gap: 12px;\n",
              "    }\n",
              "\n",
              "    .colab-df-convert {\n",
              "      background-color: #E8F0FE;\n",
              "      border: none;\n",
              "      border-radius: 50%;\n",
              "      cursor: pointer;\n",
              "      display: none;\n",
              "      fill: #1967D2;\n",
              "      height: 32px;\n",
              "      padding: 0 0 0 0;\n",
              "      width: 32px;\n",
              "    }\n",
              "\n",
              "    .colab-df-convert:hover {\n",
              "      background-color: #E2EBFA;\n",
              "      box-shadow: 0px 1px 2px rgba(60, 64, 67, 0.3), 0px 1px 3px 1px rgba(60, 64, 67, 0.15);\n",
              "      fill: #174EA6;\n",
              "    }\n",
              "\n",
              "    [theme=dark] .colab-df-convert {\n",
              "      background-color: #3B4455;\n",
              "      fill: #D2E3FC;\n",
              "    }\n",
              "\n",
              "    [theme=dark] .colab-df-convert:hover {\n",
              "      background-color: #434B5C;\n",
              "      box-shadow: 0px 1px 3px 1px rgba(0, 0, 0, 0.15);\n",
              "      filter: drop-shadow(0px 1px 2px rgba(0, 0, 0, 0.3));\n",
              "      fill: #FFFFFF;\n",
              "    }\n",
              "  </style>\n",
              "\n",
              "      <script>\n",
              "        const buttonEl =\n",
              "          document.querySelector('#df-a027b160-461e-469f-ac07-86887a80af2c button.colab-df-convert');\n",
              "        buttonEl.style.display =\n",
              "          google.colab.kernel.accessAllowed ? 'block' : 'none';\n",
              "\n",
              "        async function convertToInteractive(key) {\n",
              "          const element = document.querySelector('#df-a027b160-461e-469f-ac07-86887a80af2c');\n",
              "          const dataTable =\n",
              "            await google.colab.kernel.invokeFunction('convertToInteractive',\n",
              "                                                     [key], {});\n",
              "          if (!dataTable) return;\n",
              "\n",
              "          const docLinkHtml = 'Like what you see? Visit the ' +\n",
              "            '<a target=\"_blank\" href=https://colab.research.google.com/notebooks/data_table.ipynb>data table notebook</a>'\n",
              "            + ' to learn more about interactive tables.';\n",
              "          element.innerHTML = '';\n",
              "          dataTable['output_type'] = 'display_data';\n",
              "          await google.colab.output.renderOutput(dataTable, element);\n",
              "          const docLink = document.createElement('div');\n",
              "          docLink.innerHTML = docLinkHtml;\n",
              "          element.appendChild(docLink);\n",
              "        }\n",
              "      </script>\n",
              "    </div>\n",
              "  </div>\n",
              "  "
            ]
          },
          "metadata": {},
          "execution_count": 15
        }
      ]
    },
    {
      "cell_type": "code",
      "source": [
        "data.shape"
      ],
      "metadata": {
        "colab": {
          "base_uri": "https://localhost:8080/"
        },
        "id": "11M8m09s-46I",
        "outputId": "40095c5e-6a2c-4040-f882-1fa4d260c441"
      },
      "execution_count": 16,
      "outputs": [
        {
          "output_type": "execute_result",
          "data": {
            "text/plain": [
              "(99999, 24)"
            ]
          },
          "metadata": {},
          "execution_count": 16
        }
      ]
    },
    {
      "cell_type": "code",
      "source": [
        "data.dtypes"
      ],
      "metadata": {
        "colab": {
          "base_uri": "https://localhost:8080/"
        },
        "id": "eTNQHILu_NA2",
        "outputId": "0e523ed4-427b-41df-d682-e3f7dfb5bc52"
      },
      "execution_count": 17,
      "outputs": [
        {
          "output_type": "execute_result",
          "data": {
            "text/plain": [
              "C1                   int64\n",
              "banner_pos           int64\n",
              "site_id             object\n",
              "site_domain         object\n",
              "site_category       object\n",
              "app_id              object\n",
              "app_domain          object\n",
              "app_category        object\n",
              "device_id           object\n",
              "device_model        object\n",
              "device_type          int64\n",
              "device_conn_type     int64\n",
              "C14                  int64\n",
              "C15                  int64\n",
              "C16                  int64\n",
              "C17                  int64\n",
              "C18                  int64\n",
              "C19                  int64\n",
              "C20                  int64\n",
              "C21                  int64\n",
              "dayofweek            int64\n",
              "day                  int64\n",
              "hour                 int64\n",
              "y                    int64\n",
              "dtype: object"
            ]
          },
          "metadata": {},
          "execution_count": 17
        }
      ]
    },
    {
      "cell_type": "markdown",
      "source": [
        "Creating dummies for categorical varibles"
      ],
      "metadata": {
        "id": "qLyMbvAp--g7"
      }
    },
    {
      "cell_type": "code",
      "source": [
        "data = pd.get_dummies(data, columns = ['banner_pos','device_type','device_conn_type','dayofweek','day','hour'],\n",
        "  prefix=['banner_pos','device_type','device_conn_type','daypfweek','day','hour'], drop_first=True)"
      ],
      "metadata": {
        "id": "JNM-_vPk-7zy"
      },
      "execution_count": 18,
      "outputs": []
    },
    {
      "cell_type": "code",
      "source": [
        "data.head()"
      ],
      "metadata": {
        "colab": {
          "base_uri": "https://localhost:8080/",
          "height": 299
        },
        "id": "vM3rwbkm_3i9",
        "outputId": "26791e4f-ca14-4a6a-87e2-512737906bb2"
      },
      "execution_count": 19,
      "outputs": [
        {
          "output_type": "execute_result",
          "data": {
            "text/plain": [
              "     C1   site_id site_domain site_category    app_id app_domain app_category  \\\n",
              "0  1005  856e6d3f    58a89a43      f028772b  ecad2386   7801e8d9     07d7df22   \n",
              "1  1005  e151e245    7e091613      f028772b  ecad2386   7801e8d9     07d7df22   \n",
              "2  1005  e3c09f3a    d262cf1e      28905ebd  ecad2386   7801e8d9     07d7df22   \n",
              "3  1002  0da94452    248e439f      50e219e0  ecad2386   7801e8d9     07d7df22   \n",
              "4  1005  1fbe01fe    f3845767      28905ebd  ecad2386   7801e8d9     07d7df22   \n",
              "\n",
              "  device_id device_model    C14  ...  hour_14  hour_15  hour_16  hour_17  \\\n",
              "0  a99f214a     be6db1d7  22683  ...        1        0        0        0   \n",
              "1  a99f214a     1b13b020  17037  ...        0        0        0        0   \n",
              "2  a99f214a     9a45a8e8  22155  ...        0        0        0        0   \n",
              "3  0fa578fd     ea6abc60  21591  ...        0        0        0        0   \n",
              "4  a99f214a     36d749e5  15708  ...        0        0        0        0   \n",
              "\n",
              "   hour_18  hour_19  hour_20  hour_21  hour_22  hour_23  \n",
              "0        0        0        0        0        0        0  \n",
              "1        0        1        0        0        0        0  \n",
              "2        1        0        0        0        0        0  \n",
              "3        0        1        0        0        0        0  \n",
              "4        0        0        0        0        0        0  \n",
              "\n",
              "[5 rows x 68 columns]"
            ],
            "text/html": [
              "\n",
              "  <div id=\"df-9a86e357-a5c0-420a-9a70-eef09cf2f07b\">\n",
              "    <div class=\"colab-df-container\">\n",
              "      <div>\n",
              "<style scoped>\n",
              "    .dataframe tbody tr th:only-of-type {\n",
              "        vertical-align: middle;\n",
              "    }\n",
              "\n",
              "    .dataframe tbody tr th {\n",
              "        vertical-align: top;\n",
              "    }\n",
              "\n",
              "    .dataframe thead th {\n",
              "        text-align: right;\n",
              "    }\n",
              "</style>\n",
              "<table border=\"1\" class=\"dataframe\">\n",
              "  <thead>\n",
              "    <tr style=\"text-align: right;\">\n",
              "      <th></th>\n",
              "      <th>C1</th>\n",
              "      <th>site_id</th>\n",
              "      <th>site_domain</th>\n",
              "      <th>site_category</th>\n",
              "      <th>app_id</th>\n",
              "      <th>app_domain</th>\n",
              "      <th>app_category</th>\n",
              "      <th>device_id</th>\n",
              "      <th>device_model</th>\n",
              "      <th>C14</th>\n",
              "      <th>...</th>\n",
              "      <th>hour_14</th>\n",
              "      <th>hour_15</th>\n",
              "      <th>hour_16</th>\n",
              "      <th>hour_17</th>\n",
              "      <th>hour_18</th>\n",
              "      <th>hour_19</th>\n",
              "      <th>hour_20</th>\n",
              "      <th>hour_21</th>\n",
              "      <th>hour_22</th>\n",
              "      <th>hour_23</th>\n",
              "    </tr>\n",
              "  </thead>\n",
              "  <tbody>\n",
              "    <tr>\n",
              "      <th>0</th>\n",
              "      <td>1005</td>\n",
              "      <td>856e6d3f</td>\n",
              "      <td>58a89a43</td>\n",
              "      <td>f028772b</td>\n",
              "      <td>ecad2386</td>\n",
              "      <td>7801e8d9</td>\n",
              "      <td>07d7df22</td>\n",
              "      <td>a99f214a</td>\n",
              "      <td>be6db1d7</td>\n",
              "      <td>22683</td>\n",
              "      <td>...</td>\n",
              "      <td>1</td>\n",
              "      <td>0</td>\n",
              "      <td>0</td>\n",
              "      <td>0</td>\n",
              "      <td>0</td>\n",
              "      <td>0</td>\n",
              "      <td>0</td>\n",
              "      <td>0</td>\n",
              "      <td>0</td>\n",
              "      <td>0</td>\n",
              "    </tr>\n",
              "    <tr>\n",
              "      <th>1</th>\n",
              "      <td>1005</td>\n",
              "      <td>e151e245</td>\n",
              "      <td>7e091613</td>\n",
              "      <td>f028772b</td>\n",
              "      <td>ecad2386</td>\n",
              "      <td>7801e8d9</td>\n",
              "      <td>07d7df22</td>\n",
              "      <td>a99f214a</td>\n",
              "      <td>1b13b020</td>\n",
              "      <td>17037</td>\n",
              "      <td>...</td>\n",
              "      <td>0</td>\n",
              "      <td>0</td>\n",
              "      <td>0</td>\n",
              "      <td>0</td>\n",
              "      <td>0</td>\n",
              "      <td>1</td>\n",
              "      <td>0</td>\n",
              "      <td>0</td>\n",
              "      <td>0</td>\n",
              "      <td>0</td>\n",
              "    </tr>\n",
              "    <tr>\n",
              "      <th>2</th>\n",
              "      <td>1005</td>\n",
              "      <td>e3c09f3a</td>\n",
              "      <td>d262cf1e</td>\n",
              "      <td>28905ebd</td>\n",
              "      <td>ecad2386</td>\n",
              "      <td>7801e8d9</td>\n",
              "      <td>07d7df22</td>\n",
              "      <td>a99f214a</td>\n",
              "      <td>9a45a8e8</td>\n",
              "      <td>22155</td>\n",
              "      <td>...</td>\n",
              "      <td>0</td>\n",
              "      <td>0</td>\n",
              "      <td>0</td>\n",
              "      <td>0</td>\n",
              "      <td>1</td>\n",
              "      <td>0</td>\n",
              "      <td>0</td>\n",
              "      <td>0</td>\n",
              "      <td>0</td>\n",
              "      <td>0</td>\n",
              "    </tr>\n",
              "    <tr>\n",
              "      <th>3</th>\n",
              "      <td>1002</td>\n",
              "      <td>0da94452</td>\n",
              "      <td>248e439f</td>\n",
              "      <td>50e219e0</td>\n",
              "      <td>ecad2386</td>\n",
              "      <td>7801e8d9</td>\n",
              "      <td>07d7df22</td>\n",
              "      <td>0fa578fd</td>\n",
              "      <td>ea6abc60</td>\n",
              "      <td>21591</td>\n",
              "      <td>...</td>\n",
              "      <td>0</td>\n",
              "      <td>0</td>\n",
              "      <td>0</td>\n",
              "      <td>0</td>\n",
              "      <td>0</td>\n",
              "      <td>1</td>\n",
              "      <td>0</td>\n",
              "      <td>0</td>\n",
              "      <td>0</td>\n",
              "      <td>0</td>\n",
              "    </tr>\n",
              "    <tr>\n",
              "      <th>4</th>\n",
              "      <td>1005</td>\n",
              "      <td>1fbe01fe</td>\n",
              "      <td>f3845767</td>\n",
              "      <td>28905ebd</td>\n",
              "      <td>ecad2386</td>\n",
              "      <td>7801e8d9</td>\n",
              "      <td>07d7df22</td>\n",
              "      <td>a99f214a</td>\n",
              "      <td>36d749e5</td>\n",
              "      <td>15708</td>\n",
              "      <td>...</td>\n",
              "      <td>0</td>\n",
              "      <td>0</td>\n",
              "      <td>0</td>\n",
              "      <td>0</td>\n",
              "      <td>0</td>\n",
              "      <td>0</td>\n",
              "      <td>0</td>\n",
              "      <td>0</td>\n",
              "      <td>0</td>\n",
              "      <td>0</td>\n",
              "    </tr>\n",
              "  </tbody>\n",
              "</table>\n",
              "<p>5 rows × 68 columns</p>\n",
              "</div>\n",
              "      <button class=\"colab-df-convert\" onclick=\"convertToInteractive('df-9a86e357-a5c0-420a-9a70-eef09cf2f07b')\"\n",
              "              title=\"Convert this dataframe to an interactive table.\"\n",
              "              style=\"display:none;\">\n",
              "        \n",
              "  <svg xmlns=\"http://www.w3.org/2000/svg\" height=\"24px\"viewBox=\"0 0 24 24\"\n",
              "       width=\"24px\">\n",
              "    <path d=\"M0 0h24v24H0V0z\" fill=\"none\"/>\n",
              "    <path d=\"M18.56 5.44l.94 2.06.94-2.06 2.06-.94-2.06-.94-.94-2.06-.94 2.06-2.06.94zm-11 1L8.5 8.5l.94-2.06 2.06-.94-2.06-.94L8.5 2.5l-.94 2.06-2.06.94zm10 10l.94 2.06.94-2.06 2.06-.94-2.06-.94-.94-2.06-.94 2.06-2.06.94z\"/><path d=\"M17.41 7.96l-1.37-1.37c-.4-.4-.92-.59-1.43-.59-.52 0-1.04.2-1.43.59L10.3 9.45l-7.72 7.72c-.78.78-.78 2.05 0 2.83L4 21.41c.39.39.9.59 1.41.59.51 0 1.02-.2 1.41-.59l7.78-7.78 2.81-2.81c.8-.78.8-2.07 0-2.86zM5.41 20L4 18.59l7.72-7.72 1.47 1.35L5.41 20z\"/>\n",
              "  </svg>\n",
              "      </button>\n",
              "      \n",
              "  <style>\n",
              "    .colab-df-container {\n",
              "      display:flex;\n",
              "      flex-wrap:wrap;\n",
              "      gap: 12px;\n",
              "    }\n",
              "\n",
              "    .colab-df-convert {\n",
              "      background-color: #E8F0FE;\n",
              "      border: none;\n",
              "      border-radius: 50%;\n",
              "      cursor: pointer;\n",
              "      display: none;\n",
              "      fill: #1967D2;\n",
              "      height: 32px;\n",
              "      padding: 0 0 0 0;\n",
              "      width: 32px;\n",
              "    }\n",
              "\n",
              "    .colab-df-convert:hover {\n",
              "      background-color: #E2EBFA;\n",
              "      box-shadow: 0px 1px 2px rgba(60, 64, 67, 0.3), 0px 1px 3px 1px rgba(60, 64, 67, 0.15);\n",
              "      fill: #174EA6;\n",
              "    }\n",
              "\n",
              "    [theme=dark] .colab-df-convert {\n",
              "      background-color: #3B4455;\n",
              "      fill: #D2E3FC;\n",
              "    }\n",
              "\n",
              "    [theme=dark] .colab-df-convert:hover {\n",
              "      background-color: #434B5C;\n",
              "      box-shadow: 0px 1px 3px 1px rgba(0, 0, 0, 0.15);\n",
              "      filter: drop-shadow(0px 1px 2px rgba(0, 0, 0, 0.3));\n",
              "      fill: #FFFFFF;\n",
              "    }\n",
              "  </style>\n",
              "\n",
              "      <script>\n",
              "        const buttonEl =\n",
              "          document.querySelector('#df-9a86e357-a5c0-420a-9a70-eef09cf2f07b button.colab-df-convert');\n",
              "        buttonEl.style.display =\n",
              "          google.colab.kernel.accessAllowed ? 'block' : 'none';\n",
              "\n",
              "        async function convertToInteractive(key) {\n",
              "          const element = document.querySelector('#df-9a86e357-a5c0-420a-9a70-eef09cf2f07b');\n",
              "          const dataTable =\n",
              "            await google.colab.kernel.invokeFunction('convertToInteractive',\n",
              "                                                     [key], {});\n",
              "          if (!dataTable) return;\n",
              "\n",
              "          const docLinkHtml = 'Like what you see? Visit the ' +\n",
              "            '<a target=\"_blank\" href=https://colab.research.google.com/notebooks/data_table.ipynb>data table notebook</a>'\n",
              "            + ' to learn more about interactive tables.';\n",
              "          element.innerHTML = '';\n",
              "          dataTable['output_type'] = 'display_data';\n",
              "          await google.colab.output.renderOutput(dataTable, element);\n",
              "          const docLink = document.createElement('div');\n",
              "          docLink.innerHTML = docLinkHtml;\n",
              "          element.appendChild(docLink);\n",
              "        }\n",
              "      </script>\n",
              "    </div>\n",
              "  </div>\n",
              "  "
            ]
          },
          "metadata": {},
          "execution_count": 19
        }
      ]
    },
    {
      "cell_type": "code",
      "source": [
        "#Merging Site / device / app ,columns that are realted \n",
        "data['Site_info']= data['site_id']+ '_' +data['site_domain'] + '_' +data['site_category']\n",
        "data['App_info']= data['app_id'] + '_' +data['app_domain'] + '_' + data['app_category']\n",
        "data['Device_info'] = data['device_id'] + '_' +data['device_model']\n",
        "data = data.drop(['site_id', 'site_domain', 'site_category', 'app_id', 'app_domain','app_category','device_id','device_model'],axis=1)\n"
      ],
      "metadata": {
        "id": "WjE-3j_-_7Fc"
      },
      "execution_count": 20,
      "outputs": []
    },
    {
      "cell_type": "code",
      "source": [
        "data.head()"
      ],
      "metadata": {
        "colab": {
          "base_uri": "https://localhost:8080/",
          "height": 299
        },
        "id": "7K33OEkQFDoz",
        "outputId": "040cb2a8-3d39-4938-e1c7-710578d0fe26"
      },
      "execution_count": 21,
      "outputs": [
        {
          "output_type": "execute_result",
          "data": {
            "text/plain": [
              "     C1    C14  C15  C16   C17  C18  C19     C20  C21  y  ...  hour_17  \\\n",
              "0  1005  22683  320   50  2528    0   39  100075  221  0  ...        0   \n",
              "1  1005  17037  320   50  1934    2   39      -1   16  1  ...        0   \n",
              "2  1005  22155  320   50  2552    3  167  100202   23  0  ...        0   \n",
              "3  1002  21591  320   50  2478    3  167  100074   23  0  ...        0   \n",
              "4  1005  15708  320   50  1722    0   35      -1   79  1  ...        0   \n",
              "\n",
              "   hour_18  hour_19  hour_20  hour_21  hour_22  hour_23  \\\n",
              "0        0        0        0        0        0        0   \n",
              "1        0        1        0        0        0        0   \n",
              "2        1        0        0        0        0        0   \n",
              "3        0        1        0        0        0        0   \n",
              "4        0        0        0        0        0        0   \n",
              "\n",
              "                    Site_info                    App_info        Device_info  \n",
              "0  856e6d3f_58a89a43_f028772b  ecad2386_7801e8d9_07d7df22  a99f214a_be6db1d7  \n",
              "1  e151e245_7e091613_f028772b  ecad2386_7801e8d9_07d7df22  a99f214a_1b13b020  \n",
              "2  e3c09f3a_d262cf1e_28905ebd  ecad2386_7801e8d9_07d7df22  a99f214a_9a45a8e8  \n",
              "3  0da94452_248e439f_50e219e0  ecad2386_7801e8d9_07d7df22  0fa578fd_ea6abc60  \n",
              "4  1fbe01fe_f3845767_28905ebd  ecad2386_7801e8d9_07d7df22  a99f214a_36d749e5  \n",
              "\n",
              "[5 rows x 63 columns]"
            ],
            "text/html": [
              "\n",
              "  <div id=\"df-7580d039-64ab-40c7-94d9-02161c10f527\">\n",
              "    <div class=\"colab-df-container\">\n",
              "      <div>\n",
              "<style scoped>\n",
              "    .dataframe tbody tr th:only-of-type {\n",
              "        vertical-align: middle;\n",
              "    }\n",
              "\n",
              "    .dataframe tbody tr th {\n",
              "        vertical-align: top;\n",
              "    }\n",
              "\n",
              "    .dataframe thead th {\n",
              "        text-align: right;\n",
              "    }\n",
              "</style>\n",
              "<table border=\"1\" class=\"dataframe\">\n",
              "  <thead>\n",
              "    <tr style=\"text-align: right;\">\n",
              "      <th></th>\n",
              "      <th>C1</th>\n",
              "      <th>C14</th>\n",
              "      <th>C15</th>\n",
              "      <th>C16</th>\n",
              "      <th>C17</th>\n",
              "      <th>C18</th>\n",
              "      <th>C19</th>\n",
              "      <th>C20</th>\n",
              "      <th>C21</th>\n",
              "      <th>y</th>\n",
              "      <th>...</th>\n",
              "      <th>hour_17</th>\n",
              "      <th>hour_18</th>\n",
              "      <th>hour_19</th>\n",
              "      <th>hour_20</th>\n",
              "      <th>hour_21</th>\n",
              "      <th>hour_22</th>\n",
              "      <th>hour_23</th>\n",
              "      <th>Site_info</th>\n",
              "      <th>App_info</th>\n",
              "      <th>Device_info</th>\n",
              "    </tr>\n",
              "  </thead>\n",
              "  <tbody>\n",
              "    <tr>\n",
              "      <th>0</th>\n",
              "      <td>1005</td>\n",
              "      <td>22683</td>\n",
              "      <td>320</td>\n",
              "      <td>50</td>\n",
              "      <td>2528</td>\n",
              "      <td>0</td>\n",
              "      <td>39</td>\n",
              "      <td>100075</td>\n",
              "      <td>221</td>\n",
              "      <td>0</td>\n",
              "      <td>...</td>\n",
              "      <td>0</td>\n",
              "      <td>0</td>\n",
              "      <td>0</td>\n",
              "      <td>0</td>\n",
              "      <td>0</td>\n",
              "      <td>0</td>\n",
              "      <td>0</td>\n",
              "      <td>856e6d3f_58a89a43_f028772b</td>\n",
              "      <td>ecad2386_7801e8d9_07d7df22</td>\n",
              "      <td>a99f214a_be6db1d7</td>\n",
              "    </tr>\n",
              "    <tr>\n",
              "      <th>1</th>\n",
              "      <td>1005</td>\n",
              "      <td>17037</td>\n",
              "      <td>320</td>\n",
              "      <td>50</td>\n",
              "      <td>1934</td>\n",
              "      <td>2</td>\n",
              "      <td>39</td>\n",
              "      <td>-1</td>\n",
              "      <td>16</td>\n",
              "      <td>1</td>\n",
              "      <td>...</td>\n",
              "      <td>0</td>\n",
              "      <td>0</td>\n",
              "      <td>1</td>\n",
              "      <td>0</td>\n",
              "      <td>0</td>\n",
              "      <td>0</td>\n",
              "      <td>0</td>\n",
              "      <td>e151e245_7e091613_f028772b</td>\n",
              "      <td>ecad2386_7801e8d9_07d7df22</td>\n",
              "      <td>a99f214a_1b13b020</td>\n",
              "    </tr>\n",
              "    <tr>\n",
              "      <th>2</th>\n",
              "      <td>1005</td>\n",
              "      <td>22155</td>\n",
              "      <td>320</td>\n",
              "      <td>50</td>\n",
              "      <td>2552</td>\n",
              "      <td>3</td>\n",
              "      <td>167</td>\n",
              "      <td>100202</td>\n",
              "      <td>23</td>\n",
              "      <td>0</td>\n",
              "      <td>...</td>\n",
              "      <td>0</td>\n",
              "      <td>1</td>\n",
              "      <td>0</td>\n",
              "      <td>0</td>\n",
              "      <td>0</td>\n",
              "      <td>0</td>\n",
              "      <td>0</td>\n",
              "      <td>e3c09f3a_d262cf1e_28905ebd</td>\n",
              "      <td>ecad2386_7801e8d9_07d7df22</td>\n",
              "      <td>a99f214a_9a45a8e8</td>\n",
              "    </tr>\n",
              "    <tr>\n",
              "      <th>3</th>\n",
              "      <td>1002</td>\n",
              "      <td>21591</td>\n",
              "      <td>320</td>\n",
              "      <td>50</td>\n",
              "      <td>2478</td>\n",
              "      <td>3</td>\n",
              "      <td>167</td>\n",
              "      <td>100074</td>\n",
              "      <td>23</td>\n",
              "      <td>0</td>\n",
              "      <td>...</td>\n",
              "      <td>0</td>\n",
              "      <td>0</td>\n",
              "      <td>1</td>\n",
              "      <td>0</td>\n",
              "      <td>0</td>\n",
              "      <td>0</td>\n",
              "      <td>0</td>\n",
              "      <td>0da94452_248e439f_50e219e0</td>\n",
              "      <td>ecad2386_7801e8d9_07d7df22</td>\n",
              "      <td>0fa578fd_ea6abc60</td>\n",
              "    </tr>\n",
              "    <tr>\n",
              "      <th>4</th>\n",
              "      <td>1005</td>\n",
              "      <td>15708</td>\n",
              "      <td>320</td>\n",
              "      <td>50</td>\n",
              "      <td>1722</td>\n",
              "      <td>0</td>\n",
              "      <td>35</td>\n",
              "      <td>-1</td>\n",
              "      <td>79</td>\n",
              "      <td>1</td>\n",
              "      <td>...</td>\n",
              "      <td>0</td>\n",
              "      <td>0</td>\n",
              "      <td>0</td>\n",
              "      <td>0</td>\n",
              "      <td>0</td>\n",
              "      <td>0</td>\n",
              "      <td>0</td>\n",
              "      <td>1fbe01fe_f3845767_28905ebd</td>\n",
              "      <td>ecad2386_7801e8d9_07d7df22</td>\n",
              "      <td>a99f214a_36d749e5</td>\n",
              "    </tr>\n",
              "  </tbody>\n",
              "</table>\n",
              "<p>5 rows × 63 columns</p>\n",
              "</div>\n",
              "      <button class=\"colab-df-convert\" onclick=\"convertToInteractive('df-7580d039-64ab-40c7-94d9-02161c10f527')\"\n",
              "              title=\"Convert this dataframe to an interactive table.\"\n",
              "              style=\"display:none;\">\n",
              "        \n",
              "  <svg xmlns=\"http://www.w3.org/2000/svg\" height=\"24px\"viewBox=\"0 0 24 24\"\n",
              "       width=\"24px\">\n",
              "    <path d=\"M0 0h24v24H0V0z\" fill=\"none\"/>\n",
              "    <path d=\"M18.56 5.44l.94 2.06.94-2.06 2.06-.94-2.06-.94-.94-2.06-.94 2.06-2.06.94zm-11 1L8.5 8.5l.94-2.06 2.06-.94-2.06-.94L8.5 2.5l-.94 2.06-2.06.94zm10 10l.94 2.06.94-2.06 2.06-.94-2.06-.94-.94-2.06-.94 2.06-2.06.94z\"/><path d=\"M17.41 7.96l-1.37-1.37c-.4-.4-.92-.59-1.43-.59-.52 0-1.04.2-1.43.59L10.3 9.45l-7.72 7.72c-.78.78-.78 2.05 0 2.83L4 21.41c.39.39.9.59 1.41.59.51 0 1.02-.2 1.41-.59l7.78-7.78 2.81-2.81c.8-.78.8-2.07 0-2.86zM5.41 20L4 18.59l7.72-7.72 1.47 1.35L5.41 20z\"/>\n",
              "  </svg>\n",
              "      </button>\n",
              "      \n",
              "  <style>\n",
              "    .colab-df-container {\n",
              "      display:flex;\n",
              "      flex-wrap:wrap;\n",
              "      gap: 12px;\n",
              "    }\n",
              "\n",
              "    .colab-df-convert {\n",
              "      background-color: #E8F0FE;\n",
              "      border: none;\n",
              "      border-radius: 50%;\n",
              "      cursor: pointer;\n",
              "      display: none;\n",
              "      fill: #1967D2;\n",
              "      height: 32px;\n",
              "      padding: 0 0 0 0;\n",
              "      width: 32px;\n",
              "    }\n",
              "\n",
              "    .colab-df-convert:hover {\n",
              "      background-color: #E2EBFA;\n",
              "      box-shadow: 0px 1px 2px rgba(60, 64, 67, 0.3), 0px 1px 3px 1px rgba(60, 64, 67, 0.15);\n",
              "      fill: #174EA6;\n",
              "    }\n",
              "\n",
              "    [theme=dark] .colab-df-convert {\n",
              "      background-color: #3B4455;\n",
              "      fill: #D2E3FC;\n",
              "    }\n",
              "\n",
              "    [theme=dark] .colab-df-convert:hover {\n",
              "      background-color: #434B5C;\n",
              "      box-shadow: 0px 1px 3px 1px rgba(0, 0, 0, 0.15);\n",
              "      filter: drop-shadow(0px 1px 2px rgba(0, 0, 0, 0.3));\n",
              "      fill: #FFFFFF;\n",
              "    }\n",
              "  </style>\n",
              "\n",
              "      <script>\n",
              "        const buttonEl =\n",
              "          document.querySelector('#df-7580d039-64ab-40c7-94d9-02161c10f527 button.colab-df-convert');\n",
              "        buttonEl.style.display =\n",
              "          google.colab.kernel.accessAllowed ? 'block' : 'none';\n",
              "\n",
              "        async function convertToInteractive(key) {\n",
              "          const element = document.querySelector('#df-7580d039-64ab-40c7-94d9-02161c10f527');\n",
              "          const dataTable =\n",
              "            await google.colab.kernel.invokeFunction('convertToInteractive',\n",
              "                                                     [key], {});\n",
              "          if (!dataTable) return;\n",
              "\n",
              "          const docLinkHtml = 'Like what you see? Visit the ' +\n",
              "            '<a target=\"_blank\" href=https://colab.research.google.com/notebooks/data_table.ipynb>data table notebook</a>'\n",
              "            + ' to learn more about interactive tables.';\n",
              "          element.innerHTML = '';\n",
              "          dataTable['output_type'] = 'display_data';\n",
              "          await google.colab.output.renderOutput(dataTable, element);\n",
              "          const docLink = document.createElement('div');\n",
              "          docLink.innerHTML = docLinkHtml;\n",
              "          element.appendChild(docLink);\n",
              "        }\n",
              "      </script>\n",
              "    </div>\n",
              "  </div>\n",
              "  "
            ]
          },
          "metadata": {},
          "execution_count": 21
        }
      ]
    },
    {
      "cell_type": "code",
      "source": [
        "# importing libraries for label encoding \n",
        "\n",
        "from sklearn  import preprocessing\n",
        "\n",
        "# declaring functions \n",
        "\n",
        "label_encoder = preprocessing.LabelEncoder()\n",
        "\n",
        "col = ['Site_info','App_info','Device_info']\n",
        "\n",
        "#Transforming the columns into label encoding \n",
        "\n",
        "data[col]= data[col].apply(label_encoder.fit_transform)"
      ],
      "metadata": {
        "id": "G6mXkFeQFKlo"
      },
      "execution_count": 22,
      "outputs": []
    },
    {
      "cell_type": "code",
      "source": [
        "#Data check\n",
        "\n",
        "data.head()"
      ],
      "metadata": {
        "colab": {
          "base_uri": "https://localhost:8080/",
          "height": 299
        },
        "id": "VHPubDDMI3T4",
        "outputId": "d9bd61a4-4e53-4df1-8593-8c19bf550cf0"
      },
      "execution_count": 23,
      "outputs": [
        {
          "output_type": "execute_result",
          "data": {
            "text/plain": [
              "     C1    C14  C15  C16   C17  C18  C19     C20  C21  y  ...  hour_17  \\\n",
              "0  1005  22683  320   50  2528    0   39  100075  221  0  ...        0   \n",
              "1  1005  17037  320   50  1934    2   39      -1   16  1  ...        0   \n",
              "2  1005  22155  320   50  2552    3  167  100202   23  0  ...        0   \n",
              "3  1002  21591  320   50  2478    3  167  100074   23  0  ...        0   \n",
              "4  1005  15708  320   50  1722    0   35      -1   79  1  ...        0   \n",
              "\n",
              "   hour_18  hour_19  hour_20  hour_21  hour_22  hour_23  Site_info  App_info  \\\n",
              "0        0        0        0        0        0        0       1130      1255   \n",
              "1        0        1        0        0        0        0       1907      1255   \n",
              "2        1        0        0        0        0        0       1915      1255   \n",
              "3        0        1        0        0        0        0        104      1255   \n",
              "4        0        0        0        0        0        0        240      1255   \n",
              "\n",
              "   Device_info  \n",
              "0        12940  \n",
              "1        11499  \n",
              "2        12615  \n",
              "3          991  \n",
              "4        11748  \n",
              "\n",
              "[5 rows x 63 columns]"
            ],
            "text/html": [
              "\n",
              "  <div id=\"df-779d30f1-4155-480f-94e4-05278724cfc2\">\n",
              "    <div class=\"colab-df-container\">\n",
              "      <div>\n",
              "<style scoped>\n",
              "    .dataframe tbody tr th:only-of-type {\n",
              "        vertical-align: middle;\n",
              "    }\n",
              "\n",
              "    .dataframe tbody tr th {\n",
              "        vertical-align: top;\n",
              "    }\n",
              "\n",
              "    .dataframe thead th {\n",
              "        text-align: right;\n",
              "    }\n",
              "</style>\n",
              "<table border=\"1\" class=\"dataframe\">\n",
              "  <thead>\n",
              "    <tr style=\"text-align: right;\">\n",
              "      <th></th>\n",
              "      <th>C1</th>\n",
              "      <th>C14</th>\n",
              "      <th>C15</th>\n",
              "      <th>C16</th>\n",
              "      <th>C17</th>\n",
              "      <th>C18</th>\n",
              "      <th>C19</th>\n",
              "      <th>C20</th>\n",
              "      <th>C21</th>\n",
              "      <th>y</th>\n",
              "      <th>...</th>\n",
              "      <th>hour_17</th>\n",
              "      <th>hour_18</th>\n",
              "      <th>hour_19</th>\n",
              "      <th>hour_20</th>\n",
              "      <th>hour_21</th>\n",
              "      <th>hour_22</th>\n",
              "      <th>hour_23</th>\n",
              "      <th>Site_info</th>\n",
              "      <th>App_info</th>\n",
              "      <th>Device_info</th>\n",
              "    </tr>\n",
              "  </thead>\n",
              "  <tbody>\n",
              "    <tr>\n",
              "      <th>0</th>\n",
              "      <td>1005</td>\n",
              "      <td>22683</td>\n",
              "      <td>320</td>\n",
              "      <td>50</td>\n",
              "      <td>2528</td>\n",
              "      <td>0</td>\n",
              "      <td>39</td>\n",
              "      <td>100075</td>\n",
              "      <td>221</td>\n",
              "      <td>0</td>\n",
              "      <td>...</td>\n",
              "      <td>0</td>\n",
              "      <td>0</td>\n",
              "      <td>0</td>\n",
              "      <td>0</td>\n",
              "      <td>0</td>\n",
              "      <td>0</td>\n",
              "      <td>0</td>\n",
              "      <td>1130</td>\n",
              "      <td>1255</td>\n",
              "      <td>12940</td>\n",
              "    </tr>\n",
              "    <tr>\n",
              "      <th>1</th>\n",
              "      <td>1005</td>\n",
              "      <td>17037</td>\n",
              "      <td>320</td>\n",
              "      <td>50</td>\n",
              "      <td>1934</td>\n",
              "      <td>2</td>\n",
              "      <td>39</td>\n",
              "      <td>-1</td>\n",
              "      <td>16</td>\n",
              "      <td>1</td>\n",
              "      <td>...</td>\n",
              "      <td>0</td>\n",
              "      <td>0</td>\n",
              "      <td>1</td>\n",
              "      <td>0</td>\n",
              "      <td>0</td>\n",
              "      <td>0</td>\n",
              "      <td>0</td>\n",
              "      <td>1907</td>\n",
              "      <td>1255</td>\n",
              "      <td>11499</td>\n",
              "    </tr>\n",
              "    <tr>\n",
              "      <th>2</th>\n",
              "      <td>1005</td>\n",
              "      <td>22155</td>\n",
              "      <td>320</td>\n",
              "      <td>50</td>\n",
              "      <td>2552</td>\n",
              "      <td>3</td>\n",
              "      <td>167</td>\n",
              "      <td>100202</td>\n",
              "      <td>23</td>\n",
              "      <td>0</td>\n",
              "      <td>...</td>\n",
              "      <td>0</td>\n",
              "      <td>1</td>\n",
              "      <td>0</td>\n",
              "      <td>0</td>\n",
              "      <td>0</td>\n",
              "      <td>0</td>\n",
              "      <td>0</td>\n",
              "      <td>1915</td>\n",
              "      <td>1255</td>\n",
              "      <td>12615</td>\n",
              "    </tr>\n",
              "    <tr>\n",
              "      <th>3</th>\n",
              "      <td>1002</td>\n",
              "      <td>21591</td>\n",
              "      <td>320</td>\n",
              "      <td>50</td>\n",
              "      <td>2478</td>\n",
              "      <td>3</td>\n",
              "      <td>167</td>\n",
              "      <td>100074</td>\n",
              "      <td>23</td>\n",
              "      <td>0</td>\n",
              "      <td>...</td>\n",
              "      <td>0</td>\n",
              "      <td>0</td>\n",
              "      <td>1</td>\n",
              "      <td>0</td>\n",
              "      <td>0</td>\n",
              "      <td>0</td>\n",
              "      <td>0</td>\n",
              "      <td>104</td>\n",
              "      <td>1255</td>\n",
              "      <td>991</td>\n",
              "    </tr>\n",
              "    <tr>\n",
              "      <th>4</th>\n",
              "      <td>1005</td>\n",
              "      <td>15708</td>\n",
              "      <td>320</td>\n",
              "      <td>50</td>\n",
              "      <td>1722</td>\n",
              "      <td>0</td>\n",
              "      <td>35</td>\n",
              "      <td>-1</td>\n",
              "      <td>79</td>\n",
              "      <td>1</td>\n",
              "      <td>...</td>\n",
              "      <td>0</td>\n",
              "      <td>0</td>\n",
              "      <td>0</td>\n",
              "      <td>0</td>\n",
              "      <td>0</td>\n",
              "      <td>0</td>\n",
              "      <td>0</td>\n",
              "      <td>240</td>\n",
              "      <td>1255</td>\n",
              "      <td>11748</td>\n",
              "    </tr>\n",
              "  </tbody>\n",
              "</table>\n",
              "<p>5 rows × 63 columns</p>\n",
              "</div>\n",
              "      <button class=\"colab-df-convert\" onclick=\"convertToInteractive('df-779d30f1-4155-480f-94e4-05278724cfc2')\"\n",
              "              title=\"Convert this dataframe to an interactive table.\"\n",
              "              style=\"display:none;\">\n",
              "        \n",
              "  <svg xmlns=\"http://www.w3.org/2000/svg\" height=\"24px\"viewBox=\"0 0 24 24\"\n",
              "       width=\"24px\">\n",
              "    <path d=\"M0 0h24v24H0V0z\" fill=\"none\"/>\n",
              "    <path d=\"M18.56 5.44l.94 2.06.94-2.06 2.06-.94-2.06-.94-.94-2.06-.94 2.06-2.06.94zm-11 1L8.5 8.5l.94-2.06 2.06-.94-2.06-.94L8.5 2.5l-.94 2.06-2.06.94zm10 10l.94 2.06.94-2.06 2.06-.94-2.06-.94-.94-2.06-.94 2.06-2.06.94z\"/><path d=\"M17.41 7.96l-1.37-1.37c-.4-.4-.92-.59-1.43-.59-.52 0-1.04.2-1.43.59L10.3 9.45l-7.72 7.72c-.78.78-.78 2.05 0 2.83L4 21.41c.39.39.9.59 1.41.59.51 0 1.02-.2 1.41-.59l7.78-7.78 2.81-2.81c.8-.78.8-2.07 0-2.86zM5.41 20L4 18.59l7.72-7.72 1.47 1.35L5.41 20z\"/>\n",
              "  </svg>\n",
              "      </button>\n",
              "      \n",
              "  <style>\n",
              "    .colab-df-container {\n",
              "      display:flex;\n",
              "      flex-wrap:wrap;\n",
              "      gap: 12px;\n",
              "    }\n",
              "\n",
              "    .colab-df-convert {\n",
              "      background-color: #E8F0FE;\n",
              "      border: none;\n",
              "      border-radius: 50%;\n",
              "      cursor: pointer;\n",
              "      display: none;\n",
              "      fill: #1967D2;\n",
              "      height: 32px;\n",
              "      padding: 0 0 0 0;\n",
              "      width: 32px;\n",
              "    }\n",
              "\n",
              "    .colab-df-convert:hover {\n",
              "      background-color: #E2EBFA;\n",
              "      box-shadow: 0px 1px 2px rgba(60, 64, 67, 0.3), 0px 1px 3px 1px rgba(60, 64, 67, 0.15);\n",
              "      fill: #174EA6;\n",
              "    }\n",
              "\n",
              "    [theme=dark] .colab-df-convert {\n",
              "      background-color: #3B4455;\n",
              "      fill: #D2E3FC;\n",
              "    }\n",
              "\n",
              "    [theme=dark] .colab-df-convert:hover {\n",
              "      background-color: #434B5C;\n",
              "      box-shadow: 0px 1px 3px 1px rgba(0, 0, 0, 0.15);\n",
              "      filter: drop-shadow(0px 1px 2px rgba(0, 0, 0, 0.3));\n",
              "      fill: #FFFFFF;\n",
              "    }\n",
              "  </style>\n",
              "\n",
              "      <script>\n",
              "        const buttonEl =\n",
              "          document.querySelector('#df-779d30f1-4155-480f-94e4-05278724cfc2 button.colab-df-convert');\n",
              "        buttonEl.style.display =\n",
              "          google.colab.kernel.accessAllowed ? 'block' : 'none';\n",
              "\n",
              "        async function convertToInteractive(key) {\n",
              "          const element = document.querySelector('#df-779d30f1-4155-480f-94e4-05278724cfc2');\n",
              "          const dataTable =\n",
              "            await google.colab.kernel.invokeFunction('convertToInteractive',\n",
              "                                                     [key], {});\n",
              "          if (!dataTable) return;\n",
              "\n",
              "          const docLinkHtml = 'Like what you see? Visit the ' +\n",
              "            '<a target=\"_blank\" href=https://colab.research.google.com/notebooks/data_table.ipynb>data table notebook</a>'\n",
              "            + ' to learn more about interactive tables.';\n",
              "          element.innerHTML = '';\n",
              "          dataTable['output_type'] = 'display_data';\n",
              "          await google.colab.output.renderOutput(dataTable, element);\n",
              "          const docLink = document.createElement('div');\n",
              "          docLink.innerHTML = docLinkHtml;\n",
              "          element.appendChild(docLink);\n",
              "        }\n",
              "      </script>\n",
              "    </div>\n",
              "  </div>\n",
              "  "
            ]
          },
          "metadata": {},
          "execution_count": 23
        }
      ]
    },
    {
      "cell_type": "markdown",
      "source": [
        "#Spliting the data into train test split "
      ],
      "metadata": {
        "id": "u581AUQfJjEv"
      }
    },
    {
      "cell_type": "code",
      "source": [
        "#Seperate the data into X and Y for model building \n",
        "\n",
        "X=data.drop(['y'],axis=1)\n",
        "y=data['y']"
      ],
      "metadata": {
        "id": "IqPxv3JeJD9a"
      },
      "execution_count": 24,
      "outputs": []
    },
    {
      "cell_type": "code",
      "source": [
        "#importing the train test split function for spliting the data\n",
        "\n",
        "from sklearn.model_selection import train_test_split\n",
        "\n",
        "#Splitting the data into train & test data\n",
        "\n",
        "X_train, X_test, Y_train , Y_test = train_test_split(X, y,train_size=0.7, random_state=0)\n",
        "print(X_train.shape)\n",
        "print(X_test.shape)\n",
        "print(Y_train.shape)\n",
        "print(Y_test.shape)"
      ],
      "metadata": {
        "colab": {
          "base_uri": "https://localhost:8080/"
        },
        "id": "URTgWz7TJ0Qd",
        "outputId": "1de9605d-3a47-4b99-cea6-d7b488d614e1"
      },
      "execution_count": 25,
      "outputs": [
        {
          "output_type": "stream",
          "name": "stdout",
          "text": [
            "(69999, 62)\n",
            "(30000, 62)\n",
            "(69999,)\n",
            "(30000,)\n"
          ]
        }
      ]
    },
    {
      "cell_type": "code",
      "source": [
        "#checking columns '\n",
        "data.columns"
      ],
      "metadata": {
        "colab": {
          "base_uri": "https://localhost:8080/"
        },
        "id": "7a-J_SmpMBAc",
        "outputId": "79e7f5b3-686e-4a68-90ca-902babb60abf"
      },
      "execution_count": 26,
      "outputs": [
        {
          "output_type": "execute_result",
          "data": {
            "text/plain": [
              "Index(['C1', 'C14', 'C15', 'C16', 'C17', 'C18', 'C19', 'C20', 'C21', 'y',\n",
              "       'banner_pos_1', 'banner_pos_2', 'banner_pos_3', 'banner_pos_4',\n",
              "       'banner_pos_5', 'banner_pos_7', 'device_type_1', 'device_type_4',\n",
              "       'device_type_5', 'device_conn_type_2', 'device_conn_type_3',\n",
              "       'device_conn_type_5', 'daypfweek_1', 'daypfweek_2', 'daypfweek_3',\n",
              "       'daypfweek_4', 'daypfweek_5', 'daypfweek_6', 'day_22', 'day_23',\n",
              "       'day_24', 'day_25', 'day_26', 'day_27', 'day_28', 'day_29', 'day_30',\n",
              "       'hour_1', 'hour_2', 'hour_3', 'hour_4', 'hour_5', 'hour_6', 'hour_7',\n",
              "       'hour_8', 'hour_9', 'hour_10', 'hour_11', 'hour_12', 'hour_13',\n",
              "       'hour_14', 'hour_15', 'hour_16', 'hour_17', 'hour_18', 'hour_19',\n",
              "       'hour_20', 'hour_21', 'hour_22', 'hour_23', 'Site_info', 'App_info',\n",
              "       'Device_info'],\n",
              "      dtype='object')"
            ]
          },
          "metadata": {},
          "execution_count": 26
        }
      ]
    },
    {
      "cell_type": "code",
      "source": [
        "#importing the library for data\n",
        "\n",
        "from sklearn.preprocessing import StandardScaler\n",
        "\n",
        "# Declaing the function\n",
        "\n",
        "scalar = StandardScaler()\n",
        "\n",
        "# Scaling the data for training dataset\n",
        "\n",
        "X_train[['Site_info','App_info','Device_info','C1','C14','C15','C16','C17','C18','C19','C20','C21'\n",
        "]]= scalar.fit_transform(X_train[['Site_info', 'App_info', 'Device_info',\n",
        "                                          'C1', 'C14', 'C15','C16','C17','C18','C19','C20','C21']])\n"
      ],
      "metadata": {
        "id": "1c1JakczMxIN"
      },
      "execution_count": 27,
      "outputs": []
    },
    {
      "cell_type": "code",
      "source": [
        "X_train.head()"
      ],
      "metadata": {
        "colab": {
          "base_uri": "https://localhost:8080/",
          "height": 299
        },
        "id": "xme_nnu-Otco",
        "outputId": "97e1feaa-1701-4672-d7d1-5c73bef0a42e"
      },
      "execution_count": 28,
      "outputs": [
        {
          "output_type": "execute_result",
          "data": {
            "text/plain": [
              "             C1       C14       C15       C16       C17       C18       C19  \\\n",
              "42865  0.026823 -0.638643  0.053249 -0.217225 -0.646922 -1.088664 -0.546307   \n",
              "98623  0.026823  0.656422  0.053249 -0.217225  0.708144 -1.088664 -0.170056   \n",
              "66374  0.026823  0.823866  0.053249 -0.217225  0.182912 -1.088664  1.277938   \n",
              "72080  0.026823  0.185232  0.053249 -0.217225  0.187851 -1.088664  1.312142   \n",
              "13404  0.026823 -0.322763  0.053249 -0.217225 -0.399947  1.173093 -0.534905   \n",
              "\n",
              "            C20       C21  banner_pos_1  ...  hour_17  hour_18  hour_19  \\\n",
              "42865  0.937364 -0.058806             0  ...        0        0        0   \n",
              "98623 -1.066171  1.965733             0  ...        0        0        0   \n",
              "66374 -1.066171 -0.500782             0  ...        0        0        0   \n",
              "72080  0.936303 -0.500782             0  ...        0        0        0   \n",
              "13404 -1.066171 -0.857215             1  ...        0        0        0   \n",
              "\n",
              "       hour_20  hour_21  hour_22  hour_23  Site_info  App_info  Device_info  \n",
              "42865        0        0        1        0   0.184383 -2.007056    -2.669417  \n",
              "98623        0        0        0        0  -1.478873  0.524489     0.554208  \n",
              "66374        0        0        0        0   1.485017  0.524489     0.423102  \n",
              "72080        0        0        0        0   0.184383  0.584018    -0.149587  \n",
              "13404        0        0        0        0   1.605274  0.524489    -0.112128  \n",
              "\n",
              "[5 rows x 62 columns]"
            ],
            "text/html": [
              "\n",
              "  <div id=\"df-fe514916-90de-4a79-ae65-a94b1b60a697\">\n",
              "    <div class=\"colab-df-container\">\n",
              "      <div>\n",
              "<style scoped>\n",
              "    .dataframe tbody tr th:only-of-type {\n",
              "        vertical-align: middle;\n",
              "    }\n",
              "\n",
              "    .dataframe tbody tr th {\n",
              "        vertical-align: top;\n",
              "    }\n",
              "\n",
              "    .dataframe thead th {\n",
              "        text-align: right;\n",
              "    }\n",
              "</style>\n",
              "<table border=\"1\" class=\"dataframe\">\n",
              "  <thead>\n",
              "    <tr style=\"text-align: right;\">\n",
              "      <th></th>\n",
              "      <th>C1</th>\n",
              "      <th>C14</th>\n",
              "      <th>C15</th>\n",
              "      <th>C16</th>\n",
              "      <th>C17</th>\n",
              "      <th>C18</th>\n",
              "      <th>C19</th>\n",
              "      <th>C20</th>\n",
              "      <th>C21</th>\n",
              "      <th>banner_pos_1</th>\n",
              "      <th>...</th>\n",
              "      <th>hour_17</th>\n",
              "      <th>hour_18</th>\n",
              "      <th>hour_19</th>\n",
              "      <th>hour_20</th>\n",
              "      <th>hour_21</th>\n",
              "      <th>hour_22</th>\n",
              "      <th>hour_23</th>\n",
              "      <th>Site_info</th>\n",
              "      <th>App_info</th>\n",
              "      <th>Device_info</th>\n",
              "    </tr>\n",
              "  </thead>\n",
              "  <tbody>\n",
              "    <tr>\n",
              "      <th>42865</th>\n",
              "      <td>0.026823</td>\n",
              "      <td>-0.638643</td>\n",
              "      <td>0.053249</td>\n",
              "      <td>-0.217225</td>\n",
              "      <td>-0.646922</td>\n",
              "      <td>-1.088664</td>\n",
              "      <td>-0.546307</td>\n",
              "      <td>0.937364</td>\n",
              "      <td>-0.058806</td>\n",
              "      <td>0</td>\n",
              "      <td>...</td>\n",
              "      <td>0</td>\n",
              "      <td>0</td>\n",
              "      <td>0</td>\n",
              "      <td>0</td>\n",
              "      <td>0</td>\n",
              "      <td>1</td>\n",
              "      <td>0</td>\n",
              "      <td>0.184383</td>\n",
              "      <td>-2.007056</td>\n",
              "      <td>-2.669417</td>\n",
              "    </tr>\n",
              "    <tr>\n",
              "      <th>98623</th>\n",
              "      <td>0.026823</td>\n",
              "      <td>0.656422</td>\n",
              "      <td>0.053249</td>\n",
              "      <td>-0.217225</td>\n",
              "      <td>0.708144</td>\n",
              "      <td>-1.088664</td>\n",
              "      <td>-0.170056</td>\n",
              "      <td>-1.066171</td>\n",
              "      <td>1.965733</td>\n",
              "      <td>0</td>\n",
              "      <td>...</td>\n",
              "      <td>0</td>\n",
              "      <td>0</td>\n",
              "      <td>0</td>\n",
              "      <td>0</td>\n",
              "      <td>0</td>\n",
              "      <td>0</td>\n",
              "      <td>0</td>\n",
              "      <td>-1.478873</td>\n",
              "      <td>0.524489</td>\n",
              "      <td>0.554208</td>\n",
              "    </tr>\n",
              "    <tr>\n",
              "      <th>66374</th>\n",
              "      <td>0.026823</td>\n",
              "      <td>0.823866</td>\n",
              "      <td>0.053249</td>\n",
              "      <td>-0.217225</td>\n",
              "      <td>0.182912</td>\n",
              "      <td>-1.088664</td>\n",
              "      <td>1.277938</td>\n",
              "      <td>-1.066171</td>\n",
              "      <td>-0.500782</td>\n",
              "      <td>0</td>\n",
              "      <td>...</td>\n",
              "      <td>0</td>\n",
              "      <td>0</td>\n",
              "      <td>0</td>\n",
              "      <td>0</td>\n",
              "      <td>0</td>\n",
              "      <td>0</td>\n",
              "      <td>0</td>\n",
              "      <td>1.485017</td>\n",
              "      <td>0.524489</td>\n",
              "      <td>0.423102</td>\n",
              "    </tr>\n",
              "    <tr>\n",
              "      <th>72080</th>\n",
              "      <td>0.026823</td>\n",
              "      <td>0.185232</td>\n",
              "      <td>0.053249</td>\n",
              "      <td>-0.217225</td>\n",
              "      <td>0.187851</td>\n",
              "      <td>-1.088664</td>\n",
              "      <td>1.312142</td>\n",
              "      <td>0.936303</td>\n",
              "      <td>-0.500782</td>\n",
              "      <td>0</td>\n",
              "      <td>...</td>\n",
              "      <td>0</td>\n",
              "      <td>0</td>\n",
              "      <td>0</td>\n",
              "      <td>0</td>\n",
              "      <td>0</td>\n",
              "      <td>0</td>\n",
              "      <td>0</td>\n",
              "      <td>0.184383</td>\n",
              "      <td>0.584018</td>\n",
              "      <td>-0.149587</td>\n",
              "    </tr>\n",
              "    <tr>\n",
              "      <th>13404</th>\n",
              "      <td>0.026823</td>\n",
              "      <td>-0.322763</td>\n",
              "      <td>0.053249</td>\n",
              "      <td>-0.217225</td>\n",
              "      <td>-0.399947</td>\n",
              "      <td>1.173093</td>\n",
              "      <td>-0.534905</td>\n",
              "      <td>-1.066171</td>\n",
              "      <td>-0.857215</td>\n",
              "      <td>1</td>\n",
              "      <td>...</td>\n",
              "      <td>0</td>\n",
              "      <td>0</td>\n",
              "      <td>0</td>\n",
              "      <td>0</td>\n",
              "      <td>0</td>\n",
              "      <td>0</td>\n",
              "      <td>0</td>\n",
              "      <td>1.605274</td>\n",
              "      <td>0.524489</td>\n",
              "      <td>-0.112128</td>\n",
              "    </tr>\n",
              "  </tbody>\n",
              "</table>\n",
              "<p>5 rows × 62 columns</p>\n",
              "</div>\n",
              "      <button class=\"colab-df-convert\" onclick=\"convertToInteractive('df-fe514916-90de-4a79-ae65-a94b1b60a697')\"\n",
              "              title=\"Convert this dataframe to an interactive table.\"\n",
              "              style=\"display:none;\">\n",
              "        \n",
              "  <svg xmlns=\"http://www.w3.org/2000/svg\" height=\"24px\"viewBox=\"0 0 24 24\"\n",
              "       width=\"24px\">\n",
              "    <path d=\"M0 0h24v24H0V0z\" fill=\"none\"/>\n",
              "    <path d=\"M18.56 5.44l.94 2.06.94-2.06 2.06-.94-2.06-.94-.94-2.06-.94 2.06-2.06.94zm-11 1L8.5 8.5l.94-2.06 2.06-.94-2.06-.94L8.5 2.5l-.94 2.06-2.06.94zm10 10l.94 2.06.94-2.06 2.06-.94-2.06-.94-.94-2.06-.94 2.06-2.06.94z\"/><path d=\"M17.41 7.96l-1.37-1.37c-.4-.4-.92-.59-1.43-.59-.52 0-1.04.2-1.43.59L10.3 9.45l-7.72 7.72c-.78.78-.78 2.05 0 2.83L4 21.41c.39.39.9.59 1.41.59.51 0 1.02-.2 1.41-.59l7.78-7.78 2.81-2.81c.8-.78.8-2.07 0-2.86zM5.41 20L4 18.59l7.72-7.72 1.47 1.35L5.41 20z\"/>\n",
              "  </svg>\n",
              "      </button>\n",
              "      \n",
              "  <style>\n",
              "    .colab-df-container {\n",
              "      display:flex;\n",
              "      flex-wrap:wrap;\n",
              "      gap: 12px;\n",
              "    }\n",
              "\n",
              "    .colab-df-convert {\n",
              "      background-color: #E8F0FE;\n",
              "      border: none;\n",
              "      border-radius: 50%;\n",
              "      cursor: pointer;\n",
              "      display: none;\n",
              "      fill: #1967D2;\n",
              "      height: 32px;\n",
              "      padding: 0 0 0 0;\n",
              "      width: 32px;\n",
              "    }\n",
              "\n",
              "    .colab-df-convert:hover {\n",
              "      background-color: #E2EBFA;\n",
              "      box-shadow: 0px 1px 2px rgba(60, 64, 67, 0.3), 0px 1px 3px 1px rgba(60, 64, 67, 0.15);\n",
              "      fill: #174EA6;\n",
              "    }\n",
              "\n",
              "    [theme=dark] .colab-df-convert {\n",
              "      background-color: #3B4455;\n",
              "      fill: #D2E3FC;\n",
              "    }\n",
              "\n",
              "    [theme=dark] .colab-df-convert:hover {\n",
              "      background-color: #434B5C;\n",
              "      box-shadow: 0px 1px 3px 1px rgba(0, 0, 0, 0.15);\n",
              "      filter: drop-shadow(0px 1px 2px rgba(0, 0, 0, 0.3));\n",
              "      fill: #FFFFFF;\n",
              "    }\n",
              "  </style>\n",
              "\n",
              "      <script>\n",
              "        const buttonEl =\n",
              "          document.querySelector('#df-fe514916-90de-4a79-ae65-a94b1b60a697 button.colab-df-convert');\n",
              "        buttonEl.style.display =\n",
              "          google.colab.kernel.accessAllowed ? 'block' : 'none';\n",
              "\n",
              "        async function convertToInteractive(key) {\n",
              "          const element = document.querySelector('#df-fe514916-90de-4a79-ae65-a94b1b60a697');\n",
              "          const dataTable =\n",
              "            await google.colab.kernel.invokeFunction('convertToInteractive',\n",
              "                                                     [key], {});\n",
              "          if (!dataTable) return;\n",
              "\n",
              "          const docLinkHtml = 'Like what you see? Visit the ' +\n",
              "            '<a target=\"_blank\" href=https://colab.research.google.com/notebooks/data_table.ipynb>data table notebook</a>'\n",
              "            + ' to learn more about interactive tables.';\n",
              "          element.innerHTML = '';\n",
              "          dataTable['output_type'] = 'display_data';\n",
              "          await google.colab.output.renderOutput(dataTable, element);\n",
              "          const docLink = document.createElement('div');\n",
              "          docLink.innerHTML = docLinkHtml;\n",
              "          element.appendChild(docLink);\n",
              "        }\n",
              "      </script>\n",
              "    </div>\n",
              "  </div>\n",
              "  "
            ]
          },
          "metadata": {},
          "execution_count": 28
        }
      ]
    },
    {
      "cell_type": "code",
      "source": [
        "# Scaling the data for the test dataset\n",
        "\n",
        "X_test[['Site_info', 'App_info', 'Device_info','C1', 'C14', 'C15','C16','C17','C18','C19','C20','C21'\n",
        "]]=scalar.transform(X_test[['Site_info', 'App_info', 'Device_info','C1', 'C14', 'C15','C16','C17','C18','C19','C20','C21']])"
      ],
      "metadata": {
        "id": "MrnmXrg-Q9O8"
      },
      "execution_count": 29,
      "outputs": []
    },
    {
      "cell_type": "code",
      "source": [
        "X_test.head()"
      ],
      "metadata": {
        "colab": {
          "base_uri": "https://localhost:8080/",
          "height": 299
        },
        "id": "XgupGLB5RZ4r",
        "outputId": "79f5e7ae-cddd-400e-e529-a0117a34bb24"
      },
      "execution_count": 30,
      "outputs": [
        {
          "output_type": "execute_result",
          "data": {
            "text/plain": [
              "             C1       C14       C15       C16       C17       C18       C19  \\\n",
              "3582   1.855921  0.598180  0.053249 -0.217225  0.665335 -0.334745 -0.158655   \n",
              "60498  0.026823 -2.129463  0.053249 -0.217225 -2.229204  1.173093 -0.147253   \n",
              "53227  0.026823 -0.637429  0.053249 -0.217225 -0.646922 -1.088664 -0.546307   \n",
              "21333 -2.716825  1.002230  0.053249 -0.217225  1.009453 -1.088664  0.180541   \n",
              "3885   0.026823 -0.638440  0.053249 -0.217225 -0.646922 -1.088664 -0.546307   \n",
              "\n",
              "            C20       C21  banner_pos_1  ...  hour_17  hour_18  hour_19  \\\n",
              "3582   0.939506 -0.172864             0  ...        0        0        0   \n",
              "60498  0.937164 -0.857215             0  ...        0        0        0   \n",
              "53227 -1.066171 -0.058806             1  ...        0        0        0   \n",
              "21333 -1.066171 -0.586326             0  ...        0        1        0   \n",
              "3885  -1.066171 -0.058806             0  ...        0        0        0   \n",
              "\n",
              "       hour_20  hour_21  hour_22  hour_23  Site_info  App_info  Device_info  \n",
              "3582         0        0        0        0   0.184383 -2.398694    -2.006323  \n",
              "60498        0        0        0        0  -0.318849  0.524489     0.301721  \n",
              "53227        0        0        0        0   0.184383 -1.787739    -0.012718  \n",
              "21333        0        0        0        0   0.184383  0.289507    -0.388027  \n",
              "3885         0        0        1        0  -1.478873  0.524489     0.180339  \n",
              "\n",
              "[5 rows x 62 columns]"
            ],
            "text/html": [
              "\n",
              "  <div id=\"df-b7318b2e-b390-4dd1-a2b1-beef377f8be6\">\n",
              "    <div class=\"colab-df-container\">\n",
              "      <div>\n",
              "<style scoped>\n",
              "    .dataframe tbody tr th:only-of-type {\n",
              "        vertical-align: middle;\n",
              "    }\n",
              "\n",
              "    .dataframe tbody tr th {\n",
              "        vertical-align: top;\n",
              "    }\n",
              "\n",
              "    .dataframe thead th {\n",
              "        text-align: right;\n",
              "    }\n",
              "</style>\n",
              "<table border=\"1\" class=\"dataframe\">\n",
              "  <thead>\n",
              "    <tr style=\"text-align: right;\">\n",
              "      <th></th>\n",
              "      <th>C1</th>\n",
              "      <th>C14</th>\n",
              "      <th>C15</th>\n",
              "      <th>C16</th>\n",
              "      <th>C17</th>\n",
              "      <th>C18</th>\n",
              "      <th>C19</th>\n",
              "      <th>C20</th>\n",
              "      <th>C21</th>\n",
              "      <th>banner_pos_1</th>\n",
              "      <th>...</th>\n",
              "      <th>hour_17</th>\n",
              "      <th>hour_18</th>\n",
              "      <th>hour_19</th>\n",
              "      <th>hour_20</th>\n",
              "      <th>hour_21</th>\n",
              "      <th>hour_22</th>\n",
              "      <th>hour_23</th>\n",
              "      <th>Site_info</th>\n",
              "      <th>App_info</th>\n",
              "      <th>Device_info</th>\n",
              "    </tr>\n",
              "  </thead>\n",
              "  <tbody>\n",
              "    <tr>\n",
              "      <th>3582</th>\n",
              "      <td>1.855921</td>\n",
              "      <td>0.598180</td>\n",
              "      <td>0.053249</td>\n",
              "      <td>-0.217225</td>\n",
              "      <td>0.665335</td>\n",
              "      <td>-0.334745</td>\n",
              "      <td>-0.158655</td>\n",
              "      <td>0.939506</td>\n",
              "      <td>-0.172864</td>\n",
              "      <td>0</td>\n",
              "      <td>...</td>\n",
              "      <td>0</td>\n",
              "      <td>0</td>\n",
              "      <td>0</td>\n",
              "      <td>0</td>\n",
              "      <td>0</td>\n",
              "      <td>0</td>\n",
              "      <td>0</td>\n",
              "      <td>0.184383</td>\n",
              "      <td>-2.398694</td>\n",
              "      <td>-2.006323</td>\n",
              "    </tr>\n",
              "    <tr>\n",
              "      <th>60498</th>\n",
              "      <td>0.026823</td>\n",
              "      <td>-2.129463</td>\n",
              "      <td>0.053249</td>\n",
              "      <td>-0.217225</td>\n",
              "      <td>-2.229204</td>\n",
              "      <td>1.173093</td>\n",
              "      <td>-0.147253</td>\n",
              "      <td>0.937164</td>\n",
              "      <td>-0.857215</td>\n",
              "      <td>0</td>\n",
              "      <td>...</td>\n",
              "      <td>0</td>\n",
              "      <td>0</td>\n",
              "      <td>0</td>\n",
              "      <td>0</td>\n",
              "      <td>0</td>\n",
              "      <td>0</td>\n",
              "      <td>0</td>\n",
              "      <td>-0.318849</td>\n",
              "      <td>0.524489</td>\n",
              "      <td>0.301721</td>\n",
              "    </tr>\n",
              "    <tr>\n",
              "      <th>53227</th>\n",
              "      <td>0.026823</td>\n",
              "      <td>-0.637429</td>\n",
              "      <td>0.053249</td>\n",
              "      <td>-0.217225</td>\n",
              "      <td>-0.646922</td>\n",
              "      <td>-1.088664</td>\n",
              "      <td>-0.546307</td>\n",
              "      <td>-1.066171</td>\n",
              "      <td>-0.058806</td>\n",
              "      <td>1</td>\n",
              "      <td>...</td>\n",
              "      <td>0</td>\n",
              "      <td>0</td>\n",
              "      <td>0</td>\n",
              "      <td>0</td>\n",
              "      <td>0</td>\n",
              "      <td>0</td>\n",
              "      <td>0</td>\n",
              "      <td>0.184383</td>\n",
              "      <td>-1.787739</td>\n",
              "      <td>-0.012718</td>\n",
              "    </tr>\n",
              "    <tr>\n",
              "      <th>21333</th>\n",
              "      <td>-2.716825</td>\n",
              "      <td>1.002230</td>\n",
              "      <td>0.053249</td>\n",
              "      <td>-0.217225</td>\n",
              "      <td>1.009453</td>\n",
              "      <td>-1.088664</td>\n",
              "      <td>0.180541</td>\n",
              "      <td>-1.066171</td>\n",
              "      <td>-0.586326</td>\n",
              "      <td>0</td>\n",
              "      <td>...</td>\n",
              "      <td>0</td>\n",
              "      <td>1</td>\n",
              "      <td>0</td>\n",
              "      <td>0</td>\n",
              "      <td>0</td>\n",
              "      <td>0</td>\n",
              "      <td>0</td>\n",
              "      <td>0.184383</td>\n",
              "      <td>0.289507</td>\n",
              "      <td>-0.388027</td>\n",
              "    </tr>\n",
              "    <tr>\n",
              "      <th>3885</th>\n",
              "      <td>0.026823</td>\n",
              "      <td>-0.638440</td>\n",
              "      <td>0.053249</td>\n",
              "      <td>-0.217225</td>\n",
              "      <td>-0.646922</td>\n",
              "      <td>-1.088664</td>\n",
              "      <td>-0.546307</td>\n",
              "      <td>-1.066171</td>\n",
              "      <td>-0.058806</td>\n",
              "      <td>0</td>\n",
              "      <td>...</td>\n",
              "      <td>0</td>\n",
              "      <td>0</td>\n",
              "      <td>0</td>\n",
              "      <td>0</td>\n",
              "      <td>0</td>\n",
              "      <td>1</td>\n",
              "      <td>0</td>\n",
              "      <td>-1.478873</td>\n",
              "      <td>0.524489</td>\n",
              "      <td>0.180339</td>\n",
              "    </tr>\n",
              "  </tbody>\n",
              "</table>\n",
              "<p>5 rows × 62 columns</p>\n",
              "</div>\n",
              "      <button class=\"colab-df-convert\" onclick=\"convertToInteractive('df-b7318b2e-b390-4dd1-a2b1-beef377f8be6')\"\n",
              "              title=\"Convert this dataframe to an interactive table.\"\n",
              "              style=\"display:none;\">\n",
              "        \n",
              "  <svg xmlns=\"http://www.w3.org/2000/svg\" height=\"24px\"viewBox=\"0 0 24 24\"\n",
              "       width=\"24px\">\n",
              "    <path d=\"M0 0h24v24H0V0z\" fill=\"none\"/>\n",
              "    <path d=\"M18.56 5.44l.94 2.06.94-2.06 2.06-.94-2.06-.94-.94-2.06-.94 2.06-2.06.94zm-11 1L8.5 8.5l.94-2.06 2.06-.94-2.06-.94L8.5 2.5l-.94 2.06-2.06.94zm10 10l.94 2.06.94-2.06 2.06-.94-2.06-.94-.94-2.06-.94 2.06-2.06.94z\"/><path d=\"M17.41 7.96l-1.37-1.37c-.4-.4-.92-.59-1.43-.59-.52 0-1.04.2-1.43.59L10.3 9.45l-7.72 7.72c-.78.78-.78 2.05 0 2.83L4 21.41c.39.39.9.59 1.41.59.51 0 1.02-.2 1.41-.59l7.78-7.78 2.81-2.81c.8-.78.8-2.07 0-2.86zM5.41 20L4 18.59l7.72-7.72 1.47 1.35L5.41 20z\"/>\n",
              "  </svg>\n",
              "      </button>\n",
              "      \n",
              "  <style>\n",
              "    .colab-df-container {\n",
              "      display:flex;\n",
              "      flex-wrap:wrap;\n",
              "      gap: 12px;\n",
              "    }\n",
              "\n",
              "    .colab-df-convert {\n",
              "      background-color: #E8F0FE;\n",
              "      border: none;\n",
              "      border-radius: 50%;\n",
              "      cursor: pointer;\n",
              "      display: none;\n",
              "      fill: #1967D2;\n",
              "      height: 32px;\n",
              "      padding: 0 0 0 0;\n",
              "      width: 32px;\n",
              "    }\n",
              "\n",
              "    .colab-df-convert:hover {\n",
              "      background-color: #E2EBFA;\n",
              "      box-shadow: 0px 1px 2px rgba(60, 64, 67, 0.3), 0px 1px 3px 1px rgba(60, 64, 67, 0.15);\n",
              "      fill: #174EA6;\n",
              "    }\n",
              "\n",
              "    [theme=dark] .colab-df-convert {\n",
              "      background-color: #3B4455;\n",
              "      fill: #D2E3FC;\n",
              "    }\n",
              "\n",
              "    [theme=dark] .colab-df-convert:hover {\n",
              "      background-color: #434B5C;\n",
              "      box-shadow: 0px 1px 3px 1px rgba(0, 0, 0, 0.15);\n",
              "      filter: drop-shadow(0px 1px 2px rgba(0, 0, 0, 0.3));\n",
              "      fill: #FFFFFF;\n",
              "    }\n",
              "  </style>\n",
              "\n",
              "      <script>\n",
              "        const buttonEl =\n",
              "          document.querySelector('#df-b7318b2e-b390-4dd1-a2b1-beef377f8be6 button.colab-df-convert');\n",
              "        buttonEl.style.display =\n",
              "          google.colab.kernel.accessAllowed ? 'block' : 'none';\n",
              "\n",
              "        async function convertToInteractive(key) {\n",
              "          const element = document.querySelector('#df-b7318b2e-b390-4dd1-a2b1-beef377f8be6');\n",
              "          const dataTable =\n",
              "            await google.colab.kernel.invokeFunction('convertToInteractive',\n",
              "                                                     [key], {});\n",
              "          if (!dataTable) return;\n",
              "\n",
              "          const docLinkHtml = 'Like what you see? Visit the ' +\n",
              "            '<a target=\"_blank\" href=https://colab.research.google.com/notebooks/data_table.ipynb>data table notebook</a>'\n",
              "            + ' to learn more about interactive tables.';\n",
              "          element.innerHTML = '';\n",
              "          dataTable['output_type'] = 'display_data';\n",
              "          await google.colab.output.renderOutput(dataTable, element);\n",
              "          const docLink = document.createElement('div');\n",
              "          docLink.innerHTML = docLinkHtml;\n",
              "          element.appendChild(docLink);\n",
              "        }\n",
              "      </script>\n",
              "    </div>\n",
              "  </div>\n",
              "  "
            ]
          },
          "metadata": {},
          "execution_count": 30
        }
      ]
    },
    {
      "cell_type": "markdown",
      "source": [
        "Model 1 - Logistic regression"
      ],
      "metadata": {
        "id": "Dv6ufxZpR04V"
      }
    },
    {
      "cell_type": "code",
      "source": [
        "# importing the logistic regression from scikit learn \n",
        "from sklearn.linear_model import LogisticRegression\n",
        "\n",
        "# Declaring the logistic model\n",
        "\n",
        "model =  LogisticRegression()\n",
        "#training the model on the data\n",
        "model.fit(X_train, Y_train)"
      ],
      "metadata": {
        "colab": {
          "base_uri": "https://localhost:8080/"
        },
        "id": "BE5ekIYsRiHW",
        "outputId": "1316f0e4-5f7e-4a36-c94e-37166be80914"
      },
      "execution_count": 31,
      "outputs": [
        {
          "output_type": "execute_result",
          "data": {
            "text/plain": [
              "LogisticRegression()"
            ]
          },
          "metadata": {},
          "execution_count": 31
        }
      ]
    },
    {
      "cell_type": "code",
      "source": [
        "#Co-Efficiant of the model \n",
        "\n",
        "model.coef_"
      ],
      "metadata": {
        "colab": {
          "base_uri": "https://localhost:8080/"
        },
        "id": "bhf80mAySg2p",
        "outputId": "96bf4a9a-95b0-427c-e4be-dd6048b0e305"
      },
      "execution_count": 32,
      "outputs": [
        {
          "output_type": "execute_result",
          "data": {
            "text/plain": [
              "array([[ 5.98775027e-02, -2.81015058e-01, -3.99730765e-02,\n",
              "         2.68844469e-01,  1.68500056e-01, -8.95012396e-02,\n",
              "        -1.20033779e-03, -1.33113617e-01, -1.52269940e-01,\n",
              "         2.69672197e-01, -3.35208117e-01,  1.43524812e-01,\n",
              "        -5.15967044e-01, -1.70903456e-01, -4.53163787e-01,\n",
              "        -5.65976401e-01, -1.30493535e+00, -1.03859477e+00,\n",
              "        -2.48238826e-01, -1.01061662e+00, -7.00609328e-01,\n",
              "        -1.83900026e-01, -1.50324176e-01, -4.56677154e-02,\n",
              "        -7.30213141e-02, -7.63929294e-02, -1.00873174e-01,\n",
              "        -1.12172088e-01, -3.68956433e-03, -7.30213141e-02,\n",
              "        -7.63929294e-02, -1.00873174e-01, -1.05828769e-01,\n",
              "        -2.33457595e-03, -3.81520884e-02, -4.19781511e-02,\n",
              "         4.32530185e-02,  4.60597869e-02,  1.24325068e-01,\n",
              "         3.16207149e-03, -1.33760575e-01,  2.07155116e-02,\n",
              "         9.73030948e-02,  4.04088946e-02,  1.24504111e-01,\n",
              "         2.03416252e-02,  6.15533189e-02,  9.56249042e-02,\n",
              "         4.84928247e-02,  3.75950688e-02,  7.06224733e-02,\n",
              "         8.96927278e-02,  5.30695562e-02, -1.42241002e-02,\n",
              "         8.95108923e-02, -5.57652691e-02, -6.87317548e-02,\n",
              "        -1.07855030e-01,  7.70017211e-02,  1.55708139e-03,\n",
              "         4.12860528e-02, -1.94426296e-03]])"
            ]
          },
          "metadata": {},
          "execution_count": 32
        }
      ]
    },
    {
      "cell_type": "code",
      "source": [
        "#using the testing data to make predictions and determine the accuracy of our predictions \n",
        "\n",
        "##y_pred = model.predict(X_test)\n",
        "\n",
        "y_pred = model.predict(X_test)"
      ],
      "metadata": {
        "id": "AajI7Wk8SsMI"
      },
      "execution_count": 33,
      "outputs": []
    },
    {
      "cell_type": "code",
      "source": [
        "\n",
        "#importing the libraries for checking metrics \n",
        "from sklearn import metrics\n",
        "\n",
        "# the accuracy , recall and oercision\n",
        "#predicting test data\n",
        "\n",
        "y_pred = model.predict(X_test)\n",
        "from sklearn.metrics import accuracy_score, f1_score, recall_score, precision_score, confusion_matrix\n",
        "Acc = accuracy_score(Y_test, y_pred)\n",
        "precision = precision_score(Y_test,y_pred)\n",
        "recall = recall_score(Y_test,y_pred)\n",
        "F1 = f1_score(Y_test,y_pred)\n",
        "result = pd.DataFrame([['Logistic Regression', Acc, precision, recall,F1]],\n",
        "                      columns=['Model','Accuracy','Precision','Recall','F1 Score'])\n",
        "result"
      ],
      "metadata": {
        "colab": {
          "base_uri": "https://localhost:8080/",
          "height": 80
        },
        "id": "B5FNAfggSu5d",
        "outputId": "7d3778fa-456a-4223-fa67-3bb1aedda413"
      },
      "execution_count": 34,
      "outputs": [
        {
          "output_type": "execute_result",
          "data": {
            "text/plain": [
              "                 Model  Accuracy  Precision    Recall  F1 Score\n",
              "0  Logistic Regression  0.828333   0.173913  0.001563  0.003097"
            ],
            "text/html": [
              "\n",
              "  <div id=\"df-0e825e2f-67a0-440b-9a5f-97b9001127c1\">\n",
              "    <div class=\"colab-df-container\">\n",
              "      <div>\n",
              "<style scoped>\n",
              "    .dataframe tbody tr th:only-of-type {\n",
              "        vertical-align: middle;\n",
              "    }\n",
              "\n",
              "    .dataframe tbody tr th {\n",
              "        vertical-align: top;\n",
              "    }\n",
              "\n",
              "    .dataframe thead th {\n",
              "        text-align: right;\n",
              "    }\n",
              "</style>\n",
              "<table border=\"1\" class=\"dataframe\">\n",
              "  <thead>\n",
              "    <tr style=\"text-align: right;\">\n",
              "      <th></th>\n",
              "      <th>Model</th>\n",
              "      <th>Accuracy</th>\n",
              "      <th>Precision</th>\n",
              "      <th>Recall</th>\n",
              "      <th>F1 Score</th>\n",
              "    </tr>\n",
              "  </thead>\n",
              "  <tbody>\n",
              "    <tr>\n",
              "      <th>0</th>\n",
              "      <td>Logistic Regression</td>\n",
              "      <td>0.828333</td>\n",
              "      <td>0.173913</td>\n",
              "      <td>0.001563</td>\n",
              "      <td>0.003097</td>\n",
              "    </tr>\n",
              "  </tbody>\n",
              "</table>\n",
              "</div>\n",
              "      <button class=\"colab-df-convert\" onclick=\"convertToInteractive('df-0e825e2f-67a0-440b-9a5f-97b9001127c1')\"\n",
              "              title=\"Convert this dataframe to an interactive table.\"\n",
              "              style=\"display:none;\">\n",
              "        \n",
              "  <svg xmlns=\"http://www.w3.org/2000/svg\" height=\"24px\"viewBox=\"0 0 24 24\"\n",
              "       width=\"24px\">\n",
              "    <path d=\"M0 0h24v24H0V0z\" fill=\"none\"/>\n",
              "    <path d=\"M18.56 5.44l.94 2.06.94-2.06 2.06-.94-2.06-.94-.94-2.06-.94 2.06-2.06.94zm-11 1L8.5 8.5l.94-2.06 2.06-.94-2.06-.94L8.5 2.5l-.94 2.06-2.06.94zm10 10l.94 2.06.94-2.06 2.06-.94-2.06-.94-.94-2.06-.94 2.06-2.06.94z\"/><path d=\"M17.41 7.96l-1.37-1.37c-.4-.4-.92-.59-1.43-.59-.52 0-1.04.2-1.43.59L10.3 9.45l-7.72 7.72c-.78.78-.78 2.05 0 2.83L4 21.41c.39.39.9.59 1.41.59.51 0 1.02-.2 1.41-.59l7.78-7.78 2.81-2.81c.8-.78.8-2.07 0-2.86zM5.41 20L4 18.59l7.72-7.72 1.47 1.35L5.41 20z\"/>\n",
              "  </svg>\n",
              "      </button>\n",
              "      \n",
              "  <style>\n",
              "    .colab-df-container {\n",
              "      display:flex;\n",
              "      flex-wrap:wrap;\n",
              "      gap: 12px;\n",
              "    }\n",
              "\n",
              "    .colab-df-convert {\n",
              "      background-color: #E8F0FE;\n",
              "      border: none;\n",
              "      border-radius: 50%;\n",
              "      cursor: pointer;\n",
              "      display: none;\n",
              "      fill: #1967D2;\n",
              "      height: 32px;\n",
              "      padding: 0 0 0 0;\n",
              "      width: 32px;\n",
              "    }\n",
              "\n",
              "    .colab-df-convert:hover {\n",
              "      background-color: #E2EBFA;\n",
              "      box-shadow: 0px 1px 2px rgba(60, 64, 67, 0.3), 0px 1px 3px 1px rgba(60, 64, 67, 0.15);\n",
              "      fill: #174EA6;\n",
              "    }\n",
              "\n",
              "    [theme=dark] .colab-df-convert {\n",
              "      background-color: #3B4455;\n",
              "      fill: #D2E3FC;\n",
              "    }\n",
              "\n",
              "    [theme=dark] .colab-df-convert:hover {\n",
              "      background-color: #434B5C;\n",
              "      box-shadow: 0px 1px 3px 1px rgba(0, 0, 0, 0.15);\n",
              "      filter: drop-shadow(0px 1px 2px rgba(0, 0, 0, 0.3));\n",
              "      fill: #FFFFFF;\n",
              "    }\n",
              "  </style>\n",
              "\n",
              "      <script>\n",
              "        const buttonEl =\n",
              "          document.querySelector('#df-0e825e2f-67a0-440b-9a5f-97b9001127c1 button.colab-df-convert');\n",
              "        buttonEl.style.display =\n",
              "          google.colab.kernel.accessAllowed ? 'block' : 'none';\n",
              "\n",
              "        async function convertToInteractive(key) {\n",
              "          const element = document.querySelector('#df-0e825e2f-67a0-440b-9a5f-97b9001127c1');\n",
              "          const dataTable =\n",
              "            await google.colab.kernel.invokeFunction('convertToInteractive',\n",
              "                                                     [key], {});\n",
              "          if (!dataTable) return;\n",
              "\n",
              "          const docLinkHtml = 'Like what you see? Visit the ' +\n",
              "            '<a target=\"_blank\" href=https://colab.research.google.com/notebooks/data_table.ipynb>data table notebook</a>'\n",
              "            + ' to learn more about interactive tables.';\n",
              "          element.innerHTML = '';\n",
              "          dataTable['output_type'] = 'display_data';\n",
              "          await google.colab.output.renderOutput(dataTable, element);\n",
              "          const docLink = document.createElement('div');\n",
              "          docLink.innerHTML = docLinkHtml;\n",
              "          element.appendChild(docLink);\n",
              "        }\n",
              "      </script>\n",
              "    </div>\n",
              "  </div>\n",
              "  "
            ]
          },
          "metadata": {},
          "execution_count": 34
        }
      ]
    },
    {
      "cell_type": "code",
      "source": [
        "#printing the confusion matrix for the model \n",
        "\n",
        "CNF_MTRX = metrics.confusion_matrix(Y_test, y_pred)\n",
        "print(CNF_MTRX)\n",
        "\n",
        "metrics.plot_confusion_matrix(model, X_test,Y_test)\n",
        "plt.show"
      ],
      "metadata": {
        "colab": {
          "base_uri": "https://localhost:8080/",
          "height": 332
        },
        "id": "qZuVIxbxSu7a",
        "outputId": "a84e3f1a-a799-413c-bcc9-1d33a11299e4"
      },
      "execution_count": 35,
      "outputs": [
        {
          "output_type": "stream",
          "name": "stdout",
          "text": [
            "[[24842    38]\n",
            " [ 5112     8]]\n"
          ]
        },
        {
          "output_type": "execute_result",
          "data": {
            "text/plain": [
              "<function matplotlib.pyplot.show(*args, **kw)>"
            ]
          },
          "metadata": {},
          "execution_count": 35
        },
        {
          "output_type": "display_data",
          "data": {
            "text/plain": [
              "<Figure size 432x288 with 2 Axes>"
            ],
            "image/png": "[encoded data removed]"
          },
          "metadata": {
            "needs_background": "light"
          }
        }
      ]
    },
    {
      "cell_type": "code",
      "source": [
        "#printing the precision score \n",
        "print('Precision', precision_score(Y_test,y_pred))"
      ],
      "metadata": {
        "colab": {
          "base_uri": "https://localhost:8080/"
        },
        "id": "YQt455IcSu9r",
        "outputId": "1e8a1ef9-438a-46f6-f909-6f32b2d38fa3"
      },
      "execution_count": 36,
      "outputs": [
        {
          "output_type": "stream",
          "name": "stdout",
          "text": [
            "Precision 0.17391304347826086\n"
          ]
        }
      ]
    },
    {
      "cell_type": "code",
      "source": [
        "#printing the recall score \n",
        "print('Recall', recall_score(Y_test,y_pred))"
      ],
      "metadata": {
        "colab": {
          "base_uri": "https://localhost:8080/"
        },
        "id": "5WAOdq9XSu_s",
        "outputId": "663d15f3-8793-4a34-fa67-82d7d12a6461"
      },
      "execution_count": 37,
      "outputs": [
        {
          "output_type": "stream",
          "name": "stdout",
          "text": [
            "Recall 0.0015625\n"
          ]
        }
      ]
    },
    {
      "cell_type": "code",
      "source": [
        "#AREA UNDER THE CURVE (ROC AUC) check\n",
        "\n",
        "metrics.roc_auc_score(Y_test,model.predict_proba(X_test)[:,1])"
      ],
      "metadata": {
        "colab": {
          "base_uri": "https://localhost:8080/"
        },
        "id": "WoVbRSujSvB3",
        "outputId": "f2b5c6a4-dba0-426b-a4f6-889a1460ddda"
      },
      "execution_count": 38,
      "outputs": [
        {
          "output_type": "execute_result",
          "data": {
            "text/plain": [
              "0.6284232793973573"
            ]
          },
          "metadata": {},
          "execution_count": 38
        }
      ]
    },
    {
      "cell_type": "code",
      "source": [
        "#ROC AUC PLOT \n",
        "\n",
        "metrics.plot_roc_curve(model, X_test, Y_test)\n",
        "plt.show()"
      ],
      "metadata": {
        "colab": {
          "base_uri": "https://localhost:8080/",
          "height": 279
        },
        "id": "b8LTyZQdSvEG",
        "outputId": "dad0e101-c49b-46e3-e46c-07d706a6eb08"
      },
      "execution_count": 39,
      "outputs": [
        {
          "output_type": "display_data",
          "data": {
            "text/plain": [
              "<Figure size 432x288 with 1 Axes>"
            ],
            "image/png": "[encoded data removed]"
          },
          "metadata": {
            "needs_background": "light"
          }
        }
      ]
    },
    {
      "cell_type": "markdown",
      "source": [
        "Optimizing the linear Model\n",
        "By Cross validation and rfe method "
      ],
      "metadata": {
        "id": "CJzcfcYQWsSk"
      }
    },
    {
      "cell_type": "code",
      "source": [
        "#K-folds\n",
        "from sklearn.model_selection import cross_val_score\n",
        "Accuracy = cross_val_score(estimator= model, X =X_train, y= Y_train, cv =10)\n",
        "Accuracy"
      ],
      "metadata": {
        "colab": {
          "base_uri": "https://localhost:8080/"
        },
        "id": "8SC6c8SLSvGS",
        "outputId": "2679ce0d-d272-4aed-f25d-b2461fe26fde"
      },
      "execution_count": 40,
      "outputs": [
        {
          "output_type": "execute_result",
          "data": {
            "text/plain": [
              "array([0.82957143, 0.82971429, 0.82957143, 0.82914286, 0.82971429,\n",
              "       0.82957143, 0.82985714, 0.82871429, 0.82971429, 0.82897557])"
            ]
          },
          "metadata": {},
          "execution_count": 40
        }
      ]
    },
    {
      "cell_type": "markdown",
      "source": [
        "Cross validation score is similar for all "
      ],
      "metadata": {
        "id": "PnAe2zE1Y-kx"
      }
    },
    {
      "cell_type": "code",
      "source": [
        "##Feature selection\n",
        "\n",
        "##recursive feature selection\n",
        "from sklearn.feature_selection import RFE\n",
        "\n",
        "rfe= RFE(model, n_features_to_select=None)\n",
        "rfe = rfe.fit(X_train, Y_train)\n"
      ],
      "metadata": {
        "id": "lrgjociKSvIg"
      },
      "execution_count": 41,
      "outputs": []
    },
    {
      "cell_type": "code",
      "source": [
        "#summarizing selection of features\n",
        "print(rfe.support_)\n",
        "print(rfe.ranking_)\n",
        "X_train.columns[rfe.support_]"
      ],
      "metadata": {
        "colab": {
          "base_uri": "https://localhost:8080/"
        },
        "id": "4dchUV3YSvKt",
        "outputId": "5ae17936-13bd-4ddf-d090-dc223851f9c1"
      },
      "execution_count": 42,
      "outputs": [
        {
          "output_type": "stream",
          "name": "stdout",
          "text": [
            "[ True  True False  True  True  True False  True  True  True  True  True\n",
            "  True  True  True  True  True  True  True  True  True  True  True False\n",
            "  True  True  True  True False False False False False False False False\n",
            " False False  True False  True False False False  True False False False\n",
            " False False False False False False False  True  True  True False False\n",
            " False False]\n",
            "[ 1  1  7  1  1  1 32  1  1  1  1  1  1  1  1  1  1  1  1  1  1  1  1 23\n",
            "  1  1  1  1 31 11  9  2 10 27 22 12 21 18  1 28  1 26  3 19  1 25 15  4\n",
            " 17 20 14  5 16 24  6  1  1  1 13 30  8 29]\n"
          ]
        },
        {
          "output_type": "execute_result",
          "data": {
            "text/plain": [
              "Index(['C1', 'C14', 'C16', 'C17', 'C18', 'C20', 'C21', 'banner_pos_1',\n",
              "       'banner_pos_2', 'banner_pos_3', 'banner_pos_4', 'banner_pos_5',\n",
              "       'banner_pos_7', 'device_type_1', 'device_type_4', 'device_type_5',\n",
              "       'device_conn_type_2', 'device_conn_type_3', 'device_conn_type_5',\n",
              "       'daypfweek_1', 'daypfweek_2', 'daypfweek_4', 'daypfweek_5',\n",
              "       'daypfweek_6', 'day_22', 'hour_3', 'hour_5', 'hour_9', 'hour_20',\n",
              "       'hour_21', 'hour_22'],\n",
              "      dtype='object')"
            ]
          },
          "metadata": {},
          "execution_count": 42
        }
      ]
    },
    {
      "cell_type": "code",
      "source": [
        "# Fitting the model to the training set \n",
        "from sklearn.linear_model import LinearRegression\n",
        "Classifier = LogisticRegression(random_state=0 , penalty='l2')\n",
        "Classifier.fit(X_train[X_train.columns[rfe.support_]], Y_train)"
      ],
      "metadata": {
        "colab": {
          "base_uri": "https://localhost:8080/"
        },
        "id": "UmWFf32OSvNH",
        "outputId": "4ccb34a7-7f8d-400f-945c-4b836f4e9c8b"
      },
      "execution_count": 43,
      "outputs": [
        {
          "output_type": "execute_result",
          "data": {
            "text/plain": [
              "LogisticRegression(random_state=0)"
            ]
          },
          "metadata": {},
          "execution_count": 43
        }
      ]
    },
    {
      "cell_type": "code",
      "source": [
        "from pyparsing import results\n",
        "#predicting the test set \n",
        "Y_pred_rfe = Classifier.predict(X_test[X_train.columns[rfe.support_]])\n",
        "Acc = metrics.accuracy_score(Y_test, y_pred)\n",
        "Precision = metrics.precision_score(Y_test, y_pred)\n",
        "Recall = metrics.recall_score(Y_test, y_pred)\n",
        "F1 = metrics.f1_score(Y_test ,y_pred)\n",
        "model_results = pd.DataFrame([['LogisticRegression RFE',Acc,Precision,Recall,F1]],\n",
        "                             columns=['Model','Accuracy','Precision','Recall','F1 Score'])\n",
        "results = result.append(model_results, ignore_index=True)\n",
        "results"
      ],
      "metadata": {
        "colab": {
          "base_uri": "https://localhost:8080/",
          "height": 112
        },
        "id": "Y2r0HGIJSvPQ",
        "outputId": "78a43008-167d-437c-bf5a-0c1fe73da3fc"
      },
      "execution_count": 44,
      "outputs": [
        {
          "output_type": "execute_result",
          "data": {
            "text/plain": [
              "                    Model  Accuracy  Precision    Recall  F1 Score\n",
              "0     Logistic Regression  0.828333   0.173913  0.001563  0.003097\n",
              "1  LogisticRegression RFE  0.828333   0.173913  0.001563  0.003097"
            ],
            "text/html": [
              "\n",
              "  <div id=\"df-0e8796fe-2bba-4d12-8f0c-de11a0f9b68c\">\n",
              "    <div class=\"colab-df-container\">\n",
              "      <div>\n",
              "<style scoped>\n",
              "    .dataframe tbody tr th:only-of-type {\n",
              "        vertical-align: middle;\n",
              "    }\n",
              "\n",
              "    .dataframe tbody tr th {\n",
              "        vertical-align: top;\n",
              "    }\n",
              "\n",
              "    .dataframe thead th {\n",
              "        text-align: right;\n",
              "    }\n",
              "</style>\n",
              "<table border=\"1\" class=\"dataframe\">\n",
              "  <thead>\n",
              "    <tr style=\"text-align: right;\">\n",
              "      <th></th>\n",
              "      <th>Model</th>\n",
              "      <th>Accuracy</th>\n",
              "      <th>Precision</th>\n",
              "      <th>Recall</th>\n",
              "      <th>F1 Score</th>\n",
              "    </tr>\n",
              "  </thead>\n",
              "  <tbody>\n",
              "    <tr>\n",
              "      <th>0</th>\n",
              "      <td>Logistic Regression</td>\n",
              "      <td>0.828333</td>\n",
              "      <td>0.173913</td>\n",
              "      <td>0.001563</td>\n",
              "      <td>0.003097</td>\n",
              "    </tr>\n",
              "    <tr>\n",
              "      <th>1</th>\n",
              "      <td>LogisticRegression RFE</td>\n",
              "      <td>0.828333</td>\n",
              "      <td>0.173913</td>\n",
              "      <td>0.001563</td>\n",
              "      <td>0.003097</td>\n",
              "    </tr>\n",
              "  </tbody>\n",
              "</table>\n",
              "</div>\n",
              "      <button class=\"colab-df-convert\" onclick=\"convertToInteractive('df-0e8796fe-2bba-4d12-8f0c-de11a0f9b68c')\"\n",
              "              title=\"Convert this dataframe to an interactive table.\"\n",
              "              style=\"display:none;\">\n",
              "        \n",
              "  <svg xmlns=\"http://www.w3.org/2000/svg\" height=\"24px\"viewBox=\"0 0 24 24\"\n",
              "       width=\"24px\">\n",
              "    <path d=\"M0 0h24v24H0V0z\" fill=\"none\"/>\n",
              "    <path d=\"M18.56 5.44l.94 2.06.94-2.06 2.06-.94-2.06-.94-.94-2.06-.94 2.06-2.06.94zm-11 1L8.5 8.5l.94-2.06 2.06-.94-2.06-.94L8.5 2.5l-.94 2.06-2.06.94zm10 10l.94 2.06.94-2.06 2.06-.94-2.06-.94-.94-2.06-.94 2.06-2.06.94z\"/><path d=\"M17.41 7.96l-1.37-1.37c-.4-.4-.92-.59-1.43-.59-.52 0-1.04.2-1.43.59L10.3 9.45l-7.72 7.72c-.78.78-.78 2.05 0 2.83L4 21.41c.39.39.9.59 1.41.59.51 0 1.02-.2 1.41-.59l7.78-7.78 2.81-2.81c.8-.78.8-2.07 0-2.86zM5.41 20L4 18.59l7.72-7.72 1.47 1.35L5.41 20z\"/>\n",
              "  </svg>\n",
              "      </button>\n",
              "      \n",
              "  <style>\n",
              "    .colab-df-container {\n",
              "      display:flex;\n",
              "      flex-wrap:wrap;\n",
              "      gap: 12px;\n",
              "    }\n",
              "\n",
              "    .colab-df-convert {\n",
              "      background-color: #E8F0FE;\n",
              "      border: none;\n",
              "      border-radius: 50%;\n",
              "      cursor: pointer;\n",
              "      display: none;\n",
              "      fill: #1967D2;\n",
              "      height: 32px;\n",
              "      padding: 0 0 0 0;\n",
              "      width: 32px;\n",
              "    }\n",
              "\n",
              "    .colab-df-convert:hover {\n",
              "      background-color: #E2EBFA;\n",
              "      box-shadow: 0px 1px 2px rgba(60, 64, 67, 0.3), 0px 1px 3px 1px rgba(60, 64, 67, 0.15);\n",
              "      fill: #174EA6;\n",
              "    }\n",
              "\n",
              "    [theme=dark] .colab-df-convert {\n",
              "      background-color: #3B4455;\n",
              "      fill: #D2E3FC;\n",
              "    }\n",
              "\n",
              "    [theme=dark] .colab-df-convert:hover {\n",
              "      background-color: #434B5C;\n",
              "      box-shadow: 0px 1px 3px 1px rgba(0, 0, 0, 0.15);\n",
              "      filter: drop-shadow(0px 1px 2px rgba(0, 0, 0, 0.3));\n",
              "      fill: #FFFFFF;\n",
              "    }\n",
              "  </style>\n",
              "\n",
              "      <script>\n",
              "        const buttonEl =\n",
              "          document.querySelector('#df-0e8796fe-2bba-4d12-8f0c-de11a0f9b68c button.colab-df-convert');\n",
              "        buttonEl.style.display =\n",
              "          google.colab.kernel.accessAllowed ? 'block' : 'none';\n",
              "\n",
              "        async function convertToInteractive(key) {\n",
              "          const element = document.querySelector('#df-0e8796fe-2bba-4d12-8f0c-de11a0f9b68c');\n",
              "          const dataTable =\n",
              "            await google.colab.kernel.invokeFunction('convertToInteractive',\n",
              "                                                     [key], {});\n",
              "          if (!dataTable) return;\n",
              "\n",
              "          const docLinkHtml = 'Like what you see? Visit the ' +\n",
              "            '<a target=\"_blank\" href=https://colab.research.google.com/notebooks/data_table.ipynb>data table notebook</a>'\n",
              "            + ' to learn more about interactive tables.';\n",
              "          element.innerHTML = '';\n",
              "          dataTable['output_type'] = 'display_data';\n",
              "          await google.colab.output.renderOutput(dataTable, element);\n",
              "          const docLink = document.createElement('div');\n",
              "          docLink.innerHTML = docLinkHtml;\n",
              "          element.appendChild(docLink);\n",
              "        }\n",
              "      </script>\n",
              "    </div>\n",
              "  </div>\n",
              "  "
            ]
          },
          "metadata": {},
          "execution_count": 44
        }
      ]
    },
    {
      "cell_type": "code",
      "source": [
        "#plotting the Confusion matrix \n",
        "\n",
        "CNF_MTRX = metrics.confusion_matrix(Y_test, Y_pred_rfe)\n",
        "print(CNF_MTRX)\n",
        "metrics.plot_confusion_matrix(Classifier, X_test[X_train.columns[rfe.support_]],Y_test)\n",
        "plt.show()"
      ],
      "metadata": {
        "colab": {
          "base_uri": "https://localhost:8080/",
          "height": 314
        },
        "id": "EWCvPQvSSvS2",
        "outputId": "334532b6-dfde-438c-e9eb-496dff0c6e9a"
      },
      "execution_count": 45,
      "outputs": [
        {
          "output_type": "stream",
          "name": "stdout",
          "text": [
            "[[24841    39]\n",
            " [ 5111     9]]\n"
          ]
        },
        {
          "output_type": "display_data",
          "data": {
            "text/plain": [
              "<Figure size 432x288 with 2 Axes>"
            ],
            "image/png": "[encoded data removed]"
          },
          "metadata": {
            "needs_background": "light"
          }
        }
      ]
    },
    {
      "cell_type": "code",
      "source": [
        "# ROC & AUC\n",
        "\n",
        "metrics.plot_roc_curve(Classifier, X_test[X_train.columns[rfe.support_]],Y_test)\n",
        "\n",
        "plt.show()"
      ],
      "metadata": {
        "colab": {
          "base_uri": "https://localhost:8080/",
          "height": 279
        },
        "id": "M7lKVqfFe1y5",
        "outputId": "0fb47f5e-80f9-4f6d-f7be-d4eeb3780348"
      },
      "execution_count": 46,
      "outputs": [
        {
          "output_type": "display_data",
          "data": {
            "text/plain": [
              "<Figure size 432x288 with 1 Axes>"
            ],
            "image/png": "[encoded data removed]"
          },
          "metadata": {
            "needs_background": "light"
          }
        }
      ]
    },
    {
      "cell_type": "markdown",
      "source": [
        "Model is not affected after RFE "
      ],
      "metadata": {
        "id": "eqgE-RZDfVmP"
      }
    },
    {
      "cell_type": "code",
      "source": [
        "#####"
      ],
      "metadata": {
        "id": "l6Y7WvjJfTcB"
      },
      "execution_count": 47,
      "outputs": []
    },
    {
      "cell_type": "markdown",
      "source": [
        "Desision Tree Model"
      ],
      "metadata": {
        "id": "ZsPDhFMhfgg8"
      }
    },
    {
      "cell_type": "code",
      "source": [
        "from sklearn.tree import DecisionTreeClassifier\n",
        "#building the Basic DTree Model\n",
        "\n",
        "DTree_basic = DecisionTreeClassifier()\n",
        "DTree_basic"
      ],
      "metadata": {
        "colab": {
          "base_uri": "https://localhost:8080/"
        },
        "id": "SogbjzpdfkK1",
        "outputId": "1c0e64a7-5f61-4ffb-93e7-e19185910dae"
      },
      "execution_count": 48,
      "outputs": [
        {
          "output_type": "execute_result",
          "data": {
            "text/plain": [
              "DecisionTreeClassifier()"
            ]
          },
          "metadata": {},
          "execution_count": 48
        }
      ]
    },
    {
      "cell_type": "code",
      "source": [
        "#Training the model\n",
        "DTree_basic.fit(X_train, Y_train)\n",
        "\n",
        "#Using The test data for predictions \n",
        "\n",
        "DTree_basic.predict(X_test)"
      ],
      "metadata": {
        "colab": {
          "base_uri": "https://localhost:8080/"
        },
        "id": "9fGW7fBtf0LK",
        "outputId": "45f78059-53f3-4d26-d12d-3a5e0d050159"
      },
      "execution_count": 49,
      "outputs": [
        {
          "output_type": "execute_result",
          "data": {
            "text/plain": [
              "array([0, 0, 0, ..., 0, 0, 0])"
            ]
          },
          "metadata": {},
          "execution_count": 49
        }
      ]
    },
    {
      "cell_type": "code",
      "source": [
        "#ACurracy Check\n",
        "\n",
        "metrics.accuracy_score(Y_test, DTree_basic.predict(X_test))"
      ],
      "metadata": {
        "colab": {
          "base_uri": "https://localhost:8080/"
        },
        "id": "vxESPdWGgELH",
        "outputId": "fcfb7c29-f18f-4899-8606-78117b07e6a3"
      },
      "execution_count": 50,
      "outputs": [
        {
          "output_type": "execute_result",
          "data": {
            "text/plain": [
              "0.7457333333333334"
            ]
          },
          "metadata": {},
          "execution_count": 50
        }
      ]
    },
    {
      "cell_type": "code",
      "source": [
        "##printing the confusion matrix \n",
        "\n",
        "print(metrics.confusion_matrix(Y_test, DTree_basic.predict(X_test)))\n",
        "\n",
        "metrics.plot_confusion_matrix(DTree_basic,X_test,Y_test)\n",
        "plt.show()"
      ],
      "metadata": {
        "colab": {
          "base_uri": "https://localhost:8080/",
          "height": 314
        },
        "id": "u8d_2j1xgUI2",
        "outputId": "a0834d04-2b71-40d8-89d0-82d385e26301"
      },
      "execution_count": 51,
      "outputs": [
        {
          "output_type": "stream",
          "name": "stdout",
          "text": [
            "[[20947  3933]\n",
            " [ 3695  1425]]\n"
          ]
        },
        {
          "output_type": "display_data",
          "data": {
            "text/plain": [
              "<Figure size 432x288 with 2 Axes>"
            ],
            "image/png": "[encoded data removed]"
          },
          "metadata": {
            "needs_background": "light"
          }
        }
      ]
    },
    {
      "cell_type": "code",
      "source": [
        "#Recall Score \n",
        "\n",
        "print('Recall',recall_score(Y_test, DTree_basic.predict(X_test)))"
      ],
      "metadata": {
        "colab": {
          "base_uri": "https://localhost:8080/"
        },
        "id": "4whktSsehDLl",
        "outputId": "c9490ed0-7f54-4867-a18d-8fc5477e175b"
      },
      "execution_count": 52,
      "outputs": [
        {
          "output_type": "stream",
          "name": "stdout",
          "text": [
            "Recall 0.2783203125\n"
          ]
        }
      ]
    },
    {
      "cell_type": "code",
      "source": [
        "#Precision Score\n",
        "\n",
        "print('Precision',precision_score(Y_test, DTree_basic.predict(X_test)))"
      ],
      "metadata": {
        "colab": {
          "base_uri": "https://localhost:8080/"
        },
        "id": "H5y1p_xmfI7m",
        "outputId": "c985982a-d565-4139-ac46-0f83808185d8"
      },
      "execution_count": 53,
      "outputs": [
        {
          "output_type": "stream",
          "name": "stdout",
          "text": [
            "Precision 0.26595744680851063\n"
          ]
        }
      ]
    },
    {
      "cell_type": "code",
      "source": [
        "#ROC AUC \n",
        "metrics.plot_roc_curve(DTree_basic,X_test,Y_test)\n",
        "plt.show()"
      ],
      "metadata": {
        "colab": {
          "base_uri": "https://localhost:8080/",
          "height": 279
        },
        "id": "NtArKsaNfXkQ",
        "outputId": "5cfbbd92-81e9-4203-ca97-34a9f3738571"
      },
      "execution_count": 54,
      "outputs": [
        {
          "output_type": "display_data",
          "data": {
            "text/plain": [
              "<Figure size 432x288 with 1 Axes>"
            ],
            "image/png": "[encoded data removed]"
          },
          "metadata": {
            "needs_background": "light"
          }
        }
      ]
    },
    {
      "cell_type": "code",
      "source": [
        "#Cross-Validation Check\n",
        "\n",
        "Accuracy = cross_val_score(estimator=DTree_basic, X=X_train, y= Y_train, cv=10)\n",
        "Accuracy"
      ],
      "metadata": {
        "colab": {
          "base_uri": "https://localhost:8080/"
        },
        "id": "0cujBAD1fjJP",
        "outputId": "2ec418f8-679a-480f-b9d9-58fd652fea74"
      },
      "execution_count": 55,
      "outputs": [
        {
          "output_type": "execute_result",
          "data": {
            "text/plain": [
              "array([0.74142857, 0.74771429, 0.74657143, 0.75128571, 0.74514286,\n",
              "       0.75042857, 0.74514286, 0.74357143, 0.739     , 0.75053579])"
            ]
          },
          "metadata": {},
          "execution_count": 55
        }
      ]
    },
    {
      "cell_type": "code",
      "source": [],
      "metadata": {
        "id": "V5LcKuUPf-XC"
      },
      "execution_count": 55,
      "outputs": []
    },
    {
      "cell_type": "markdown",
      "source": [
        "HYPER PARAMETER TUNNING USING C_V\n",
        "\n",
        "MAX_DEPTH"
      ],
      "metadata": {
        "id": "JZYW2XKHgRVR"
      }
    },
    {
      "cell_type": "code",
      "source": [
        "#Declare the model\n",
        "\n",
        "DTree = DecisionTreeClassifier(criterion='gini', random_state=0)\n",
        "DTree"
      ],
      "metadata": {
        "colab": {
          "base_uri": "https://localhost:8080/"
        },
        "id": "QW4YmbxHgQgZ",
        "outputId": "4314a0d3-8370-4723-87ce-1d7327111054"
      },
      "execution_count": 56,
      "outputs": [
        {
          "output_type": "execute_result",
          "data": {
            "text/plain": [
              "DecisionTreeClassifier(random_state=0)"
            ]
          },
          "metadata": {},
          "execution_count": 56
        }
      ]
    },
    {
      "cell_type": "code",
      "source": [
        "\n",
        "# importing gridsearch\n",
        "\n",
        "from sklearn.model_selection import GridSearchCV\n",
        "\n",
        "n_folds=5 \n",
        "parameters = {'max_depth': range(1,10)} # Maximum depth to check by the model\n",
        "tree = GridSearchCV(DTree, parameters, cv=n_folds, scoring='accuracy', return_train_score=True)\n",
        "tree"
      ],
      "metadata": {
        "colab": {
          "base_uri": "https://localhost:8080/"
        },
        "id": "U4sknafSgQkk",
        "outputId": "ea186094-d6b7-4dc1-fa4c-bee52268145e"
      },
      "execution_count": 57,
      "outputs": [
        {
          "output_type": "execute_result",
          "data": {
            "text/plain": [
              "GridSearchCV(cv=5, estimator=DecisionTreeClassifier(random_state=0),\n",
              "             param_grid={'max_depth': range(1, 10)}, return_train_score=True,\n",
              "             scoring='accuracy')"
            ]
          },
          "metadata": {},
          "execution_count": 57
        }
      ]
    },
    {
      "cell_type": "code",
      "source": [
        "#Train the model\n",
        "\n",
        "tree.fit(X_train, Y_train)"
      ],
      "metadata": {
        "colab": {
          "base_uri": "https://localhost:8080/"
        },
        "id": "yltB0CJKgQnL",
        "outputId": "2bff7009-4e7f-4378-8a70-cdfaa6058f8d"
      },
      "execution_count": 58,
      "outputs": [
        {
          "output_type": "execute_result",
          "data": {
            "text/plain": [
              "GridSearchCV(cv=5, estimator=DecisionTreeClassifier(random_state=0),\n",
              "             param_grid={'max_depth': range(1, 10)}, return_train_score=True,\n",
              "             scoring='accuracy')"
            ]
          },
          "metadata": {},
          "execution_count": 58
        }
      ]
    },
    {
      "cell_type": "code",
      "source": [
        "#Getting The Accuracy Score\n",
        "\n",
        "scores = tree.cv_results_\n",
        "scores"
      ],
      "metadata": {
        "colab": {
          "base_uri": "https://localhost:8080/"
        },
        "id": "JiUyr_-GgQqs",
        "outputId": "9b523edd-05bb-49a8-f717-73aa87589a76"
      },
      "execution_count": 59,
      "outputs": [
        {
          "output_type": "execute_result",
          "data": {
            "text/plain": [
              "{'mean_fit_time': array([0.09684367, 0.13123231, 0.16308694, 0.19688692, 0.23082643,\n",
              "        0.27108717, 0.35245843, 0.37010098, 0.40327325]),\n",
              " 'std_fit_time': array([0.00962538, 0.00434818, 0.01507581, 0.00376706, 0.00344152,\n",
              "        0.00164828, 0.03022685, 0.02682079, 0.02383706]),\n",
              " 'mean_score_time': array([0.00884128, 0.0100492 , 0.00733147, 0.00747061, 0.00803204,\n",
              "        0.00808668, 0.00872612, 0.00826635, 0.00835595]),\n",
              " 'std_score_time': array([0.00079335, 0.00302887, 0.00064213, 0.00046717, 0.0012969 ,\n",
              "        0.00081592, 0.00081229, 0.00114332, 0.00078281]),\n",
              " 'param_max_depth': masked_array(data=[1, 2, 3, 4, 5, 6, 7, 8, 9],\n",
              "              mask=[False, False, False, False, False, False, False, False,\n",
              "                    False],\n",
              "        fill_value='?',\n",
              "             dtype=object),\n",
              " 'params': [{'max_depth': 1},\n",
              "  {'max_depth': 2},\n",
              "  {'max_depth': 3},\n",
              "  {'max_depth': 4},\n",
              "  {'max_depth': 5},\n",
              "  {'max_depth': 6},\n",
              "  {'max_depth': 7},\n",
              "  {'max_depth': 8},\n",
              "  {'max_depth': 9}],\n",
              " 'split0_test_score': array([0.83057143, 0.83057143, 0.83057143, 0.83092857, 0.83135714,\n",
              "        0.83157143, 0.8305    , 0.82964286, 0.82842857]),\n",
              " 'split1_test_score': array([0.83057143, 0.83057143, 0.83064286, 0.82928571, 0.82971429,\n",
              "        0.82971429, 0.82964286, 0.82885714, 0.82814286]),\n",
              " 'split2_test_score': array([0.83057143, 0.83057143, 0.83057143, 0.82992857, 0.82978571,\n",
              "        0.82935714, 0.82857143, 0.82871429, 0.82692857]),\n",
              " 'split3_test_score': array([0.83057143, 0.83057143, 0.83057143, 0.83028571, 0.83078571,\n",
              "        0.83028571, 0.83007143, 0.828     , 0.82914286]),\n",
              " 'split4_test_score': array([0.83055933, 0.83055933, 0.83055933, 0.83163083, 0.83055933,\n",
              "        0.83120223, 0.8311308 , 0.82948782, 0.82955925]),\n",
              " 'mean_test_score': array([0.83056901, 0.83056901, 0.83058329, 0.83041188, 0.83044044,\n",
              "        0.83042616, 0.8299833 , 0.82894042, 0.82844042]),\n",
              " 'std_test_score': array([4.84116212e-06, 4.84116212e-06, 3.01483472e-05, 8.08772551e-04,\n",
              "        6.21233945e-04, 8.46547155e-04, 8.60322348e-04, 5.89156496e-04,\n",
              "        9.07697981e-04]),\n",
              " 'rank_test_score': array([2, 2, 1, 6, 4, 5, 7, 8, 9], dtype=int32),\n",
              " 'split0_train_score': array([0.8305684 , 0.8305684 , 0.8305684 , 0.83078269, 0.83146128,\n",
              "        0.83221129, 0.83326488, 0.83549706, 0.83747924]),\n",
              " 'split1_train_score': array([0.8305684 , 0.8305684 , 0.83058626, 0.8312827 , 0.831872  ,\n",
              "        0.83287202, 0.8341399 , 0.83546135, 0.83797925]),\n",
              " 'split2_train_score': array([0.8305684 , 0.8305684 , 0.8305684 , 0.83092555, 0.831997  ,\n",
              "        0.83301488, 0.83476491, 0.83605064, 0.83803282]),\n",
              " 'split3_train_score': array([0.8305684 , 0.8305684 , 0.8305684 , 0.83085412, 0.83131842,\n",
              "        0.83265773, 0.8335506 , 0.83576492, 0.83849712]),\n",
              " 'split4_train_score': array([0.83057143, 0.83057143, 0.83057143, 0.83076786, 0.83201786,\n",
              "        0.83305357, 0.83410714, 0.83583929, 0.83814286]),\n",
              " 'mean_train_score': array([0.83056901, 0.83056901, 0.83057258, 0.83092259, 0.83173331,\n",
              "        0.8327619 , 0.83396548, 0.83572265, 0.83802626]),\n",
              " 'std_train_score': array([1.21022569e-06, 1.21022569e-06, 6.94006951e-06, 1.88621535e-04,\n",
              "        2.88400032e-04, 3.08291518e-04, 5.20103590e-04, 2.20063467e-04,\n",
              "        3.27653303e-04])}"
            ]
          },
          "metadata": {},
          "execution_count": 59
        }
      ]
    },
    {
      "cell_type": "code",
      "source": [
        "#Create DataFrame \n",
        "\n",
        "pd.DataFrame(scores)"
      ],
      "metadata": {
        "colab": {
          "base_uri": "https://localhost:8080/",
          "height": 581
        },
        "id": "QyG-nkKVkhdN",
        "outputId": "20be4f9d-5360-406b-b50b-fae720cce97a"
      },
      "execution_count": 60,
      "outputs": [
        {
          "output_type": "execute_result",
          "data": {
            "text/plain": [
              "   mean_fit_time  std_fit_time  mean_score_time  std_score_time  \\\n",
              "0       0.096844      0.009625         0.008841        0.000793   \n",
              "1       0.131232      0.004348         0.010049        0.003029   \n",
              "2       0.163087      0.015076         0.007331        0.000642   \n",
              "3       0.196887      0.003767         0.007471        0.000467   \n",
              "4       0.230826      0.003442         0.008032        0.001297   \n",
              "5       0.271087      0.001648         0.008087        0.000816   \n",
              "6       0.352458      0.030227         0.008726        0.000812   \n",
              "7       0.370101      0.026821         0.008266        0.001143   \n",
              "8       0.403273      0.023837         0.008356        0.000783   \n",
              "\n",
              "  param_max_depth            params  split0_test_score  split1_test_score  \\\n",
              "0               1  {'max_depth': 1}           0.830571           0.830571   \n",
              "1               2  {'max_depth': 2}           0.830571           0.830571   \n",
              "2               3  {'max_depth': 3}           0.830571           0.830643   \n",
              "3               4  {'max_depth': 4}           0.830929           0.829286   \n",
              "4               5  {'max_depth': 5}           0.831357           0.829714   \n",
              "5               6  {'max_depth': 6}           0.831571           0.829714   \n",
              "6               7  {'max_depth': 7}           0.830500           0.829643   \n",
              "7               8  {'max_depth': 8}           0.829643           0.828857   \n",
              "8               9  {'max_depth': 9}           0.828429           0.828143   \n",
              "\n",
              "   split2_test_score  split3_test_score  ...  mean_test_score  std_test_score  \\\n",
              "0           0.830571           0.830571  ...         0.830569        0.000005   \n",
              "1           0.830571           0.830571  ...         0.830569        0.000005   \n",
              "2           0.830571           0.830571  ...         0.830583        0.000030   \n",
              "3           0.829929           0.830286  ...         0.830412        0.000809   \n",
              "4           0.829786           0.830786  ...         0.830440        0.000621   \n",
              "5           0.829357           0.830286  ...         0.830426        0.000847   \n",
              "6           0.828571           0.830071  ...         0.829983        0.000860   \n",
              "7           0.828714           0.828000  ...         0.828940        0.000589   \n",
              "8           0.826929           0.829143  ...         0.828440        0.000908   \n",
              "\n",
              "   rank_test_score  split0_train_score  split1_train_score  \\\n",
              "0                2            0.830568            0.830568   \n",
              "1                2            0.830568            0.830568   \n",
              "2                1            0.830568            0.830586   \n",
              "3                6            0.830783            0.831283   \n",
              "4                4            0.831461            0.831872   \n",
              "5                5            0.832211            0.832872   \n",
              "6                7            0.833265            0.834140   \n",
              "7                8            0.835497            0.835461   \n",
              "8                9            0.837479            0.837979   \n",
              "\n",
              "   split2_train_score  split3_train_score  split4_train_score  \\\n",
              "0            0.830568            0.830568            0.830571   \n",
              "1            0.830568            0.830568            0.830571   \n",
              "2            0.830568            0.830568            0.830571   \n",
              "3            0.830926            0.830854            0.830768   \n",
              "4            0.831997            0.831318            0.832018   \n",
              "5            0.833015            0.832658            0.833054   \n",
              "6            0.834765            0.833551            0.834107   \n",
              "7            0.836051            0.835765            0.835839   \n",
              "8            0.838033            0.838497            0.838143   \n",
              "\n",
              "   mean_train_score  std_train_score  \n",
              "0          0.830569         0.000001  \n",
              "1          0.830569         0.000001  \n",
              "2          0.830573         0.000007  \n",
              "3          0.830923         0.000189  \n",
              "4          0.831733         0.000288  \n",
              "5          0.832762         0.000308  \n",
              "6          0.833965         0.000520  \n",
              "7          0.835723         0.000220  \n",
              "8          0.838026         0.000328  \n",
              "\n",
              "[9 rows x 21 columns]"
            ],
            "text/html": [
              "\n",
              "  <div id=\"df-8ae70634-41f6-4f5d-9bcc-1756861a29b9\">\n",
              "    <div class=\"colab-df-container\">\n",
              "      <div>\n",
              "<style scoped>\n",
              "    .dataframe tbody tr th:only-of-type {\n",
              "        vertical-align: middle;\n",
              "    }\n",
              "\n",
              "    .dataframe tbody tr th {\n",
              "        vertical-align: top;\n",
              "    }\n",
              "\n",
              "    .dataframe thead th {\n",
              "        text-align: right;\n",
              "    }\n",
              "</style>\n",
              "<table border=\"1\" class=\"dataframe\">\n",
              "  <thead>\n",
              "    <tr style=\"text-align: right;\">\n",
              "      <th></th>\n",
              "      <th>mean_fit_time</th>\n",
              "      <th>std_fit_time</th>\n",
              "      <th>mean_score_time</th>\n",
              "      <th>std_score_time</th>\n",
              "      <th>param_max_depth</th>\n",
              "      <th>params</th>\n",
              "      <th>split0_test_score</th>\n",
              "      <th>split1_test_score</th>\n",
              "      <th>split2_test_score</th>\n",
              "      <th>split3_test_score</th>\n",
              "      <th>...</th>\n",
              "      <th>mean_test_score</th>\n",
              "      <th>std_test_score</th>\n",
              "      <th>rank_test_score</th>\n",
              "      <th>split0_train_score</th>\n",
              "      <th>split1_train_score</th>\n",
              "      <th>split2_train_score</th>\n",
              "      <th>split3_train_score</th>\n",
              "      <th>split4_train_score</th>\n",
              "      <th>mean_train_score</th>\n",
              "      <th>std_train_score</th>\n",
              "    </tr>\n",
              "  </thead>\n",
              "  <tbody>\n",
              "    <tr>\n",
              "      <th>0</th>\n",
              "      <td>0.096844</td>\n",
              "      <td>0.009625</td>\n",
              "      <td>0.008841</td>\n",
              "      <td>0.000793</td>\n",
              "      <td>1</td>\n",
              "      <td>{'max_depth': 1}</td>\n",
              "      <td>0.830571</td>\n",
              "      <td>0.830571</td>\n",
              "      <td>0.830571</td>\n",
              "      <td>0.830571</td>\n",
              "      <td>...</td>\n",
              "      <td>0.830569</td>\n",
              "      <td>0.000005</td>\n",
              "      <td>2</td>\n",
              "      <td>0.830568</td>\n",
              "      <td>0.830568</td>\n",
              "      <td>0.830568</td>\n",
              "      <td>0.830568</td>\n",
              "      <td>0.830571</td>\n",
              "      <td>0.830569</td>\n",
              "      <td>0.000001</td>\n",
              "    </tr>\n",
              "    <tr>\n",
              "      <th>1</th>\n",
              "      <td>0.131232</td>\n",
              "      <td>0.004348</td>\n",
              "      <td>0.010049</td>\n",
              "      <td>0.003029</td>\n",
              "      <td>2</td>\n",
              "      <td>{'max_depth': 2}</td>\n",
              "      <td>0.830571</td>\n",
              "      <td>0.830571</td>\n",
              "      <td>0.830571</td>\n",
              "      <td>0.830571</td>\n",
              "      <td>...</td>\n",
              "      <td>0.830569</td>\n",
              "      <td>0.000005</td>\n",
              "      <td>2</td>\n",
              "      <td>0.830568</td>\n",
              "      <td>0.830568</td>\n",
              "      <td>0.830568</td>\n",
              "      <td>0.830568</td>\n",
              "      <td>0.830571</td>\n",
              "      <td>0.830569</td>\n",
              "      <td>0.000001</td>\n",
              "    </tr>\n",
              "    <tr>\n",
              "      <th>2</th>\n",
              "      <td>0.163087</td>\n",
              "      <td>0.015076</td>\n",
              "      <td>0.007331</td>\n",
              "      <td>0.000642</td>\n",
              "      <td>3</td>\n",
              "      <td>{'max_depth': 3}</td>\n",
              "      <td>0.830571</td>\n",
              "      <td>0.830643</td>\n",
              "      <td>0.830571</td>\n",
              "      <td>0.830571</td>\n",
              "      <td>...</td>\n",
              "      <td>0.830583</td>\n",
              "      <td>0.000030</td>\n",
              "      <td>1</td>\n",
              "      <td>0.830568</td>\n",
              "      <td>0.830586</td>\n",
              "      <td>0.830568</td>\n",
              "      <td>0.830568</td>\n",
              "      <td>0.830571</td>\n",
              "      <td>0.830573</td>\n",
              "      <td>0.000007</td>\n",
              "    </tr>\n",
              "    <tr>\n",
              "      <th>3</th>\n",
              "      <td>0.196887</td>\n",
              "      <td>0.003767</td>\n",
              "      <td>0.007471</td>\n",
              "      <td>0.000467</td>\n",
              "      <td>4</td>\n",
              "      <td>{'max_depth': 4}</td>\n",
              "      <td>0.830929</td>\n",
              "      <td>0.829286</td>\n",
              "      <td>0.829929</td>\n",
              "      <td>0.830286</td>\n",
              "      <td>...</td>\n",
              "      <td>0.830412</td>\n",
              "      <td>0.000809</td>\n",
              "      <td>6</td>\n",
              "      <td>0.830783</td>\n",
              "      <td>0.831283</td>\n",
              "      <td>0.830926</td>\n",
              "      <td>0.830854</td>\n",
              "      <td>0.830768</td>\n",
              "      <td>0.830923</td>\n",
              "      <td>0.000189</td>\n",
              "    </tr>\n",
              "    <tr>\n",
              "      <th>4</th>\n",
              "      <td>0.230826</td>\n",
              "      <td>0.003442</td>\n",
              "      <td>0.008032</td>\n",
              "      <td>0.001297</td>\n",
              "      <td>5</td>\n",
              "      <td>{'max_depth': 5}</td>\n",
              "      <td>0.831357</td>\n",
              "      <td>0.829714</td>\n",
              "      <td>0.829786</td>\n",
              "      <td>0.830786</td>\n",
              "      <td>...</td>\n",
              "      <td>0.830440</td>\n",
              "      <td>0.000621</td>\n",
              "      <td>4</td>\n",
              "      <td>0.831461</td>\n",
              "      <td>0.831872</td>\n",
              "      <td>0.831997</td>\n",
              "      <td>0.831318</td>\n",
              "      <td>0.832018</td>\n",
              "      <td>0.831733</td>\n",
              "      <td>0.000288</td>\n",
              "    </tr>\n",
              "    <tr>\n",
              "      <th>5</th>\n",
              "      <td>0.271087</td>\n",
              "      <td>0.001648</td>\n",
              "      <td>0.008087</td>\n",
              "      <td>0.000816</td>\n",
              "      <td>6</td>\n",
              "      <td>{'max_depth': 6}</td>\n",
              "      <td>0.831571</td>\n",
              "      <td>0.829714</td>\n",
              "      <td>0.829357</td>\n",
              "      <td>0.830286</td>\n",
              "      <td>...</td>\n",
              "      <td>0.830426</td>\n",
              "      <td>0.000847</td>\n",
              "      <td>5</td>\n",
              "      <td>0.832211</td>\n",
              "      <td>0.832872</td>\n",
              "      <td>0.833015</td>\n",
              "      <td>0.832658</td>\n",
              "      <td>0.833054</td>\n",
              "      <td>0.832762</td>\n",
              "      <td>0.000308</td>\n",
              "    </tr>\n",
              "    <tr>\n",
              "      <th>6</th>\n",
              "      <td>0.352458</td>\n",
              "      <td>0.030227</td>\n",
              "      <td>0.008726</td>\n",
              "      <td>0.000812</td>\n",
              "      <td>7</td>\n",
              "      <td>{'max_depth': 7}</td>\n",
              "      <td>0.830500</td>\n",
              "      <td>0.829643</td>\n",
              "      <td>0.828571</td>\n",
              "      <td>0.830071</td>\n",
              "      <td>...</td>\n",
              "      <td>0.829983</td>\n",
              "      <td>0.000860</td>\n",
              "      <td>7</td>\n",
              "      <td>0.833265</td>\n",
              "      <td>0.834140</td>\n",
              "      <td>0.834765</td>\n",
              "      <td>0.833551</td>\n",
              "      <td>0.834107</td>\n",
              "      <td>0.833965</td>\n",
              "      <td>0.000520</td>\n",
              "    </tr>\n",
              "    <tr>\n",
              "      <th>7</th>\n",
              "      <td>0.370101</td>\n",
              "      <td>0.026821</td>\n",
              "      <td>0.008266</td>\n",
              "      <td>0.001143</td>\n",
              "      <td>8</td>\n",
              "      <td>{'max_depth': 8}</td>\n",
              "      <td>0.829643</td>\n",
              "      <td>0.828857</td>\n",
              "      <td>0.828714</td>\n",
              "      <td>0.828000</td>\n",
              "      <td>...</td>\n",
              "      <td>0.828940</td>\n",
              "      <td>0.000589</td>\n",
              "      <td>8</td>\n",
              "      <td>0.835497</td>\n",
              "      <td>0.835461</td>\n",
              "      <td>0.836051</td>\n",
              "      <td>0.835765</td>\n",
              "      <td>0.835839</td>\n",
              "      <td>0.835723</td>\n",
              "      <td>0.000220</td>\n",
              "    </tr>\n",
              "    <tr>\n",
              "      <th>8</th>\n",
              "      <td>0.403273</td>\n",
              "      <td>0.023837</td>\n",
              "      <td>0.008356</td>\n",
              "      <td>0.000783</td>\n",
              "      <td>9</td>\n",
              "      <td>{'max_depth': 9}</td>\n",
              "      <td>0.828429</td>\n",
              "      <td>0.828143</td>\n",
              "      <td>0.826929</td>\n",
              "      <td>0.829143</td>\n",
              "      <td>...</td>\n",
              "      <td>0.828440</td>\n",
              "      <td>0.000908</td>\n",
              "      <td>9</td>\n",
              "      <td>0.837479</td>\n",
              "      <td>0.837979</td>\n",
              "      <td>0.838033</td>\n",
              "      <td>0.838497</td>\n",
              "      <td>0.838143</td>\n",
              "      <td>0.838026</td>\n",
              "      <td>0.000328</td>\n",
              "    </tr>\n",
              "  </tbody>\n",
              "</table>\n",
              "<p>9 rows × 21 columns</p>\n",
              "</div>\n",
              "      <button class=\"colab-df-convert\" onclick=\"convertToInteractive('df-8ae70634-41f6-4f5d-9bcc-1756861a29b9')\"\n",
              "              title=\"Convert this dataframe to an interactive table.\"\n",
              "              style=\"display:none;\">\n",
              "        \n",
              "  <svg xmlns=\"http://www.w3.org/2000/svg\" height=\"24px\"viewBox=\"0 0 24 24\"\n",
              "       width=\"24px\">\n",
              "    <path d=\"M0 0h24v24H0V0z\" fill=\"none\"/>\n",
              "    <path d=\"M18.56 5.44l.94 2.06.94-2.06 2.06-.94-2.06-.94-.94-2.06-.94 2.06-2.06.94zm-11 1L8.5 8.5l.94-2.06 2.06-.94-2.06-.94L8.5 2.5l-.94 2.06-2.06.94zm10 10l.94 2.06.94-2.06 2.06-.94-2.06-.94-.94-2.06-.94 2.06-2.06.94z\"/><path d=\"M17.41 7.96l-1.37-1.37c-.4-.4-.92-.59-1.43-.59-.52 0-1.04.2-1.43.59L10.3 9.45l-7.72 7.72c-.78.78-.78 2.05 0 2.83L4 21.41c.39.39.9.59 1.41.59.51 0 1.02-.2 1.41-.59l7.78-7.78 2.81-2.81c.8-.78.8-2.07 0-2.86zM5.41 20L4 18.59l7.72-7.72 1.47 1.35L5.41 20z\"/>\n",
              "  </svg>\n",
              "      </button>\n",
              "      \n",
              "  <style>\n",
              "    .colab-df-container {\n",
              "      display:flex;\n",
              "      flex-wrap:wrap;\n",
              "      gap: 12px;\n",
              "    }\n",
              "\n",
              "    .colab-df-convert {\n",
              "      background-color: #E8F0FE;\n",
              "      border: none;\n",
              "      border-radius: 50%;\n",
              "      cursor: pointer;\n",
              "      display: none;\n",
              "      fill: #1967D2;\n",
              "      height: 32px;\n",
              "      padding: 0 0 0 0;\n",
              "      width: 32px;\n",
              "    }\n",
              "\n",
              "    .colab-df-convert:hover {\n",
              "      background-color: #E2EBFA;\n",
              "      box-shadow: 0px 1px 2px rgba(60, 64, 67, 0.3), 0px 1px 3px 1px rgba(60, 64, 67, 0.15);\n",
              "      fill: #174EA6;\n",
              "    }\n",
              "\n",
              "    [theme=dark] .colab-df-convert {\n",
              "      background-color: #3B4455;\n",
              "      fill: #D2E3FC;\n",
              "    }\n",
              "\n",
              "    [theme=dark] .colab-df-convert:hover {\n",
              "      background-color: #434B5C;\n",
              "      box-shadow: 0px 1px 3px 1px rgba(0, 0, 0, 0.15);\n",
              "      filter: drop-shadow(0px 1px 2px rgba(0, 0, 0, 0.3));\n",
              "      fill: #FFFFFF;\n",
              "    }\n",
              "  </style>\n",
              "\n",
              "      <script>\n",
              "        const buttonEl =\n",
              "          document.querySelector('#df-8ae70634-41f6-4f5d-9bcc-1756861a29b9 button.colab-df-convert');\n",
              "        buttonEl.style.display =\n",
              "          google.colab.kernel.accessAllowed ? 'block' : 'none';\n",
              "\n",
              "        async function convertToInteractive(key) {\n",
              "          const element = document.querySelector('#df-8ae70634-41f6-4f5d-9bcc-1756861a29b9');\n",
              "          const dataTable =\n",
              "            await google.colab.kernel.invokeFunction('convertToInteractive',\n",
              "                                                     [key], {});\n",
              "          if (!dataTable) return;\n",
              "\n",
              "          const docLinkHtml = 'Like what you see? Visit the ' +\n",
              "            '<a target=\"_blank\" href=https://colab.research.google.com/notebooks/data_table.ipynb>data table notebook</a>'\n",
              "            + ' to learn more about interactive tables.';\n",
              "          element.innerHTML = '';\n",
              "          dataTable['output_type'] = 'display_data';\n",
              "          await google.colab.output.renderOutput(dataTable, element);\n",
              "          const docLink = document.createElement('div');\n",
              "          docLink.innerHTML = docLinkHtml;\n",
              "          element.appendChild(docLink);\n",
              "        }\n",
              "      </script>\n",
              "    </div>\n",
              "  </div>\n",
              "  "
            ]
          },
          "metadata": {},
          "execution_count": 60
        }
      ]
    },
    {
      "cell_type": "code",
      "source": [
        "plt.figure\n",
        "plt.plot(scores['param_max_depth'].data, scores['mean_train_score'], label='Training_Accuracy')\n",
        "plt.plot(scores['param_max_depth'].data, scores['mean_test_score'], label='Test_Accuarcy')\n",
        "plt.ylabel('Accuracy')\n",
        "plt.legend()\n",
        "plt.show()"
      ],
      "metadata": {
        "colab": {
          "base_uri": "https://localhost:8080/",
          "height": 265
        },
        "id": "-SiolBYPk9Bq",
        "outputId": "a009d994-5621-4183-94ef-463d88905423"
      },
      "execution_count": 61,
      "outputs": [
        {
          "output_type": "display_data",
          "data": {
            "text/plain": [
              "<Figure size 432x288 with 1 Axes>"
            ],
            "image/png": "[encoded data removed]"
          },
          "metadata": {
            "needs_background": "light"
          }
        }
      ]
    },
    {
      "cell_type": "code",
      "source": [
        "#Best Parameters To Use For Training The Model\n",
        "\n",
        "tree.best_params_"
      ],
      "metadata": {
        "colab": {
          "base_uri": "https://localhost:8080/"
        },
        "id": "0ciIVS16ln-q",
        "outputId": "a106d529-2a70-480c-f0df-49d22b1a7546"
      },
      "execution_count": 62,
      "outputs": [
        {
          "output_type": "execute_result",
          "data": {
            "text/plain": [
              "{'max_depth': 3}"
            ]
          },
          "metadata": {},
          "execution_count": 62
        }
      ]
    },
    {
      "cell_type": "markdown",
      "source": [
        "HyperParameter Tunning For \" Minimum Sample Leaf\"\n"
      ],
      "metadata": {
        "id": "xE2eydfIl6Fu"
      }
    },
    {
      "cell_type": "code",
      "source": [
        "#Using A Range Of Parameters To check optimal number of leaf \n",
        "\n",
        "parameters = {'min_samples_leaf': range(10,200,20)}"
      ],
      "metadata": {
        "id": "9pUdAoI3lzdw"
      },
      "execution_count": 63,
      "outputs": []
    },
    {
      "cell_type": "code",
      "source": [
        "#Declare The Model Function\n",
        "\n",
        "DTree = DecisionTreeClassifier(criterion='gini', random_state=0)\n",
        "n_folds = 5"
      ],
      "metadata": {
        "id": "erGB_XVUmVFv"
      },
      "execution_count": 64,
      "outputs": []
    },
    {
      "cell_type": "code",
      "source": [
        "Tree2 = GridSearchCV(DTree, parameters, cv=n_folds, scoring = 'accuracy', return_train_score=True)"
      ],
      "metadata": {
        "id": "j0pUUN5fmtqe"
      },
      "execution_count": 65,
      "outputs": []
    },
    {
      "cell_type": "code",
      "source": [
        "Tree2.fit(X_train, Y_train)"
      ],
      "metadata": {
        "colab": {
          "base_uri": "https://localhost:8080/"
        },
        "id": "6nf2fcvLm_BH",
        "outputId": "759938a7-de50-430f-bfb4-ece0c9f48918"
      },
      "execution_count": 66,
      "outputs": [
        {
          "output_type": "execute_result",
          "data": {
            "text/plain": [
              "GridSearchCV(cv=5, estimator=DecisionTreeClassifier(random_state=0),\n",
              "             param_grid={'min_samples_leaf': range(10, 200, 20)},\n",
              "             return_train_score=True, scoring='accuracy')"
            ]
          },
          "metadata": {},
          "execution_count": 66
        }
      ]
    },
    {
      "cell_type": "code",
      "source": [
        "#Check The Scores \n",
        "\n",
        "scores2 = Tree2.cv_results_\n",
        "scores2"
      ],
      "metadata": {
        "colab": {
          "base_uri": "https://localhost:8080/"
        },
        "id": "q8U-bb3vnDo_",
        "outputId": "9e13d02a-4076-4e0e-c983-4eedcb156c29"
      },
      "execution_count": 67,
      "outputs": [
        {
          "output_type": "execute_result",
          "data": {
            "text/plain": [
              "{'mean_fit_time': array([0.85794258, 0.6389822 , 0.76046996, 0.76069679, 0.59353166,\n",
              "        0.53415618, 0.50339732, 0.52253566, 0.53676395, 0.49368858]),\n",
              " 'std_fit_time': array([0.23965607, 0.02109915, 0.31746509, 0.22477722, 0.05339887,\n",
              "        0.01647218, 0.02045489, 0.04799624, 0.02796408, 0.03171462]),\n",
              " 'mean_score_time': array([0.01366491, 0.00988827, 0.00994616, 0.00989671, 0.01003866,\n",
              "        0.00871234, 0.00834417, 0.00976253, 0.01031055, 0.00980868]),\n",
              " 'std_score_time': array([0.00659647, 0.00128377, 0.00124044, 0.00100857, 0.00090702,\n",
              "        0.00037066, 0.00017758, 0.00158194, 0.00173577, 0.00154352]),\n",
              " 'param_min_samples_leaf': masked_array(data=[10, 30, 50, 70, 90, 110, 130, 150, 170, 190],\n",
              "              mask=[False, False, False, False, False, False, False, False,\n",
              "                    False, False],\n",
              "        fill_value='?',\n",
              "             dtype=object),\n",
              " 'params': [{'min_samples_leaf': 10},\n",
              "  {'min_samples_leaf': 30},\n",
              "  {'min_samples_leaf': 50},\n",
              "  {'min_samples_leaf': 70},\n",
              "  {'min_samples_leaf': 90},\n",
              "  {'min_samples_leaf': 110},\n",
              "  {'min_samples_leaf': 130},\n",
              "  {'min_samples_leaf': 150},\n",
              "  {'min_samples_leaf': 170},\n",
              "  {'min_samples_leaf': 190}],\n",
              " 'split0_test_score': array([0.80935714, 0.8265    , 0.83078571, 0.83042857, 0.83121429,\n",
              "        0.832     , 0.83192857, 0.83107143, 0.83128571, 0.83157143]),\n",
              " 'split1_test_score': array([0.80635714, 0.82478571, 0.8275    , 0.829     , 0.83028571,\n",
              "        0.83021429, 0.8305    , 0.83021429, 0.83007143, 0.8295    ]),\n",
              " 'split2_test_score': array([0.80671429, 0.82671429, 0.82985714, 0.83078571, 0.83071429,\n",
              "        0.82928571, 0.83071429, 0.83028571, 0.83028571, 0.82935714]),\n",
              " 'split3_test_score': array([0.80935714, 0.82621429, 0.82814286, 0.83164286, 0.83142857,\n",
              "        0.83135714, 0.83128571, 0.83164286, 0.83057143, 0.83057143]),\n",
              " 'split4_test_score': array([0.81005786, 0.82448746, 0.82741624, 0.83041646, 0.83105936,\n",
              "        0.83127366, 0.83163083, 0.83141653, 0.83105936, 0.83120223]),\n",
              " 'mean_test_score': array([0.80836872, 0.82574035, 0.82874039, 0.83045472, 0.83094044,\n",
              "        0.83082616, 0.83121188, 0.83092616, 0.83065473, 0.83044045]),\n",
              " 'std_test_score': array([0.00152255, 0.00091992, 0.00134755, 0.00085318, 0.0004018 ,\n",
              "        0.00095994, 0.00053833, 0.00058175, 0.00045721, 0.00088708]),\n",
              " 'rank_test_score': array([10,  9,  8,  6,  2,  4,  1,  3,  5,  7], dtype=int32),\n",
              " 'split0_train_score': array([0.85158664, 0.83633636, 0.8345149 , 0.83324702, 0.83303273,\n",
              "        0.83260415, 0.8325863 , 0.83221129, 0.83213986, 0.83160414]),\n",
              " 'split1_train_score': array([0.85122949, 0.83626493, 0.83465776, 0.83372917, 0.83333631,\n",
              "        0.83340774, 0.83281844, 0.83255058, 0.83226486, 0.832247  ]),\n",
              " 'split2_train_score': array([0.85258665, 0.83681851, 0.83471133, 0.83378275, 0.8335506 ,\n",
              "        0.83299702, 0.83287202, 0.83260415, 0.83226486, 0.83226486]),\n",
              " 'split3_train_score': array([0.85128306, 0.83722924, 0.83422918, 0.83331845, 0.83285416,\n",
              "        0.83281844, 0.83269344, 0.83235415, 0.83181843, 0.83181843]),\n",
              " 'split4_train_score': array([0.851125  , 0.83730357, 0.834625  , 0.83344643, 0.83317857,\n",
              "        0.83291071, 0.83244643, 0.83192857, 0.83167857, 0.831875  ]),\n",
              " 'mean_train_score': array([0.85156217, 0.83679052, 0.83454764, 0.83350476, 0.83319047,\n",
              "        0.83294761, 0.83268332, 0.83232975, 0.83203332, 0.83196189]),\n",
              " 'std_train_score': array([0.00053476, 0.00043335, 0.00017169, 0.00021549, 0.00024045,\n",
              "        0.00026464, 0.00015459, 0.0002448 , 0.00024108, 0.00025659])}"
            ]
          },
          "metadata": {},
          "execution_count": 67
        }
      ]
    },
    {
      "cell_type": "code",
      "source": [
        "# Convert the scores into pd dataframe \n",
        "\n",
        "pd.DataFrame(scores2)"
      ],
      "metadata": {
        "colab": {
          "base_uri": "https://localhost:8080/",
          "height": 630
        },
        "id": "AiJaIdSXnuJ3",
        "outputId": "56c29bee-6771-4d4f-e068-54a5c6df9f91"
      },
      "execution_count": 68,
      "outputs": [
        {
          "output_type": "execute_result",
          "data": {
            "text/plain": [
              "   mean_fit_time  std_fit_time  mean_score_time  std_score_time  \\\n",
              "0       0.857943      0.239656         0.013665        0.006596   \n",
              "1       0.638982      0.021099         0.009888        0.001284   \n",
              "2       0.760470      0.317465         0.009946        0.001240   \n",
              "3       0.760697      0.224777         0.009897        0.001009   \n",
              "4       0.593532      0.053399         0.010039        0.000907   \n",
              "5       0.534156      0.016472         0.008712        0.000371   \n",
              "6       0.503397      0.020455         0.008344        0.000178   \n",
              "7       0.522536      0.047996         0.009763        0.001582   \n",
              "8       0.536764      0.027964         0.010311        0.001736   \n",
              "9       0.493689      0.031715         0.009809        0.001544   \n",
              "\n",
              "  param_min_samples_leaf                     params  split0_test_score  \\\n",
              "0                     10   {'min_samples_leaf': 10}           0.809357   \n",
              "1                     30   {'min_samples_leaf': 30}           0.826500   \n",
              "2                     50   {'min_samples_leaf': 50}           0.830786   \n",
              "3                     70   {'min_samples_leaf': 70}           0.830429   \n",
              "4                     90   {'min_samples_leaf': 90}           0.831214   \n",
              "5                    110  {'min_samples_leaf': 110}           0.832000   \n",
              "6                    130  {'min_samples_leaf': 130}           0.831929   \n",
              "7                    150  {'min_samples_leaf': 150}           0.831071   \n",
              "8                    170  {'min_samples_leaf': 170}           0.831286   \n",
              "9                    190  {'min_samples_leaf': 190}           0.831571   \n",
              "\n",
              "   split1_test_score  split2_test_score  split3_test_score  ...  \\\n",
              "0           0.806357           0.806714           0.809357  ...   \n",
              "1           0.824786           0.826714           0.826214  ...   \n",
              "2           0.827500           0.829857           0.828143  ...   \n",
              "3           0.829000           0.830786           0.831643  ...   \n",
              "4           0.830286           0.830714           0.831429  ...   \n",
              "5           0.830214           0.829286           0.831357  ...   \n",
              "6           0.830500           0.830714           0.831286  ...   \n",
              "7           0.830214           0.830286           0.831643  ...   \n",
              "8           0.830071           0.830286           0.830571  ...   \n",
              "9           0.829500           0.829357           0.830571  ...   \n",
              "\n",
              "   mean_test_score  std_test_score  rank_test_score  split0_train_score  \\\n",
              "0         0.808369        0.001523               10            0.851587   \n",
              "1         0.825740        0.000920                9            0.836336   \n",
              "2         0.828740        0.001348                8            0.834515   \n",
              "3         0.830455        0.000853                6            0.833247   \n",
              "4         0.830940        0.000402                2            0.833033   \n",
              "5         0.830826        0.000960                4            0.832604   \n",
              "6         0.831212        0.000538                1            0.832586   \n",
              "7         0.830926        0.000582                3            0.832211   \n",
              "8         0.830655        0.000457                5            0.832140   \n",
              "9         0.830440        0.000887                7            0.831604   \n",
              "\n",
              "   split1_train_score  split2_train_score  split3_train_score  \\\n",
              "0            0.851229            0.852587            0.851283   \n",
              "1            0.836265            0.836819            0.837229   \n",
              "2            0.834658            0.834711            0.834229   \n",
              "3            0.833729            0.833783            0.833318   \n",
              "4            0.833336            0.833551            0.832854   \n",
              "5            0.833408            0.832997            0.832818   \n",
              "6            0.832818            0.832872            0.832693   \n",
              "7            0.832551            0.832604            0.832354   \n",
              "8            0.832265            0.832265            0.831818   \n",
              "9            0.832247            0.832265            0.831818   \n",
              "\n",
              "   split4_train_score  mean_train_score  std_train_score  \n",
              "0            0.851125          0.851562         0.000535  \n",
              "1            0.837304          0.836791         0.000433  \n",
              "2            0.834625          0.834548         0.000172  \n",
              "3            0.833446          0.833505         0.000215  \n",
              "4            0.833179          0.833190         0.000240  \n",
              "5            0.832911          0.832948         0.000265  \n",
              "6            0.832446          0.832683         0.000155  \n",
              "7            0.831929          0.832330         0.000245  \n",
              "8            0.831679          0.832033         0.000241  \n",
              "9            0.831875          0.831962         0.000257  \n",
              "\n",
              "[10 rows x 21 columns]"
            ],
            "text/html": [
              "\n",
              "  <div id=\"df-6d6e917d-4757-4bcf-84a2-d3bb08e189fd\">\n",
              "    <div class=\"colab-df-container\">\n",
              "      <div>\n",
              "<style scoped>\n",
              "    .dataframe tbody tr th:only-of-type {\n",
              "        vertical-align: middle;\n",
              "    }\n",
              "\n",
              "    .dataframe tbody tr th {\n",
              "        vertical-align: top;\n",
              "    }\n",
              "\n",
              "    .dataframe thead th {\n",
              "        text-align: right;\n",
              "    }\n",
              "</style>\n",
              "<table border=\"1\" class=\"dataframe\">\n",
              "  <thead>\n",
              "    <tr style=\"text-align: right;\">\n",
              "      <th></th>\n",
              "      <th>mean_fit_time</th>\n",
              "      <th>std_fit_time</th>\n",
              "      <th>mean_score_time</th>\n",
              "      <th>std_score_time</th>\n",
              "      <th>param_min_samples_leaf</th>\n",
              "      <th>params</th>\n",
              "      <th>split0_test_score</th>\n",
              "      <th>split1_test_score</th>\n",
              "      <th>split2_test_score</th>\n",
              "      <th>split3_test_score</th>\n",
              "      <th>...</th>\n",
              "      <th>mean_test_score</th>\n",
              "      <th>std_test_score</th>\n",
              "      <th>rank_test_score</th>\n",
              "      <th>split0_train_score</th>\n",
              "      <th>split1_train_score</th>\n",
              "      <th>split2_train_score</th>\n",
              "      <th>split3_train_score</th>\n",
              "      <th>split4_train_score</th>\n",
              "      <th>mean_train_score</th>\n",
              "      <th>std_train_score</th>\n",
              "    </tr>\n",
              "  </thead>\n",
              "  <tbody>\n",
              "    <tr>\n",
              "      <th>0</th>\n",
              "      <td>0.857943</td>\n",
              "      <td>0.239656</td>\n",
              "      <td>0.013665</td>\n",
              "      <td>0.006596</td>\n",
              "      <td>10</td>\n",
              "      <td>{'min_samples_leaf': 10}</td>\n",
              "      <td>0.809357</td>\n",
              "      <td>0.806357</td>\n",
              "      <td>0.806714</td>\n",
              "      <td>0.809357</td>\n",
              "      <td>...</td>\n",
              "      <td>0.808369</td>\n",
              "      <td>0.001523</td>\n",
              "      <td>10</td>\n",
              "      <td>0.851587</td>\n",
              "      <td>0.851229</td>\n",
              "      <td>0.852587</td>\n",
              "      <td>0.851283</td>\n",
              "      <td>0.851125</td>\n",
              "      <td>0.851562</td>\n",
              "      <td>0.000535</td>\n",
              "    </tr>\n",
              "    <tr>\n",
              "      <th>1</th>\n",
              "      <td>0.638982</td>\n",
              "      <td>0.021099</td>\n",
              "      <td>0.009888</td>\n",
              "      <td>0.001284</td>\n",
              "      <td>30</td>\n",
              "      <td>{'min_samples_leaf': 30}</td>\n",
              "      <td>0.826500</td>\n",
              "      <td>0.824786</td>\n",
              "      <td>0.826714</td>\n",
              "      <td>0.826214</td>\n",
              "      <td>...</td>\n",
              "      <td>0.825740</td>\n",
              "      <td>0.000920</td>\n",
              "      <td>9</td>\n",
              "      <td>0.836336</td>\n",
              "      <td>0.836265</td>\n",
              "      <td>0.836819</td>\n",
              "      <td>0.837229</td>\n",
              "      <td>0.837304</td>\n",
              "      <td>0.836791</td>\n",
              "      <td>0.000433</td>\n",
              "    </tr>\n",
              "    <tr>\n",
              "      <th>2</th>\n",
              "      <td>0.760470</td>\n",
              "      <td>0.317465</td>\n",
              "      <td>0.009946</td>\n",
              "      <td>0.001240</td>\n",
              "      <td>50</td>\n",
              "      <td>{'min_samples_leaf': 50}</td>\n",
              "      <td>0.830786</td>\n",
              "      <td>0.827500</td>\n",
              "      <td>0.829857</td>\n",
              "      <td>0.828143</td>\n",
              "      <td>...</td>\n",
              "      <td>0.828740</td>\n",
              "      <td>0.001348</td>\n",
              "      <td>8</td>\n",
              "      <td>0.834515</td>\n",
              "      <td>0.834658</td>\n",
              "      <td>0.834711</td>\n",
              "      <td>0.834229</td>\n",
              "      <td>0.834625</td>\n",
              "      <td>0.834548</td>\n",
              "      <td>0.000172</td>\n",
              "    </tr>\n",
              "    <tr>\n",
              "      <th>3</th>\n",
              "      <td>0.760697</td>\n",
              "      <td>0.224777</td>\n",
              "      <td>0.009897</td>\n",
              "      <td>0.001009</td>\n",
              "      <td>70</td>\n",
              "      <td>{'min_samples_leaf': 70}</td>\n",
              "      <td>0.830429</td>\n",
              "      <td>0.829000</td>\n",
              "      <td>0.830786</td>\n",
              "      <td>0.831643</td>\n",
              "      <td>...</td>\n",
              "      <td>0.830455</td>\n",
              "      <td>0.000853</td>\n",
              "      <td>6</td>\n",
              "      <td>0.833247</td>\n",
              "      <td>0.833729</td>\n",
              "      <td>0.833783</td>\n",
              "      <td>0.833318</td>\n",
              "      <td>0.833446</td>\n",
              "      <td>0.833505</td>\n",
              "      <td>0.000215</td>\n",
              "    </tr>\n",
              "    <tr>\n",
              "      <th>4</th>\n",
              "      <td>0.593532</td>\n",
              "      <td>0.053399</td>\n",
              "      <td>0.010039</td>\n",
              "      <td>0.000907</td>\n",
              "      <td>90</td>\n",
              "      <td>{'min_samples_leaf': 90}</td>\n",
              "      <td>0.831214</td>\n",
              "      <td>0.830286</td>\n",
              "      <td>0.830714</td>\n",
              "      <td>0.831429</td>\n",
              "      <td>...</td>\n",
              "      <td>0.830940</td>\n",
              "      <td>0.000402</td>\n",
              "      <td>2</td>\n",
              "      <td>0.833033</td>\n",
              "      <td>0.833336</td>\n",
              "      <td>0.833551</td>\n",
              "      <td>0.832854</td>\n",
              "      <td>0.833179</td>\n",
              "      <td>0.833190</td>\n",
              "      <td>0.000240</td>\n",
              "    </tr>\n",
              "    <tr>\n",
              "      <th>5</th>\n",
              "      <td>0.534156</td>\n",
              "      <td>0.016472</td>\n",
              "      <td>0.008712</td>\n",
              "      <td>0.000371</td>\n",
              "      <td>110</td>\n",
              "      <td>{'min_samples_leaf': 110}</td>\n",
              "      <td>0.832000</td>\n",
              "      <td>0.830214</td>\n",
              "      <td>0.829286</td>\n",
              "      <td>0.831357</td>\n",
              "      <td>...</td>\n",
              "      <td>0.830826</td>\n",
              "      <td>0.000960</td>\n",
              "      <td>4</td>\n",
              "      <td>0.832604</td>\n",
              "      <td>0.833408</td>\n",
              "      <td>0.832997</td>\n",
              "      <td>0.832818</td>\n",
              "      <td>0.832911</td>\n",
              "      <td>0.832948</td>\n",
              "      <td>0.000265</td>\n",
              "    </tr>\n",
              "    <tr>\n",
              "      <th>6</th>\n",
              "      <td>0.503397</td>\n",
              "      <td>0.020455</td>\n",
              "      <td>0.008344</td>\n",
              "      <td>0.000178</td>\n",
              "      <td>130</td>\n",
              "      <td>{'min_samples_leaf': 130}</td>\n",
              "      <td>0.831929</td>\n",
              "      <td>0.830500</td>\n",
              "      <td>0.830714</td>\n",
              "      <td>0.831286</td>\n",
              "      <td>...</td>\n",
              "      <td>0.831212</td>\n",
              "      <td>0.000538</td>\n",
              "      <td>1</td>\n",
              "      <td>0.832586</td>\n",
              "      <td>0.832818</td>\n",
              "      <td>0.832872</td>\n",
              "      <td>0.832693</td>\n",
              "      <td>0.832446</td>\n",
              "      <td>0.832683</td>\n",
              "      <td>0.000155</td>\n",
              "    </tr>\n",
              "    <tr>\n",
              "      <th>7</th>\n",
              "      <td>0.522536</td>\n",
              "      <td>0.047996</td>\n",
              "      <td>0.009763</td>\n",
              "      <td>0.001582</td>\n",
              "      <td>150</td>\n",
              "      <td>{'min_samples_leaf': 150}</td>\n",
              "      <td>0.831071</td>\n",
              "      <td>0.830214</td>\n",
              "      <td>0.830286</td>\n",
              "      <td>0.831643</td>\n",
              "      <td>...</td>\n",
              "      <td>0.830926</td>\n",
              "      <td>0.000582</td>\n",
              "      <td>3</td>\n",
              "      <td>0.832211</td>\n",
              "      <td>0.832551</td>\n",
              "      <td>0.832604</td>\n",
              "      <td>0.832354</td>\n",
              "      <td>0.831929</td>\n",
              "      <td>0.832330</td>\n",
              "      <td>0.000245</td>\n",
              "    </tr>\n",
              "    <tr>\n",
              "      <th>8</th>\n",
              "      <td>0.536764</td>\n",
              "      <td>0.027964</td>\n",
              "      <td>0.010311</td>\n",
              "      <td>0.001736</td>\n",
              "      <td>170</td>\n",
              "      <td>{'min_samples_leaf': 170}</td>\n",
              "      <td>0.831286</td>\n",
              "      <td>0.830071</td>\n",
              "      <td>0.830286</td>\n",
              "      <td>0.830571</td>\n",
              "      <td>...</td>\n",
              "      <td>0.830655</td>\n",
              "      <td>0.000457</td>\n",
              "      <td>5</td>\n",
              "      <td>0.832140</td>\n",
              "      <td>0.832265</td>\n",
              "      <td>0.832265</td>\n",
              "      <td>0.831818</td>\n",
              "      <td>0.831679</td>\n",
              "      <td>0.832033</td>\n",
              "      <td>0.000241</td>\n",
              "    </tr>\n",
              "    <tr>\n",
              "      <th>9</th>\n",
              "      <td>0.493689</td>\n",
              "      <td>0.031715</td>\n",
              "      <td>0.009809</td>\n",
              "      <td>0.001544</td>\n",
              "      <td>190</td>\n",
              "      <td>{'min_samples_leaf': 190}</td>\n",
              "      <td>0.831571</td>\n",
              "      <td>0.829500</td>\n",
              "      <td>0.829357</td>\n",
              "      <td>0.830571</td>\n",
              "      <td>...</td>\n",
              "      <td>0.830440</td>\n",
              "      <td>0.000887</td>\n",
              "      <td>7</td>\n",
              "      <td>0.831604</td>\n",
              "      <td>0.832247</td>\n",
              "      <td>0.832265</td>\n",
              "      <td>0.831818</td>\n",
              "      <td>0.831875</td>\n",
              "      <td>0.831962</td>\n",
              "      <td>0.000257</td>\n",
              "    </tr>\n",
              "  </tbody>\n",
              "</table>\n",
              "<p>10 rows × 21 columns</p>\n",
              "</div>\n",
              "      <button class=\"colab-df-convert\" onclick=\"convertToInteractive('df-6d6e917d-4757-4bcf-84a2-d3bb08e189fd')\"\n",
              "              title=\"Convert this dataframe to an interactive table.\"\n",
              "              style=\"display:none;\">\n",
              "        \n",
              "  <svg xmlns=\"http://www.w3.org/2000/svg\" height=\"24px\"viewBox=\"0 0 24 24\"\n",
              "       width=\"24px\">\n",
              "    <path d=\"M0 0h24v24H0V0z\" fill=\"none\"/>\n",
              "    <path d=\"M18.56 5.44l.94 2.06.94-2.06 2.06-.94-2.06-.94-.94-2.06-.94 2.06-2.06.94zm-11 1L8.5 8.5l.94-2.06 2.06-.94-2.06-.94L8.5 2.5l-.94 2.06-2.06.94zm10 10l.94 2.06.94-2.06 2.06-.94-2.06-.94-.94-2.06-.94 2.06-2.06.94z\"/><path d=\"M17.41 7.96l-1.37-1.37c-.4-.4-.92-.59-1.43-.59-.52 0-1.04.2-1.43.59L10.3 9.45l-7.72 7.72c-.78.78-.78 2.05 0 2.83L4 21.41c.39.39.9.59 1.41.59.51 0 1.02-.2 1.41-.59l7.78-7.78 2.81-2.81c.8-.78.8-2.07 0-2.86zM5.41 20L4 18.59l7.72-7.72 1.47 1.35L5.41 20z\"/>\n",
              "  </svg>\n",
              "      </button>\n",
              "      \n",
              "  <style>\n",
              "    .colab-df-container {\n",
              "      display:flex;\n",
              "      flex-wrap:wrap;\n",
              "      gap: 12px;\n",
              "    }\n",
              "\n",
              "    .colab-df-convert {\n",
              "      background-color: #E8F0FE;\n",
              "      border: none;\n",
              "      border-radius: 50%;\n",
              "      cursor: pointer;\n",
              "      display: none;\n",
              "      fill: #1967D2;\n",
              "      height: 32px;\n",
              "      padding: 0 0 0 0;\n",
              "      width: 32px;\n",
              "    }\n",
              "\n",
              "    .colab-df-convert:hover {\n",
              "      background-color: #E2EBFA;\n",
              "      box-shadow: 0px 1px 2px rgba(60, 64, 67, 0.3), 0px 1px 3px 1px rgba(60, 64, 67, 0.15);\n",
              "      fill: #174EA6;\n",
              "    }\n",
              "\n",
              "    [theme=dark] .colab-df-convert {\n",
              "      background-color: #3B4455;\n",
              "      fill: #D2E3FC;\n",
              "    }\n",
              "\n",
              "    [theme=dark] .colab-df-convert:hover {\n",
              "      background-color: #434B5C;\n",
              "      box-shadow: 0px 1px 3px 1px rgba(0, 0, 0, 0.15);\n",
              "      filter: drop-shadow(0px 1px 2px rgba(0, 0, 0, 0.3));\n",
              "      fill: #FFFFFF;\n",
              "    }\n",
              "  </style>\n",
              "\n",
              "      <script>\n",
              "        const buttonEl =\n",
              "          document.querySelector('#df-6d6e917d-4757-4bcf-84a2-d3bb08e189fd button.colab-df-convert');\n",
              "        buttonEl.style.display =\n",
              "          google.colab.kernel.accessAllowed ? 'block' : 'none';\n",
              "\n",
              "        async function convertToInteractive(key) {\n",
              "          const element = document.querySelector('#df-6d6e917d-4757-4bcf-84a2-d3bb08e189fd');\n",
              "          const dataTable =\n",
              "            await google.colab.kernel.invokeFunction('convertToInteractive',\n",
              "                                                     [key], {});\n",
              "          if (!dataTable) return;\n",
              "\n",
              "          const docLinkHtml = 'Like what you see? Visit the ' +\n",
              "            '<a target=\"_blank\" href=https://colab.research.google.com/notebooks/data_table.ipynb>data table notebook</a>'\n",
              "            + ' to learn more about interactive tables.';\n",
              "          element.innerHTML = '';\n",
              "          dataTable['output_type'] = 'display_data';\n",
              "          await google.colab.output.renderOutput(dataTable, element);\n",
              "          const docLink = document.createElement('div');\n",
              "          docLink.innerHTML = docLinkHtml;\n",
              "          element.appendChild(docLink);\n",
              "        }\n",
              "      </script>\n",
              "    </div>\n",
              "  </div>\n",
              "  "
            ]
          },
          "metadata": {},
          "execution_count": 68
        }
      ]
    },
    {
      "cell_type": "code",
      "source": [
        "# Plot thhe train & test Accuarcy in defferent depth \n",
        "\n",
        "plt.figure\n",
        "plt.plot(scores2['param_min_samples_leaf'].data , scores2['mean_train_score'], label='Training_accuracy')\n",
        "plt.plot(scores2['param_min_samples_leaf'].data , scores2['mean_test_score'], label='Test_Accuarcy')\n",
        "plt.ylabel('Accuracy')\n",
        "plt.legend()\n",
        "plt.show()"
      ],
      "metadata": {
        "colab": {
          "base_uri": "https://localhost:8080/",
          "height": 265
        },
        "id": "_tQXkQcuoaMY",
        "outputId": "6236d347-b77e-4947-968c-cf4bae6223bd"
      },
      "execution_count": 69,
      "outputs": [
        {
          "output_type": "display_data",
          "data": {
            "text/plain": [
              "<Figure size 432x288 with 1 Axes>"
            ],
            "image/png": "[encoded data removed]"
          },
          "metadata": {
            "needs_background": "light"
          }
        }
      ]
    },
    {
      "cell_type": "code",
      "source": [
        "Tree2.best_params_"
      ],
      "metadata": {
        "colab": {
          "base_uri": "https://localhost:8080/"
        },
        "id": "wtQMQLT5pFdd",
        "outputId": "44805d6e-7ffd-43c1-b2ae-9516a83f4f55"
      },
      "execution_count": 70,
      "outputs": [
        {
          "output_type": "execute_result",
          "data": {
            "text/plain": [
              "{'min_samples_leaf': 130}"
            ]
          },
          "metadata": {},
          "execution_count": 70
        }
      ]
    },
    {
      "cell_type": "markdown",
      "source": [
        "Parameter grid to test multi HyperParameter "
      ],
      "metadata": {
        "id": "ekjMutZtpSii"
      }
    },
    {
      "cell_type": "code",
      "source": [
        "#checking Multi HyperParameter For Optimal Model\n",
        "\n",
        "grid_param = {\n",
        "    'max_depth': range(5,15,5), \n",
        "    'min_samples_leaf': range(50,150,50),\n",
        "    'min_samples_split': range(50,150,50),\n",
        "    'criterion': ['gini', 'entropy']\n",
        "}\n",
        "\n"
      ],
      "metadata": {
        "id": "i6FxMUw1pQvW"
      },
      "execution_count": 77,
      "outputs": []
    },
    {
      "cell_type": "code",
      "source": [
        "grid_param"
      ],
      "metadata": {
        "colab": {
          "base_uri": "https://localhost:8080/"
        },
        "id": "wZfhe35KqCzS",
        "outputId": "4f5d29d3-742f-49ef-8928-5433a6260d88"
      },
      "execution_count": 78,
      "outputs": [
        {
          "output_type": "execute_result",
          "data": {
            "text/plain": [
              "{'max_depth': range(5, 15, 5),\n",
              " 'min_samples_leaf': range(50, 150, 50),\n",
              " 'min_samples_split': range(50, 150, 50),\n",
              " 'criterion': ['gini', 'entropy']}"
            ]
          },
          "metadata": {},
          "execution_count": 78
        }
      ]
    },
    {
      "cell_type": "code",
      "source": [
        "#declare Num Of folds\n",
        "n_folds = 5"
      ],
      "metadata": {
        "id": "7tsiibCTqEQ2"
      },
      "execution_count": 79,
      "outputs": []
    },
    {
      "cell_type": "code",
      "source": [
        "Dtree = DecisionTreeClassifier()\n",
        "Dtree"
      ],
      "metadata": {
        "colab": {
          "base_uri": "https://localhost:8080/"
        },
        "id": "-oFJepEtqWpA",
        "outputId": "54e34cbb-3059-4bc6-b210-f7cf08b53b5b"
      },
      "execution_count": 80,
      "outputs": [
        {
          "output_type": "execute_result",
          "data": {
            "text/plain": [
              "DecisionTreeClassifier()"
            ]
          },
          "metadata": {},
          "execution_count": 80
        }
      ]
    },
    {
      "cell_type": "code",
      "source": [
        "#Sorting the result\n",
        "grid = GridSearchCV(Dtree, grid_param, cv=n_folds, n_jobs=-1, return_train_score=True)"
      ],
      "metadata": {
        "id": "2bRPUL6DqdBM"
      },
      "execution_count": 81,
      "outputs": []
    },
    {
      "cell_type": "code",
      "source": [
        "grid.fit(X_train, Y_train)"
      ],
      "metadata": {
        "colab": {
          "base_uri": "https://localhost:8080/"
        },
        "id": "nx8b2ckXqvOV",
        "outputId": "dc21ccc7-66a4-46bc-8813-4f0c200b40d3"
      },
      "execution_count": 82,
      "outputs": [
        {
          "output_type": "execute_result",
          "data": {
            "text/plain": [
              "GridSearchCV(cv=5, estimator=DecisionTreeClassifier(), n_jobs=-1,\n",
              "             param_grid={'criterion': ['gini', 'entropy'],\n",
              "                         'max_depth': range(5, 15, 5),\n",
              "                         'min_samples_leaf': range(50, 150, 50),\n",
              "                         'min_samples_split': range(50, 150, 50)},\n",
              "             return_train_score=True)"
            ]
          },
          "metadata": {},
          "execution_count": 82
        }
      ]
    },
    {
      "cell_type": "code",
      "source": [
        "pd.DataFrame(grid.cv_results_).head()"
      ],
      "metadata": {
        "colab": {
          "base_uri": "https://localhost:8080/",
          "height": 647
        },
        "id": "KXm3WNAoq0Yh",
        "outputId": "e94f7181-af47-49a2-f81d-ac409845cbf4"
      },
      "execution_count": 83,
      "outputs": [
        {
          "output_type": "execute_result",
          "data": {
            "text/plain": [
              "   mean_fit_time  std_fit_time  mean_score_time  std_score_time  \\\n",
              "0       0.374841      0.008684         0.010726        0.000230   \n",
              "1       0.361430      0.011128         0.011374        0.001064   \n",
              "2       0.362144      0.008329         0.010672        0.000506   \n",
              "3       0.355175      0.013900         0.011657        0.000726   \n",
              "4       0.661451      0.007380         0.012223        0.000599   \n",
              "\n",
              "  param_criterion param_max_depth param_min_samples_leaf  \\\n",
              "0            gini               5                     50   \n",
              "1            gini               5                     50   \n",
              "2            gini               5                    100   \n",
              "3            gini               5                    100   \n",
              "4            gini              10                     50   \n",
              "\n",
              "  param_min_samples_split                                             params  \\\n",
              "0                      50  {'criterion': 'gini', 'max_depth': 5, 'min_sam...   \n",
              "1                     100  {'criterion': 'gini', 'max_depth': 5, 'min_sam...   \n",
              "2                      50  {'criterion': 'gini', 'max_depth': 5, 'min_sam...   \n",
              "3                     100  {'criterion': 'gini', 'max_depth': 5, 'min_sam...   \n",
              "4                      50  {'criterion': 'gini', 'max_depth': 10, 'min_sa...   \n",
              "\n",
              "   split0_test_score  ...  mean_test_score  std_test_score  rank_test_score  \\\n",
              "0           0.831143  ...         0.830283        0.000697               11   \n",
              "1           0.831143  ...         0.830283        0.000697               11   \n",
              "2           0.831429  ...         0.830683        0.000722                7   \n",
              "3           0.831429  ...         0.830683        0.000722                7   \n",
              "4           0.832143  ...         0.829426        0.001550               15   \n",
              "\n",
              "   split0_train_score  split1_train_score  split2_train_score  \\\n",
              "0            0.831158            0.831836            0.831640   \n",
              "1            0.831158            0.831836            0.831640   \n",
              "2            0.831283            0.831890            0.831515   \n",
              "3            0.831283            0.831890            0.831515   \n",
              "4            0.833497            0.833943            0.833658   \n",
              "\n",
              "   split3_train_score  split4_train_score  mean_train_score  std_train_score  \n",
              "0            0.831283            0.831571          0.831498         0.000246  \n",
              "1            0.831283            0.831571          0.831498         0.000246  \n",
              "2            0.831443            0.831429          0.831512         0.000203  \n",
              "3            0.831443            0.831429          0.831512         0.000203  \n",
              "4            0.833104            0.833857          0.833612         0.000298  \n",
              "\n",
              "[5 rows x 24 columns]"
            ],
            "text/html": [
              "\n",
              "  <div id=\"df-1f2b3b96-0219-40ce-8775-de42a0132280\">\n",
              "    <div class=\"colab-df-container\">\n",
              "      <div>\n",
              "<style scoped>\n",
              "    .dataframe tbody tr th:only-of-type {\n",
              "        vertical-align: middle;\n",
              "    }\n",
              "\n",
              "    .dataframe tbody tr th {\n",
              "        vertical-align: top;\n",
              "    }\n",
              "\n",
              "    .dataframe thead th {\n",
              "        text-align: right;\n",
              "    }\n",
              "</style>\n",
              "<table border=\"1\" class=\"dataframe\">\n",
              "  <thead>\n",
              "    <tr style=\"text-align: right;\">\n",
              "      <th></th>\n",
              "      <th>mean_fit_time</th>\n",
              "      <th>std_fit_time</th>\n",
              "      <th>mean_score_time</th>\n",
              "      <th>std_score_time</th>\n",
              "      <th>param_criterion</th>\n",
              "      <th>param_max_depth</th>\n",
              "      <th>param_min_samples_leaf</th>\n",
              "      <th>param_min_samples_split</th>\n",
              "      <th>params</th>\n",
              "      <th>split0_test_score</th>\n",
              "      <th>...</th>\n",
              "      <th>mean_test_score</th>\n",
              "      <th>std_test_score</th>\n",
              "      <th>rank_test_score</th>\n",
              "      <th>split0_train_score</th>\n",
              "      <th>split1_train_score</th>\n",
              "      <th>split2_train_score</th>\n",
              "      <th>split3_train_score</th>\n",
              "      <th>split4_train_score</th>\n",
              "      <th>mean_train_score</th>\n",
              "      <th>std_train_score</th>\n",
              "    </tr>\n",
              "  </thead>\n",
              "  <tbody>\n",
              "    <tr>\n",
              "      <th>0</th>\n",
              "      <td>0.374841</td>\n",
              "      <td>0.008684</td>\n",
              "      <td>0.010726</td>\n",
              "      <td>0.000230</td>\n",
              "      <td>gini</td>\n",
              "      <td>5</td>\n",
              "      <td>50</td>\n",
              "      <td>50</td>\n",
              "      <td>{'criterion': 'gini', 'max_depth': 5, 'min_sam...</td>\n",
              "      <td>0.831143</td>\n",
              "      <td>...</td>\n",
              "      <td>0.830283</td>\n",
              "      <td>0.000697</td>\n",
              "      <td>11</td>\n",
              "      <td>0.831158</td>\n",
              "      <td>0.831836</td>\n",
              "      <td>0.831640</td>\n",
              "      <td>0.831283</td>\n",
              "      <td>0.831571</td>\n",
              "      <td>0.831498</td>\n",
              "      <td>0.000246</td>\n",
              "    </tr>\n",
              "    <tr>\n",
              "      <th>1</th>\n",
              "      <td>0.361430</td>\n",
              "      <td>0.011128</td>\n",
              "      <td>0.011374</td>\n",
              "      <td>0.001064</td>\n",
              "      <td>gini</td>\n",
              "      <td>5</td>\n",
              "      <td>50</td>\n",
              "      <td>100</td>\n",
              "      <td>{'criterion': 'gini', 'max_depth': 5, 'min_sam...</td>\n",
              "      <td>0.831143</td>\n",
              "      <td>...</td>\n",
              "      <td>0.830283</td>\n",
              "      <td>0.000697</td>\n",
              "      <td>11</td>\n",
              "      <td>0.831158</td>\n",
              "      <td>0.831836</td>\n",
              "      <td>0.831640</td>\n",
              "      <td>0.831283</td>\n",
              "      <td>0.831571</td>\n",
              "      <td>0.831498</td>\n",
              "      <td>0.000246</td>\n",
              "    </tr>\n",
              "    <tr>\n",
              "      <th>2</th>\n",
              "      <td>0.362144</td>\n",
              "      <td>0.008329</td>\n",
              "      <td>0.010672</td>\n",
              "      <td>0.000506</td>\n",
              "      <td>gini</td>\n",
              "      <td>5</td>\n",
              "      <td>100</td>\n",
              "      <td>50</td>\n",
              "      <td>{'criterion': 'gini', 'max_depth': 5, 'min_sam...</td>\n",
              "      <td>0.831429</td>\n",
              "      <td>...</td>\n",
              "      <td>0.830683</td>\n",
              "      <td>0.000722</td>\n",
              "      <td>7</td>\n",
              "      <td>0.831283</td>\n",
              "      <td>0.831890</td>\n",
              "      <td>0.831515</td>\n",
              "      <td>0.831443</td>\n",
              "      <td>0.831429</td>\n",
              "      <td>0.831512</td>\n",
              "      <td>0.000203</td>\n",
              "    </tr>\n",
              "    <tr>\n",
              "      <th>3</th>\n",
              "      <td>0.355175</td>\n",
              "      <td>0.013900</td>\n",
              "      <td>0.011657</td>\n",
              "      <td>0.000726</td>\n",
              "      <td>gini</td>\n",
              "      <td>5</td>\n",
              "      <td>100</td>\n",
              "      <td>100</td>\n",
              "      <td>{'criterion': 'gini', 'max_depth': 5, 'min_sam...</td>\n",
              "      <td>0.831429</td>\n",
              "      <td>...</td>\n",
              "      <td>0.830683</td>\n",
              "      <td>0.000722</td>\n",
              "      <td>7</td>\n",
              "      <td>0.831283</td>\n",
              "      <td>0.831890</td>\n",
              "      <td>0.831515</td>\n",
              "      <td>0.831443</td>\n",
              "      <td>0.831429</td>\n",
              "      <td>0.831512</td>\n",
              "      <td>0.000203</td>\n",
              "    </tr>\n",
              "    <tr>\n",
              "      <th>4</th>\n",
              "      <td>0.661451</td>\n",
              "      <td>0.007380</td>\n",
              "      <td>0.012223</td>\n",
              "      <td>0.000599</td>\n",
              "      <td>gini</td>\n",
              "      <td>10</td>\n",
              "      <td>50</td>\n",
              "      <td>50</td>\n",
              "      <td>{'criterion': 'gini', 'max_depth': 10, 'min_sa...</td>\n",
              "      <td>0.832143</td>\n",
              "      <td>...</td>\n",
              "      <td>0.829426</td>\n",
              "      <td>0.001550</td>\n",
              "      <td>15</td>\n",
              "      <td>0.833497</td>\n",
              "      <td>0.833943</td>\n",
              "      <td>0.833658</td>\n",
              "      <td>0.833104</td>\n",
              "      <td>0.833857</td>\n",
              "      <td>0.833612</td>\n",
              "      <td>0.000298</td>\n",
              "    </tr>\n",
              "  </tbody>\n",
              "</table>\n",
              "<p>5 rows × 24 columns</p>\n",
              "</div>\n",
              "      <button class=\"colab-df-convert\" onclick=\"convertToInteractive('df-1f2b3b96-0219-40ce-8775-de42a0132280')\"\n",
              "              title=\"Convert this dataframe to an interactive table.\"\n",
              "              style=\"display:none;\">\n",
              "        \n",
              "  <svg xmlns=\"http://www.w3.org/2000/svg\" height=\"24px\"viewBox=\"0 0 24 24\"\n",
              "       width=\"24px\">\n",
              "    <path d=\"M0 0h24v24H0V0z\" fill=\"none\"/>\n",
              "    <path d=\"M18.56 5.44l.94 2.06.94-2.06 2.06-.94-2.06-.94-.94-2.06-.94 2.06-2.06.94zm-11 1L8.5 8.5l.94-2.06 2.06-.94-2.06-.94L8.5 2.5l-.94 2.06-2.06.94zm10 10l.94 2.06.94-2.06 2.06-.94-2.06-.94-.94-2.06-.94 2.06-2.06.94z\"/><path d=\"M17.41 7.96l-1.37-1.37c-.4-.4-.92-.59-1.43-.59-.52 0-1.04.2-1.43.59L10.3 9.45l-7.72 7.72c-.78.78-.78 2.05 0 2.83L4 21.41c.39.39.9.59 1.41.59.51 0 1.02-.2 1.41-.59l7.78-7.78 2.81-2.81c.8-.78.8-2.07 0-2.86zM5.41 20L4 18.59l7.72-7.72 1.47 1.35L5.41 20z\"/>\n",
              "  </svg>\n",
              "      </button>\n",
              "      \n",
              "  <style>\n",
              "    .colab-df-container {\n",
              "      display:flex;\n",
              "      flex-wrap:wrap;\n",
              "      gap: 12px;\n",
              "    }\n",
              "\n",
              "    .colab-df-convert {\n",
              "      background-color: #E8F0FE;\n",
              "      border: none;\n",
              "      border-radius: 50%;\n",
              "      cursor: pointer;\n",
              "      display: none;\n",
              "      fill: #1967D2;\n",
              "      height: 32px;\n",
              "      padding: 0 0 0 0;\n",
              "      width: 32px;\n",
              "    }\n",
              "\n",
              "    .colab-df-convert:hover {\n",
              "      background-color: #E2EBFA;\n",
              "      box-shadow: 0px 1px 2px rgba(60, 64, 67, 0.3), 0px 1px 3px 1px rgba(60, 64, 67, 0.15);\n",
              "      fill: #174EA6;\n",
              "    }\n",
              "\n",
              "    [theme=dark] .colab-df-convert {\n",
              "      background-color: #3B4455;\n",
              "      fill: #D2E3FC;\n",
              "    }\n",
              "\n",
              "    [theme=dark] .colab-df-convert:hover {\n",
              "      background-color: #434B5C;\n",
              "      box-shadow: 0px 1px 3px 1px rgba(0, 0, 0, 0.15);\n",
              "      filter: drop-shadow(0px 1px 2px rgba(0, 0, 0, 0.3));\n",
              "      fill: #FFFFFF;\n",
              "    }\n",
              "  </style>\n",
              "\n",
              "      <script>\n",
              "        const buttonEl =\n",
              "          document.querySelector('#df-1f2b3b96-0219-40ce-8775-de42a0132280 button.colab-df-convert');\n",
              "        buttonEl.style.display =\n",
              "          google.colab.kernel.accessAllowed ? 'block' : 'none';\n",
              "\n",
              "        async function convertToInteractive(key) {\n",
              "          const element = document.querySelector('#df-1f2b3b96-0219-40ce-8775-de42a0132280');\n",
              "          const dataTable =\n",
              "            await google.colab.kernel.invokeFunction('convertToInteractive',\n",
              "                                                     [key], {});\n",
              "          if (!dataTable) return;\n",
              "\n",
              "          const docLinkHtml = 'Like what you see? Visit the ' +\n",
              "            '<a target=\"_blank\" href=https://colab.research.google.com/notebooks/data_table.ipynb>data table notebook</a>'\n",
              "            + ' to learn more about interactive tables.';\n",
              "          element.innerHTML = '';\n",
              "          dataTable['output_type'] = 'display_data';\n",
              "          await google.colab.output.renderOutput(dataTable, element);\n",
              "          const docLink = document.createElement('div');\n",
              "          docLink.innerHTML = docLinkHtml;\n",
              "          element.appendChild(docLink);\n",
              "        }\n",
              "      </script>\n",
              "    </div>\n",
              "  </div>\n",
              "  "
            ]
          },
          "metadata": {},
          "execution_count": 83
        }
      ]
    },
    {
      "cell_type": "code",
      "source": [
        "#getting the optimum param\n",
        "\n",
        "grid.best_params_"
      ],
      "metadata": {
        "colab": {
          "base_uri": "https://localhost:8080/"
        },
        "id": "VM3QcDt1trie",
        "outputId": "94425513-ee48-4b8e-8d90-abb11a61c504"
      },
      "execution_count": 84,
      "outputs": [
        {
          "output_type": "execute_result",
          "data": {
            "text/plain": [
              "{'criterion': 'entropy',\n",
              " 'max_depth': 10,\n",
              " 'min_samples_leaf': 100,\n",
              " 'min_samples_split': 50}"
            ]
          },
          "metadata": {},
          "execution_count": 84
        }
      ]
    },
    {
      "cell_type": "code",
      "source": [
        "#optimum score\n",
        "\n",
        "grid.best_score_"
      ],
      "metadata": {
        "colab": {
          "base_uri": "https://localhost:8080/"
        },
        "id": "19Rtab5stznX",
        "outputId": "347e100c-3d58-4276-e7f9-e6289229883f"
      },
      "execution_count": 85,
      "outputs": [
        {
          "output_type": "execute_result",
          "data": {
            "text/plain": [
              "0.8314832957456145"
            ]
          },
          "metadata": {},
          "execution_count": 85
        }
      ]
    },
    {
      "cell_type": "code",
      "source": [
        "# getting all Great parameters to train on \n",
        "\n",
        "Best_grid = grid.best_estimator_\n",
        "Best_grid"
      ],
      "metadata": {
        "colab": {
          "base_uri": "https://localhost:8080/"
        },
        "id": "VyACAwapt6Ag",
        "outputId": "1a30552d-9a71-4600-bdd4-24e076b5274c"
      },
      "execution_count": 86,
      "outputs": [
        {
          "output_type": "execute_result",
          "data": {
            "text/plain": [
              "DecisionTreeClassifier(criterion='entropy', max_depth=10, min_samples_leaf=100,\n",
              "                       min_samples_split=50)"
            ]
          },
          "metadata": {},
          "execution_count": 86
        }
      ]
    },
    {
      "cell_type": "code",
      "source": [
        "#Making predictions and sorting the results \n",
        "\n",
        "y_pred_best = Best_grid.predict(X_test)"
      ],
      "metadata": {
        "id": "DdsbMB8BuJA9"
      },
      "execution_count": 88,
      "outputs": []
    },
    {
      "cell_type": "code",
      "source": [
        "#Accuracy Score\n",
        "\n",
        "metrics.accuracy_score(Y_test, y_pred_best)"
      ],
      "metadata": {
        "colab": {
          "base_uri": "https://localhost:8080/"
        },
        "id": "LU5KCGjyubKo",
        "outputId": "be2f9bca-0eda-4049-dc56-cf811a613740"
      },
      "execution_count": 89,
      "outputs": [
        {
          "output_type": "execute_result",
          "data": {
            "text/plain": [
              "0.8304333333333334"
            ]
          },
          "metadata": {},
          "execution_count": 89
        }
      ]
    },
    {
      "cell_type": "code",
      "source": [
        "#printing and plotting confusion matrix\n",
        "\n",
        "print(metrics.confusion_matrix(Y_test, y_pred_best))\n",
        "\n",
        "metrics.plot_confusion_matrix(Best_grid, X_test, Y_test)\n",
        "plt.show()"
      ],
      "metadata": {
        "colab": {
          "base_uri": "https://localhost:8080/",
          "height": 314
        },
        "id": "mPV5nG73uWdN",
        "outputId": "523cc2e5-eb1c-4385-f215-53e2f768d7e6"
      },
      "execution_count": 90,
      "outputs": [
        {
          "output_type": "stream",
          "name": "stdout",
          "text": [
            "[[24803    77]\n",
            " [ 5010   110]]\n"
          ]
        },
        {
          "output_type": "display_data",
          "data": {
            "text/plain": [
              "<Figure size 432x288 with 2 Axes>"
            ],
            "image/png": "[encoded data removed]"
          },
          "metadata": {
            "needs_background": "light"
          }
        }
      ]
    },
    {
      "cell_type": "code",
      "source": [
        "#precision Score\n",
        "\n",
        "print('Precision',precision_score(Y_test,y_pred_best))\n"
      ],
      "metadata": {
        "colab": {
          "base_uri": "https://localhost:8080/"
        },
        "id": "HRJYqYZ0vF45",
        "outputId": "77a79a80-a4a1-491d-ae69-60d2e25d7ddb"
      },
      "execution_count": 91,
      "outputs": [
        {
          "output_type": "stream",
          "name": "stdout",
          "text": [
            "Precision 0.5882352941176471\n"
          ]
        }
      ]
    },
    {
      "cell_type": "code",
      "source": [
        "##Recall score\n",
        "\n",
        "print('Recall', recall_score(Y_test, y_pred_best))"
      ],
      "metadata": {
        "colab": {
          "base_uri": "https://localhost:8080/"
        },
        "id": "zZuSUwKovR9H",
        "outputId": "1263ba82-5ff5-4c3e-82e6-501fd70cfed2"
      },
      "execution_count": 92,
      "outputs": [
        {
          "output_type": "stream",
          "name": "stdout",
          "text": [
            "Recall 0.021484375\n"
          ]
        }
      ]
    },
    {
      "cell_type": "code",
      "source": [
        ", plot_roc_curve\n",
        "# ROC\n",
        "metrics.plot_roc_curve(Best_grid,X_test,Y_test)\n",
        "plt.show()"
      ],
      "metadata": {
        "colab": {
          "base_uri": "https://localhost:8080/",
          "height": 279
        },
        "id": "J3Mo5gGEvbpr",
        "outputId": "9a0e9ee5-a2b2-48f4-bb90-defdc127fac5"
      },
      "execution_count": 93,
      "outputs": [
        {
          "output_type": "display_data",
          "data": {
            "text/plain": [
              "<Figure size 432x288 with 1 Axes>"
            ],
            "image/png": "[encoded data removed]"
          },
          "metadata": {
            "needs_background": "light"
          }
        }
      ]
    },
    {
      "cell_type": "markdown",
      "source": [
        "Next Model Random Forest"
      ],
      "metadata": {
        "id": "iwm5nVO6v9-6"
      }
    },
    {
      "cell_type": "code",
      "source": [
        "#importing the random forest Library\n",
        "\n",
        "from sklearn.ensemble import RandomForestClassifier\n",
        "#declare the CLassfier \n",
        "Rf = RandomForestClassifier(n_estimators=100,random_state=0)"
      ],
      "metadata": {
        "id": "sHzyPEa1v1BK"
      },
      "execution_count": 94,
      "outputs": []
    },
    {
      "cell_type": "code",
      "source": [
        "#Building and training the model \n",
        "Rf.fit(X_train,Y_train)"
      ],
      "metadata": {
        "colab": {
          "base_uri": "https://localhost:8080/"
        },
        "id": "BE63Luo2wZRB",
        "outputId": "294421d7-b9d7-4231-9a2b-4e9e15900f50"
      },
      "execution_count": 95,
      "outputs": [
        {
          "output_type": "execute_result",
          "data": {
            "text/plain": [
              "RandomForestClassifier(random_state=0)"
            ]
          },
          "metadata": {},
          "execution_count": 95
        }
      ]
    },
    {
      "cell_type": "code",
      "source": [
        "y_pred_RF = Rf.predict(X_test)\n"
      ],
      "metadata": {
        "id": "RQU6L8oiwkVR"
      },
      "execution_count": 96,
      "outputs": []
    },
    {
      "cell_type": "code",
      "source": [
        "y_pred_RF"
      ],
      "metadata": {
        "colab": {
          "base_uri": "https://localhost:8080/"
        },
        "id": "CXXTQP5Gwx9Y",
        "outputId": "189517b2-1538-4526-e36b-3a792ec93168"
      },
      "execution_count": 97,
      "outputs": [
        {
          "output_type": "execute_result",
          "data": {
            "text/plain": [
              "array([0, 0, 0, ..., 0, 0, 0])"
            ]
          },
          "metadata": {},
          "execution_count": 97
        }
      ]
    },
    {
      "cell_type": "code",
      "source": [
        "#Check Accuracy Score\n",
        "\n",
        "metrics.accuracy_score(Y_test, y_pred_RF)"
      ],
      "metadata": {
        "colab": {
          "base_uri": "https://localhost:8080/"
        },
        "id": "Q6dlRMh4wzdg",
        "outputId": "df3937d9-64e6-4f1e-9ae0-43aa07bfc65f"
      },
      "execution_count": 98,
      "outputs": [
        {
          "output_type": "execute_result",
          "data": {
            "text/plain": [
              "0.8104666666666667"
            ]
          },
          "metadata": {},
          "execution_count": 98
        }
      ]
    },
    {
      "cell_type": "code",
      "source": [
        "# print and Plot Confusion matrix \n",
        "\n",
        "print(metrics.confusion_matrix(Y_test, y_pred_RF))\n",
        "\n",
        "print(metrics.plot_confusion_matrix(Rf, X_test,Y_test))"
      ],
      "metadata": {
        "colab": {
          "base_uri": "https://localhost:8080/",
          "height": 352
        },
        "id": "p-7Eejkxw8Rv",
        "outputId": "c62a09f6-6fb1-4467-850b-d09e2adb5cc5"
      },
      "execution_count": 99,
      "outputs": [
        {
          "output_type": "stream",
          "name": "stdout",
          "text": [
            "[[23602  1278]\n",
            " [ 4408   712]]\n",
            "<sklearn.metrics._plot.confusion_matrix.ConfusionMatrixDisplay object at 0x7f5458190880>\n"
          ]
        },
        {
          "output_type": "display_data",
          "data": {
            "text/plain": [
              "<Figure size 432x288 with 2 Axes>"
            ],
            "image/png": "[encoded data removed]"
          },
          "metadata": {
            "needs_background": "light"
          }
        }
      ]
    },
    {
      "cell_type": "code",
      "source": [
        "#precision Score\n",
        "\n",
        "print('precision', metrics.precision_score(Y_test, y_pred_RF))"
      ],
      "metadata": {
        "colab": {
          "base_uri": "https://localhost:8080/"
        },
        "id": "5P422f3lxNx6",
        "outputId": "868dee65-05d9-47dc-8a5e-1743bd249222"
      },
      "execution_count": 101,
      "outputs": [
        {
          "output_type": "stream",
          "name": "stdout",
          "text": [
            "precision 0.3577889447236181\n"
          ]
        }
      ]
    },
    {
      "cell_type": "code",
      "source": [
        "#Recall Score\n",
        "\n",
        "print('Recall', recall_score(Y_test, y_pred_RF))"
      ],
      "metadata": {
        "colab": {
          "base_uri": "https://localhost:8080/"
        },
        "id": "zNkjN9llxk46",
        "outputId": "2f8e3405-3ef7-4119-feed-1b16285d704c"
      },
      "execution_count": 102,
      "outputs": [
        {
          "output_type": "stream",
          "name": "stdout",
          "text": [
            "Recall 0.1390625\n"
          ]
        }
      ]
    },
    {
      "cell_type": "code",
      "source": [
        "#ROC\n",
        "\n",
        "metrics.roc_auc_score(Y_test,Rf.predict_proba(X_test)[:,1])"
      ],
      "metadata": {
        "colab": {
          "base_uri": "https://localhost:8080/"
        },
        "id": "RIbl68O2xuWJ",
        "outputId": "206aa53b-f896-4529-b5c1-07f82d71b302"
      },
      "execution_count": 105,
      "outputs": [
        {
          "output_type": "execute_result",
          "data": {
            "text/plain": [
              "0.6577983814497086"
            ]
          },
          "metadata": {},
          "execution_count": 105
        }
      ]
    },
    {
      "cell_type": "code",
      "source": [
        "#ploting ROC\n",
        "\n",
        "metrics.plot_roc_curve(Rf, X_test, Y_test)\n",
        "plt.show()"
      ],
      "metadata": {
        "colab": {
          "base_uri": "https://localhost:8080/",
          "height": 279
        },
        "id": "9TgUNn0yx90x",
        "outputId": "1f282009-d1f7-4352-9d65-23d76e116fbb"
      },
      "execution_count": 106,
      "outputs": [
        {
          "output_type": "display_data",
          "data": {
            "text/plain": [
              "<Figure size 432x288 with 1 Axes>"
            ],
            "image/png": "[encoded data removed]"
          },
          "metadata": {
            "needs_background": "light"
          }
        }
      ]
    },
    {
      "cell_type": "code",
      "source": [
        "# Cross_validation \n",
        "\n",
        "Accuracy = cross_val_score(estimator=Rf, X= X_train, y= Y_train, cv=10)\n",
        "Accuracy"
      ],
      "metadata": {
        "colab": {
          "base_uri": "https://localhost:8080/"
        },
        "id": "hAlaZ9Q1yZ2x",
        "outputId": "c9aa9ff6-2cef-4e41-fef4-10d43cd7818c"
      },
      "execution_count": 108,
      "outputs": [
        {
          "output_type": "execute_result",
          "data": {
            "text/plain": [
              "array([0.81      , 0.81157143, 0.80657143, 0.81242857, 0.813     ,\n",
              "       0.812     , 0.81285714, 0.816     , 0.81442857, 0.8071153 ])"
            ]
          },
          "metadata": {},
          "execution_count": 108
        }
      ]
    },
    {
      "cell_type": "code",
      "source": [
        "#hyper parameter \n",
        "\n",
        "grid_param_RF = {'max_depth':range(5,15,5),'min_samples_leaf':range(50,150,50),'min_samples_split':range(50,150,50),'criterion':['gini','entropy']}"
      ],
      "metadata": {
        "id": "HSHoRXQ3yuAP"
      },
      "execution_count": 111,
      "outputs": []
    },
    {
      "cell_type": "code",
      "source": [
        "grid_param_RF"
      ],
      "metadata": {
        "colab": {
          "base_uri": "https://localhost:8080/"
        },
        "id": "DZbi6jBWz5GZ",
        "outputId": "7dd8127a-a08b-499d-b143-eb36cb82943e"
      },
      "execution_count": 112,
      "outputs": [
        {
          "output_type": "execute_result",
          "data": {
            "text/plain": [
              "{'max_depth': range(5, 15, 5),\n",
              " 'min_samples_leaf': range(50, 150, 50),\n",
              " 'min_samples_split': range(50, 150, 50),\n",
              " 'criterion': ['gini', 'entropy']}"
            ]
          },
          "metadata": {},
          "execution_count": 112
        }
      ]
    },
    {
      "cell_type": "code",
      "source": [
        "n_folds = 5"
      ],
      "metadata": {
        "id": "oetv7IsBz7Xx"
      },
      "execution_count": 113,
      "outputs": []
    },
    {
      "cell_type": "code",
      "source": [
        "# declare the classifier '\n",
        "\n",
        "R_forest = RandomForestClassifier()"
      ],
      "metadata": {
        "id": "xWMkteyL0B9Z"
      },
      "execution_count": 114,
      "outputs": []
    },
    {
      "cell_type": "code",
      "source": [
        "grid_Rf = GridSearchCV(R_forest, grid_param_RF, cv=n_folds, n_jobs=-1, return_train_score=True)"
      ],
      "metadata": {
        "id": "xuNqp5y_0I2Q"
      },
      "execution_count": 115,
      "outputs": []
    },
    {
      "cell_type": "code",
      "source": [
        "grid_Rf.fit(X_train, Y_train)"
      ],
      "metadata": {
        "colab": {
          "base_uri": "https://localhost:8080/"
        },
        "id": "tJFfmx9J0zhr",
        "outputId": "4b77382f-28c3-486d-c234-ea48ea0b2396"
      },
      "execution_count": 117,
      "outputs": [
        {
          "output_type": "execute_result",
          "data": {
            "text/plain": [
              "GridSearchCV(cv=5, estimator=RandomForestClassifier(), n_jobs=-1,\n",
              "             param_grid={'criterion': ['gini', 'entropy'],\n",
              "                         'max_depth': range(5, 15, 5),\n",
              "                         'min_samples_leaf': range(50, 150, 50),\n",
              "                         'min_samples_split': range(50, 150, 50)},\n",
              "             return_train_score=True)"
            ]
          },
          "metadata": {},
          "execution_count": 117
        }
      ]
    },
    {
      "cell_type": "code",
      "source": [
        "pd.DataFrame(grid_Rf.cv_results_).head()"
      ],
      "metadata": {
        "colab": {
          "base_uri": "https://localhost:8080/",
          "height": 647
        },
        "id": "7tJVCCcs0_uB",
        "outputId": "9df93253-5fc4-4d1a-f9fe-2b4d67a1a4d7"
      },
      "execution_count": 118,
      "outputs": [
        {
          "output_type": "execute_result",
          "data": {
            "text/plain": [
              "   mean_fit_time  std_fit_time  mean_score_time  std_score_time  \\\n",
              "0       4.255843      0.149743         0.191364        0.010500   \n",
              "1       4.265801      0.221540         0.176802        0.004083   \n",
              "2       4.182478      0.112135         0.179587        0.012739   \n",
              "3       4.413438      0.135804         0.173375        0.006576   \n",
              "4       7.170722      0.254625         0.311656        0.024013   \n",
              "\n",
              "  param_criterion param_max_depth param_min_samples_leaf  \\\n",
              "0            gini               5                     50   \n",
              "1            gini               5                     50   \n",
              "2            gini               5                    100   \n",
              "3            gini               5                    100   \n",
              "4            gini              10                     50   \n",
              "\n",
              "  param_min_samples_split                                             params  \\\n",
              "0                      50  {'criterion': 'gini', 'max_depth': 5, 'min_sam...   \n",
              "1                     100  {'criterion': 'gini', 'max_depth': 5, 'min_sam...   \n",
              "2                      50  {'criterion': 'gini', 'max_depth': 5, 'min_sam...   \n",
              "3                     100  {'criterion': 'gini', 'max_depth': 5, 'min_sam...   \n",
              "4                      50  {'criterion': 'gini', 'max_depth': 10, 'min_sa...   \n",
              "\n",
              "   split0_test_score  ...  mean_test_score  std_test_score  rank_test_score  \\\n",
              "0           0.830571  ...         0.830569        0.000005                8   \n",
              "1           0.830571  ...         0.830569        0.000005                8   \n",
              "2           0.830571  ...         0.830569        0.000005                8   \n",
              "3           0.830571  ...         0.830569        0.000005                8   \n",
              "4           0.831000  ...         0.831012        0.000184                4   \n",
              "\n",
              "   split0_train_score  split1_train_score  split2_train_score  \\\n",
              "0            0.830568            0.830568            0.830568   \n",
              "1            0.830568            0.830568            0.830568   \n",
              "2            0.830568            0.830568            0.830568   \n",
              "3            0.830568            0.830568            0.830568   \n",
              "4            0.831479            0.831443            0.831068   \n",
              "\n",
              "   split3_train_score  split4_train_score  mean_train_score  std_train_score  \n",
              "0            0.830568            0.830571          0.830569         0.000001  \n",
              "1            0.830568            0.830571          0.830569         0.000001  \n",
              "2            0.830568            0.830571          0.830569         0.000001  \n",
              "3            0.830568            0.830571          0.830569         0.000001  \n",
              "4            0.831176            0.830875          0.831208         0.000228  \n",
              "\n",
              "[5 rows x 24 columns]"
            ],
            "text/html": [
              "\n",
              "  <div id=\"df-6a22a270-ec86-406d-ad0a-097cdc9c642a\">\n",
              "    <div class=\"colab-df-container\">\n",
              "      <div>\n",
              "<style scoped>\n",
              "    .dataframe tbody tr th:only-of-type {\n",
              "        vertical-align: middle;\n",
              "    }\n",
              "\n",
              "    .dataframe tbody tr th {\n",
              "        vertical-align: top;\n",
              "    }\n",
              "\n",
              "    .dataframe thead th {\n",
              "        text-align: right;\n",
              "    }\n",
              "</style>\n",
              "<table border=\"1\" class=\"dataframe\">\n",
              "  <thead>\n",
              "    <tr style=\"text-align: right;\">\n",
              "      <th></th>\n",
              "      <th>mean_fit_time</th>\n",
              "      <th>std_fit_time</th>\n",
              "      <th>mean_score_time</th>\n",
              "      <th>std_score_time</th>\n",
              "      <th>param_criterion</th>\n",
              "      <th>param_max_depth</th>\n",
              "      <th>param_min_samples_leaf</th>\n",
              "      <th>param_min_samples_split</th>\n",
              "      <th>params</th>\n",
              "      <th>split0_test_score</th>\n",
              "      <th>...</th>\n",
              "      <th>mean_test_score</th>\n",
              "      <th>std_test_score</th>\n",
              "      <th>rank_test_score</th>\n",
              "      <th>split0_train_score</th>\n",
              "      <th>split1_train_score</th>\n",
              "      <th>split2_train_score</th>\n",
              "      <th>split3_train_score</th>\n",
              "      <th>split4_train_score</th>\n",
              "      <th>mean_train_score</th>\n",
              "      <th>std_train_score</th>\n",
              "    </tr>\n",
              "  </thead>\n",
              "  <tbody>\n",
              "    <tr>\n",
              "      <th>0</th>\n",
              "      <td>4.255843</td>\n",
              "      <td>0.149743</td>\n",
              "      <td>0.191364</td>\n",
              "      <td>0.010500</td>\n",
              "      <td>gini</td>\n",
              "      <td>5</td>\n",
              "      <td>50</td>\n",
              "      <td>50</td>\n",
              "      <td>{'criterion': 'gini', 'max_depth': 5, 'min_sam...</td>\n",
              "      <td>0.830571</td>\n",
              "      <td>...</td>\n",
              "      <td>0.830569</td>\n",
              "      <td>0.000005</td>\n",
              "      <td>8</td>\n",
              "      <td>0.830568</td>\n",
              "      <td>0.830568</td>\n",
              "      <td>0.830568</td>\n",
              "      <td>0.830568</td>\n",
              "      <td>0.830571</td>\n",
              "      <td>0.830569</td>\n",
              "      <td>0.000001</td>\n",
              "    </tr>\n",
              "    <tr>\n",
              "      <th>1</th>\n",
              "      <td>4.265801</td>\n",
              "      <td>0.221540</td>\n",
              "      <td>0.176802</td>\n",
              "      <td>0.004083</td>\n",
              "      <td>gini</td>\n",
              "      <td>5</td>\n",
              "      <td>50</td>\n",
              "      <td>100</td>\n",
              "      <td>{'criterion': 'gini', 'max_depth': 5, 'min_sam...</td>\n",
              "      <td>0.830571</td>\n",
              "      <td>...</td>\n",
              "      <td>0.830569</td>\n",
              "      <td>0.000005</td>\n",
              "      <td>8</td>\n",
              "      <td>0.830568</td>\n",
              "      <td>0.830568</td>\n",
              "      <td>0.830568</td>\n",
              "      <td>0.830568</td>\n",
              "      <td>0.830571</td>\n",
              "      <td>0.830569</td>\n",
              "      <td>0.000001</td>\n",
              "    </tr>\n",
              "    <tr>\n",
              "      <th>2</th>\n",
              "      <td>4.182478</td>\n",
              "      <td>0.112135</td>\n",
              "      <td>0.179587</td>\n",
              "      <td>0.012739</td>\n",
              "      <td>gini</td>\n",
              "      <td>5</td>\n",
              "      <td>100</td>\n",
              "      <td>50</td>\n",
              "      <td>{'criterion': 'gini', 'max_depth': 5, 'min_sam...</td>\n",
              "      <td>0.830571</td>\n",
              "      <td>...</td>\n",
              "      <td>0.830569</td>\n",
              "      <td>0.000005</td>\n",
              "      <td>8</td>\n",
              "      <td>0.830568</td>\n",
              "      <td>0.830568</td>\n",
              "      <td>0.830568</td>\n",
              "      <td>0.830568</td>\n",
              "      <td>0.830571</td>\n",
              "      <td>0.830569</td>\n",
              "      <td>0.000001</td>\n",
              "    </tr>\n",
              "    <tr>\n",
              "      <th>3</th>\n",
              "      <td>4.413438</td>\n",
              "      <td>0.135804</td>\n",
              "      <td>0.173375</td>\n",
              "      <td>0.006576</td>\n",
              "      <td>gini</td>\n",
              "      <td>5</td>\n",
              "      <td>100</td>\n",
              "      <td>100</td>\n",
              "      <td>{'criterion': 'gini', 'max_depth': 5, 'min_sam...</td>\n",
              "      <td>0.830571</td>\n",
              "      <td>...</td>\n",
              "      <td>0.830569</td>\n",
              "      <td>0.000005</td>\n",
              "      <td>8</td>\n",
              "      <td>0.830568</td>\n",
              "      <td>0.830568</td>\n",
              "      <td>0.830568</td>\n",
              "      <td>0.830568</td>\n",
              "      <td>0.830571</td>\n",
              "      <td>0.830569</td>\n",
              "      <td>0.000001</td>\n",
              "    </tr>\n",
              "    <tr>\n",
              "      <th>4</th>\n",
              "      <td>7.170722</td>\n",
              "      <td>0.254625</td>\n",
              "      <td>0.311656</td>\n",
              "      <td>0.024013</td>\n",
              "      <td>gini</td>\n",
              "      <td>10</td>\n",
              "      <td>50</td>\n",
              "      <td>50</td>\n",
              "      <td>{'criterion': 'gini', 'max_depth': 10, 'min_sa...</td>\n",
              "      <td>0.831000</td>\n",
              "      <td>...</td>\n",
              "      <td>0.831012</td>\n",
              "      <td>0.000184</td>\n",
              "      <td>4</td>\n",
              "      <td>0.831479</td>\n",
              "      <td>0.831443</td>\n",
              "      <td>0.831068</td>\n",
              "      <td>0.831176</td>\n",
              "      <td>0.830875</td>\n",
              "      <td>0.831208</td>\n",
              "      <td>0.000228</td>\n",
              "    </tr>\n",
              "  </tbody>\n",
              "</table>\n",
              "<p>5 rows × 24 columns</p>\n",
              "</div>\n",
              "      <button class=\"colab-df-convert\" onclick=\"convertToInteractive('df-6a22a270-ec86-406d-ad0a-097cdc9c642a')\"\n",
              "              title=\"Convert this dataframe to an interactive table.\"\n",
              "              style=\"display:none;\">\n",
              "        \n",
              "  <svg xmlns=\"http://www.w3.org/2000/svg\" height=\"24px\"viewBox=\"0 0 24 24\"\n",
              "       width=\"24px\">\n",
              "    <path d=\"M0 0h24v24H0V0z\" fill=\"none\"/>\n",
              "    <path d=\"M18.56 5.44l.94 2.06.94-2.06 2.06-.94-2.06-.94-.94-2.06-.94 2.06-2.06.94zm-11 1L8.5 8.5l.94-2.06 2.06-.94-2.06-.94L8.5 2.5l-.94 2.06-2.06.94zm10 10l.94 2.06.94-2.06 2.06-.94-2.06-.94-.94-2.06-.94 2.06-2.06.94z\"/><path d=\"M17.41 7.96l-1.37-1.37c-.4-.4-.92-.59-1.43-.59-.52 0-1.04.2-1.43.59L10.3 9.45l-7.72 7.72c-.78.78-.78 2.05 0 2.83L4 21.41c.39.39.9.59 1.41.59.51 0 1.02-.2 1.41-.59l7.78-7.78 2.81-2.81c.8-.78.8-2.07 0-2.86zM5.41 20L4 18.59l7.72-7.72 1.47 1.35L5.41 20z\"/>\n",
              "  </svg>\n",
              "      </button>\n",
              "      \n",
              "  <style>\n",
              "    .colab-df-container {\n",
              "      display:flex;\n",
              "      flex-wrap:wrap;\n",
              "      gap: 12px;\n",
              "    }\n",
              "\n",
              "    .colab-df-convert {\n",
              "      background-color: #E8F0FE;\n",
              "      border: none;\n",
              "      border-radius: 50%;\n",
              "      cursor: pointer;\n",
              "      display: none;\n",
              "      fill: #1967D2;\n",
              "      height: 32px;\n",
              "      padding: 0 0 0 0;\n",
              "      width: 32px;\n",
              "    }\n",
              "\n",
              "    .colab-df-convert:hover {\n",
              "      background-color: #E2EBFA;\n",
              "      box-shadow: 0px 1px 2px rgba(60, 64, 67, 0.3), 0px 1px 3px 1px rgba(60, 64, 67, 0.15);\n",
              "      fill: #174EA6;\n",
              "    }\n",
              "\n",
              "    [theme=dark] .colab-df-convert {\n",
              "      background-color: #3B4455;\n",
              "      fill: #D2E3FC;\n",
              "    }\n",
              "\n",
              "    [theme=dark] .colab-df-convert:hover {\n",
              "      background-color: #434B5C;\n",
              "      box-shadow: 0px 1px 3px 1px rgba(0, 0, 0, 0.15);\n",
              "      filter: drop-shadow(0px 1px 2px rgba(0, 0, 0, 0.3));\n",
              "      fill: #FFFFFF;\n",
              "    }\n",
              "  </style>\n",
              "\n",
              "      <script>\n",
              "        const buttonEl =\n",
              "          document.querySelector('#df-6a22a270-ec86-406d-ad0a-097cdc9c642a button.colab-df-convert');\n",
              "        buttonEl.style.display =\n",
              "          google.colab.kernel.accessAllowed ? 'block' : 'none';\n",
              "\n",
              "        async function convertToInteractive(key) {\n",
              "          const element = document.querySelector('#df-6a22a270-ec86-406d-ad0a-097cdc9c642a');\n",
              "          const dataTable =\n",
              "            await google.colab.kernel.invokeFunction('convertToInteractive',\n",
              "                                                     [key], {});\n",
              "          if (!dataTable) return;\n",
              "\n",
              "          const docLinkHtml = 'Like what you see? Visit the ' +\n",
              "            '<a target=\"_blank\" href=https://colab.research.google.com/notebooks/data_table.ipynb>data table notebook</a>'\n",
              "            + ' to learn more about interactive tables.';\n",
              "          element.innerHTML = '';\n",
              "          dataTable['output_type'] = 'display_data';\n",
              "          await google.colab.output.renderOutput(dataTable, element);\n",
              "          const docLink = document.createElement('div');\n",
              "          docLink.innerHTML = docLinkHtml;\n",
              "          element.appendChild(docLink);\n",
              "        }\n",
              "      </script>\n",
              "    </div>\n",
              "  </div>\n",
              "  "
            ]
          },
          "metadata": {},
          "execution_count": 118
        }
      ]
    },
    {
      "cell_type": "code",
      "source": [
        "#Accuracy best score\n",
        "grid_Rf.best_score_"
      ],
      "metadata": {
        "colab": {
          "base_uri": "https://localhost:8080/"
        },
        "id": "x-qXvLJz2VNm",
        "outputId": "9658d410-ac59-471c-d46b-749b3c1f800e"
      },
      "execution_count": 119,
      "outputs": [
        {
          "output_type": "execute_result",
          "data": {
            "text/plain": [
              "0.8310975875827866"
            ]
          },
          "metadata": {},
          "execution_count": 119
        }
      ]
    },
    {
      "cell_type": "code",
      "source": [
        "#best Params\n",
        "grid_Rf.best_params_"
      ],
      "metadata": {
        "colab": {
          "base_uri": "https://localhost:8080/"
        },
        "id": "dy4LIAmZ2bJm",
        "outputId": "0553df84-ea3f-4fb1-feb1-9aa8d64d1d3c"
      },
      "execution_count": 120,
      "outputs": [
        {
          "output_type": "execute_result",
          "data": {
            "text/plain": [
              "{'criterion': 'entropy',\n",
              " 'max_depth': 10,\n",
              " 'min_samples_leaf': 50,\n",
              " 'min_samples_split': 50}"
            ]
          },
          "metadata": {},
          "execution_count": 120
        }
      ]
    },
    {
      "cell_type": "code",
      "source": [
        "Best_Rf_Grid = grid_Rf.best_estimator_"
      ],
      "metadata": {
        "id": "8sTVFTu72mBw"
      },
      "execution_count": 121,
      "outputs": []
    },
    {
      "cell_type": "code",
      "source": [
        "Best_Rf_Grid"
      ],
      "metadata": {
        "colab": {
          "base_uri": "https://localhost:8080/"
        },
        "id": "9CqvH-7A2uTq",
        "outputId": "5210d680-f712-4df8-87d4-b97235299b3e"
      },
      "execution_count": 122,
      "outputs": [
        {
          "output_type": "execute_result",
          "data": {
            "text/plain": [
              "RandomForestClassifier(criterion='entropy', max_depth=10, min_samples_leaf=50,\n",
              "                       min_samples_split=50)"
            ]
          },
          "metadata": {},
          "execution_count": 122
        }
      ]
    },
    {
      "cell_type": "code",
      "source": [
        "Best_Rf_Grid.fit(X_train , Y_train)\n",
        "y_pred_Rf_best = Best_Rf_Grid.predict(X_test)"
      ],
      "metadata": {
        "id": "iEByortT3jRP"
      },
      "execution_count": 125,
      "outputs": []
    },
    {
      "cell_type": "code",
      "source": [
        "#Accuracy score of the model \n",
        "metrics.accuracy_score(Y_test, y_pred_Rf_best)"
      ],
      "metadata": {
        "colab": {
          "base_uri": "https://localhost:8080/"
        },
        "id": "GV9JdYDd3Otg",
        "outputId": "f2ef28c5-81c3-489e-ee92-c035a786dbc4"
      },
      "execution_count": 127,
      "outputs": [
        {
          "output_type": "execute_result",
          "data": {
            "text/plain": [
              "0.8300666666666666"
            ]
          },
          "metadata": {},
          "execution_count": 127
        }
      ]
    },
    {
      "cell_type": "code",
      "source": [
        "#Printing and plotting the confusion_matrix\n",
        "\n",
        "print(metrics.confusion_matrix(Y_test, y_pred_Rf_best))\n",
        "metrics.plot_confusion_matrix(Best_Rf_Grid, X_test, Y_test)\n",
        "plt.show()"
      ],
      "metadata": {
        "colab": {
          "base_uri": "https://localhost:8080/",
          "height": 314
        },
        "id": "TCkAaIKN2wPu",
        "outputId": "b7d9ae27-b207-460d-a22a-dc9854035130"
      },
      "execution_count": 130,
      "outputs": [
        {
          "output_type": "stream",
          "name": "stdout",
          "text": [
            "[[24860    20]\n",
            " [ 5078    42]]\n"
          ]
        },
        {
          "output_type": "display_data",
          "data": {
            "text/plain": [
              "<Figure size 432x288 with 2 Axes>"
            ],
            "image/png": "[encoded data removed]"
          },
          "metadata": {
            "needs_background": "light"
          }
        }
      ]
    },
    {
      "cell_type": "code",
      "source": [
        "#precision score\n",
        "\n",
        "print('Precision', metrics.precision_score(Y_test, y_pred_Rf_best))\n"
      ],
      "metadata": {
        "colab": {
          "base_uri": "https://localhost:8080/"
        },
        "id": "Vt4DPN1I3MNT",
        "outputId": "8f509c71-3a50-4134-d100-3401edd38ff0"
      },
      "execution_count": 133,
      "outputs": [
        {
          "output_type": "stream",
          "name": "stdout",
          "text": [
            "Precision 0.6774193548387096\n"
          ]
        }
      ]
    },
    {
      "cell_type": "code",
      "source": [
        "#Recall \n",
        "print('Recall', recall_score(Y_test,y_pred_Rf_best))"
      ],
      "metadata": {
        "colab": {
          "base_uri": "https://localhost:8080/"
        },
        "id": "TOAM3hkF4RLj",
        "outputId": "1d1312fd-1a0f-4598-9971-9efc867eebf0"
      },
      "execution_count": 135,
      "outputs": [
        {
          "output_type": "stream",
          "name": "stdout",
          "text": [
            "Recall 0.008203125\n"
          ]
        }
      ]
    },
    {
      "cell_type": "code",
      "source": [
        "metrics.plot_roc_curve(Best_Rf_Grid, X_test,Y_test)\n",
        "plt.show()"
      ],
      "metadata": {
        "colab": {
          "base_uri": "https://localhost:8080/",
          "height": 279
        },
        "id": "8eS9ECQ04mbm",
        "outputId": "2babd8bb-805b-413d-9b48-40e41b59cfa7"
      },
      "execution_count": 136,
      "outputs": [
        {
          "output_type": "display_data",
          "data": {
            "text/plain": [
              "<Figure size 432x288 with 1 Axes>"
            ],
            "image/png": "[encoded data removed]"
          },
          "metadata": {
            "needs_background": "light"
          }
        }
      ]
    },
    {
      "cell_type": "code",
      "source": [],
      "metadata": {
        "id": "4Ye4VuLM4wsj"
      },
      "execution_count": null,
      "outputs": []
    },
    {
      "cell_type": "markdown",
      "source": [
        "- Random forest can perform both regression and classification tasks.\n",
        "- A random forest produces good predictions that can be understood easily.\n",
        "- It can handle large datasets efficiently.\n",
        "- The Random Forest algorithm provides a high level of accuracy in predicting outcomes over the decision tree algorithm.\n",
        "- Hence the Random forest was chosen as the third model for the given dataset."
      ],
      "metadata": {
        "id": "YSsSpvkm4zc0"
      }
    },
    {
      "cell_type": "markdown",
      "source": [
        "- Decision Tree has also been used in the given dataset as it is a classification problem.\n",
        "- Decision Trees are a non-parametric supervised learning method used for classification and regression.\n",
        "- Decision Trees are simple to understand and to interpret. Reqires little data preparation.\n",
        "- DTrees are able to handle both numerical and categorical data.\n"
      ],
      "metadata": {
        "id": "B-A38UFX4zfQ"
      }
    },
    {
      "cell_type": "markdown",
      "source": [
        "- Logistic regression is a classification algorithm used to find the probability of event success and event failure. It is used when the dependent variable is binary(0/1, True/False, Yes/No) in nature. \n",
        "- Logistic regression is easier to implement, interpret, and very efficient to train.\n",
        "- It makes no assumptions about distributions of classes in feature space. But on the other hand.\n"
      ],
      "metadata": {
        "id": "4jKfARZV4zhd"
      }
    },
    {
      "cell_type": "markdown",
      "source": [],
      "metadata": {
        "id": "EQGBQrNb4zj-"
      }
    },
    {
      "cell_type": "markdown",
      "source": [],
      "metadata": {
        "id": "X5_qNLUc4znX"
      }
    }
  ]
}